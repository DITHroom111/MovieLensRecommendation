{
 "cells": [
  {
   "cell_type": "code",
   "execution_count": 1,
   "metadata": {},
   "outputs": [],
   "source": [
    "import pandas as pd\n",
    "import numpy as np\n",
    "import matplotlib.pyplot as plt\n",
    "import seaborn as sns\n",
    "sns.set()\n",
    "%matplotlib inline"
   ]
  },
  {
   "cell_type": "code",
   "execution_count": 2,
   "metadata": {},
   "outputs": [
    {
     "data": {
      "text/html": [
       "<div>\n",
       "<style scoped>\n",
       "    .dataframe tbody tr th:only-of-type {\n",
       "        vertical-align: middle;\n",
       "    }\n",
       "\n",
       "    .dataframe tbody tr th {\n",
       "        vertical-align: top;\n",
       "    }\n",
       "\n",
       "    .dataframe thead th {\n",
       "        text-align: right;\n",
       "    }\n",
       "</style>\n",
       "<table border=\"1\" class=\"dataframe\">\n",
       "  <thead>\n",
       "    <tr style=\"text-align: right;\">\n",
       "      <th></th>\n",
       "      <th>imdb_id</th>\n",
       "      <th>text</th>\n",
       "    </tr>\n",
       "  </thead>\n",
       "  <tbody>\n",
       "    <tr>\n",
       "      <th>0</th>\n",
       "      <td>tt0280381</td>\n",
       "      <td>The story is about three young boys, Leche, Ja...</td>\n",
       "    </tr>\n",
       "    <tr>\n",
       "      <th>1</th>\n",
       "      <td>tt0087289</td>\n",
       "      <td>An obsessed scientist assembles a living being...</td>\n",
       "    </tr>\n",
       "    <tr>\n",
       "      <th>2</th>\n",
       "      <td>tt0052393</td>\n",
       "      <td>The Breslins (Jake, Emma, three boys, and nubi...</td>\n",
       "    </tr>\n",
       "    <tr>\n",
       "      <th>3</th>\n",
       "      <td>tt0213802</td>\n",
       "      <td>Two guys, handsome William and his side kick L...</td>\n",
       "    </tr>\n",
       "    <tr>\n",
       "      <th>4</th>\n",
       "      <td>tt0106356</td>\n",
       "      <td>F. Ross Johnson, the CEO of RJR Nabisco decide...</td>\n",
       "    </tr>\n",
       "  </tbody>\n",
       "</table>\n",
       "</div>"
      ],
      "text/plain": [
       "     imdb_id                                               text\n",
       "0  tt0280381  The story is about three young boys, Leche, Ja...\n",
       "1  tt0087289  An obsessed scientist assembles a living being...\n",
       "2  tt0052393  The Breslins (Jake, Emma, three boys, and nubi...\n",
       "3  tt0213802  Two guys, handsome William and his side kick L...\n",
       "4  tt0106356  F. Ross Johnson, the CEO of RJR Nabisco decide..."
      ]
     },
     "execution_count": 2,
     "metadata": {},
     "output_type": "execute_result"
    }
   ],
   "source": [
    "imdb_texts = pd.read_csv('texts.tsv', sep='\\t')\n",
    "imdb_texts.columns =['imdb_id', 'text']\n",
    "imdb_texts.head()"
   ]
  },
  {
   "cell_type": "code",
   "execution_count": 3,
   "metadata": {},
   "outputs": [
    {
     "data": {
      "text/plain": [
       "imdb_id    17125\n",
       "text       17125\n",
       "dtype: int64"
      ]
     },
     "execution_count": 3,
     "metadata": {},
     "output_type": "execute_result"
    }
   ],
   "source": [
    "imdb_texts.count()"
   ]
  },
  {
   "cell_type": "code",
   "execution_count": 4,
   "metadata": {},
   "outputs": [
    {
     "name": "stdout",
     "output_type": "stream",
     "text": [
      "\u001b[34mMovieLensData\u001b[m\u001b[m   Untitled.ipynb  \u001b[34msrc\u001b[m\u001b[m             tmp.csv\r\n",
      "README.md       movies_imdb.csv texts.tsv\r\n"
     ]
    }
   ],
   "source": [
    "!ls"
   ]
  },
  {
   "cell_type": "code",
   "execution_count": 5,
   "metadata": {},
   "outputs": [],
   "source": [
    "imdb_dataset = pd.read_csv('movies_imdb.csv')"
   ]
  },
  {
   "cell_type": "code",
   "execution_count": 6,
   "metadata": {
    "scrolled": false
   },
   "outputs": [
    {
     "data": {
      "text/html": [
       "<div>\n",
       "<style scoped>\n",
       "    .dataframe tbody tr th:only-of-type {\n",
       "        vertical-align: middle;\n",
       "    }\n",
       "\n",
       "    .dataframe tbody tr th {\n",
       "        vertical-align: top;\n",
       "    }\n",
       "\n",
       "    .dataframe thead th {\n",
       "        text-align: right;\n",
       "    }\n",
       "</style>\n",
       "<table border=\"1\" class=\"dataframe\">\n",
       "  <thead>\n",
       "    <tr style=\"text-align: right;\">\n",
       "      <th></th>\n",
       "      <th>Unnamed: 0</th>\n",
       "      <th>tconst</th>\n",
       "      <th>titleType</th>\n",
       "      <th>primaryTitle</th>\n",
       "      <th>originalTitle</th>\n",
       "      <th>isAdult</th>\n",
       "      <th>startYear</th>\n",
       "      <th>endYear</th>\n",
       "      <th>runtimeMinutes</th>\n",
       "      <th>genres_imdb</th>\n",
       "      <th>movieId</th>\n",
       "      <th>genres</th>\n",
       "      <th>nconst</th>\n",
       "      <th>averageRating</th>\n",
       "      <th>numVotes</th>\n",
       "    </tr>\n",
       "  </thead>\n",
       "  <tbody>\n",
       "    <tr>\n",
       "      <th>0</th>\n",
       "      <td>\"Great Performances\" Cats (1998)</td>\n",
       "      <td>NaN</td>\n",
       "      <td>NaN</td>\n",
       "      <td>NaN</td>\n",
       "      <td>NaN</td>\n",
       "      <td>NaN</td>\n",
       "      <td>NaN</td>\n",
       "      <td>NaN</td>\n",
       "      <td>NaN</td>\n",
       "      <td>NaN</td>\n",
       "      <td>51372</td>\n",
       "      <td>Musical</td>\n",
       "      <td>NaN</td>\n",
       "      <td>NaN</td>\n",
       "      <td>NaN</td>\n",
       "    </tr>\n",
       "    <tr>\n",
       "      <th>1</th>\n",
       "      <td>#chicagoGirl: The Social Network Takes on a Di...</td>\n",
       "      <td>tt2607968</td>\n",
       "      <td>movie</td>\n",
       "      <td>#chicagoGirl: The Social Network Takes on a Di...</td>\n",
       "      <td>#chicagoGirl: The Social Network Takes on a Di...</td>\n",
       "      <td>0.0</td>\n",
       "      <td>2013.0</td>\n",
       "      <td>\\N</td>\n",
       "      <td>74</td>\n",
       "      <td>Action,Biography,Documentary</td>\n",
       "      <td>111878</td>\n",
       "      <td>Documentary</td>\n",
       "      <td>nm1423462nm8647124nm8647125nm5558176nm8647126n...</td>\n",
       "      <td>7.1</td>\n",
       "      <td>220.0</td>\n",
       "    </tr>\n",
       "    <tr>\n",
       "      <th>2</th>\n",
       "      <td>$ (Dollars) (1971)</td>\n",
       "      <td>NaN</td>\n",
       "      <td>NaN</td>\n",
       "      <td>NaN</td>\n",
       "      <td>NaN</td>\n",
       "      <td>NaN</td>\n",
       "      <td>NaN</td>\n",
       "      <td>NaN</td>\n",
       "      <td>NaN</td>\n",
       "      <td>NaN</td>\n",
       "      <td>85177</td>\n",
       "      <td>Comedy|Crime|Drama</td>\n",
       "      <td>NaN</td>\n",
       "      <td>NaN</td>\n",
       "      <td>NaN</td>\n",
       "    </tr>\n",
       "    <tr>\n",
       "      <th>3</th>\n",
       "      <td>$5 a Day (2008)</td>\n",
       "      <td>tt1024733</td>\n",
       "      <td>movie</td>\n",
       "      <td>$5 a Day</td>\n",
       "      <td>$5 a Day</td>\n",
       "      <td>0.0</td>\n",
       "      <td>2008.0</td>\n",
       "      <td>\\N</td>\n",
       "      <td>98</td>\n",
       "      <td>Comedy,Drama</td>\n",
       "      <td>80361</td>\n",
       "      <td>Comedy|Drama</td>\n",
       "      <td>nm0416164nm0000686nm0005273nm0000232nm0001002n...</td>\n",
       "      <td>6.3</td>\n",
       "      <td>2987.0</td>\n",
       "    </tr>\n",
       "    <tr>\n",
       "      <th>4</th>\n",
       "      <td>$9.99 (2008)</td>\n",
       "      <td>tt0790799</td>\n",
       "      <td>movie</td>\n",
       "      <td>$9.99</td>\n",
       "      <td>$9.99</td>\n",
       "      <td>0.0</td>\n",
       "      <td>2008.0</td>\n",
       "      <td>\\N</td>\n",
       "      <td>78</td>\n",
       "      <td>Animation,Drama,Fantasy</td>\n",
       "      <td>74486</td>\n",
       "      <td>Animation</td>\n",
       "      <td>nm2861782nm0001691nm0001439nm0426170nm0653222n...</td>\n",
       "      <td>6.7</td>\n",
       "      <td>3064.0</td>\n",
       "    </tr>\n",
       "  </tbody>\n",
       "</table>\n",
       "</div>"
      ],
      "text/plain": [
       "                                          Unnamed: 0     tconst titleType  \\\n",
       "0                   \"Great Performances\" Cats (1998)        NaN       NaN   \n",
       "1  #chicagoGirl: The Social Network Takes on a Di...  tt2607968     movie   \n",
       "2                                 $ (Dollars) (1971)        NaN       NaN   \n",
       "3                                    $5 a Day (2008)  tt1024733     movie   \n",
       "4                                       $9.99 (2008)  tt0790799     movie   \n",
       "\n",
       "                                        primaryTitle  \\\n",
       "0                                                NaN   \n",
       "1  #chicagoGirl: The Social Network Takes on a Di...   \n",
       "2                                                NaN   \n",
       "3                                           $5 a Day   \n",
       "4                                              $9.99   \n",
       "\n",
       "                                       originalTitle  isAdult  startYear  \\\n",
       "0                                                NaN      NaN        NaN   \n",
       "1  #chicagoGirl: The Social Network Takes on a Di...      0.0     2013.0   \n",
       "2                                                NaN      NaN        NaN   \n",
       "3                                           $5 a Day      0.0     2008.0   \n",
       "4                                              $9.99      0.0     2008.0   \n",
       "\n",
       "  endYear runtimeMinutes                   genres_imdb  movieId  \\\n",
       "0     NaN            NaN                           NaN    51372   \n",
       "1      \\N             74  Action,Biography,Documentary   111878   \n",
       "2     NaN            NaN                           NaN    85177   \n",
       "3      \\N             98                  Comedy,Drama    80361   \n",
       "4      \\N             78       Animation,Drama,Fantasy    74486   \n",
       "\n",
       "               genres                                             nconst  \\\n",
       "0             Musical                                                NaN   \n",
       "1         Documentary  nm1423462nm8647124nm8647125nm5558176nm8647126n...   \n",
       "2  Comedy|Crime|Drama                                                NaN   \n",
       "3        Comedy|Drama  nm0416164nm0000686nm0005273nm0000232nm0001002n...   \n",
       "4           Animation  nm2861782nm0001691nm0001439nm0426170nm0653222n...   \n",
       "\n",
       "   averageRating  numVotes  \n",
       "0            NaN       NaN  \n",
       "1            7.1     220.0  \n",
       "2            NaN       NaN  \n",
       "3            6.3    2987.0  \n",
       "4            6.7    3064.0  "
      ]
     },
     "execution_count": 6,
     "metadata": {},
     "output_type": "execute_result"
    }
   ],
   "source": [
    "imdb_dataset.head()"
   ]
  },
  {
   "cell_type": "code",
   "execution_count": 7,
   "metadata": {},
   "outputs": [
    {
     "data": {
      "text/plain": [
       "(Index(['imdb_id', 'text'], dtype='object'),\n",
       " Index(['Unnamed: 0', 'tconst', 'titleType', 'primaryTitle', 'originalTitle',\n",
       "        'isAdult', 'startYear', 'endYear', 'runtimeMinutes', 'genres_imdb',\n",
       "        'movieId', 'genres', 'nconst', 'averageRating', 'numVotes'],\n",
       "       dtype='object'))"
      ]
     },
     "execution_count": 7,
     "metadata": {},
     "output_type": "execute_result"
    }
   ],
   "source": [
    "imdb_texts.columns, imdb_dataset.columns"
   ]
  },
  {
   "cell_type": "code",
   "execution_count": 8,
   "metadata": {},
   "outputs": [],
   "source": [
    "imdb_with_texts = imdb_dataset.join(imdb_texts.set_index('imdb_id'), on='tconst')"
   ]
  },
  {
   "cell_type": "code",
   "execution_count": 9,
   "metadata": {},
   "outputs": [
    {
     "data": {
      "text/plain": [
       "Unnamed: 0        32402\n",
       "tconst            20556\n",
       "titleType         20556\n",
       "primaryTitle      20556\n",
       "originalTitle     20556\n",
       "isAdult           20556\n",
       "startYear         20556\n",
       "endYear           20556\n",
       "runtimeMinutes    20556\n",
       "genres_imdb       20556\n",
       "movieId           32402\n",
       "genres            32402\n",
       "nconst            20190\n",
       "averageRating     16667\n",
       "numVotes          16667\n",
       "dtype: int64"
      ]
     },
     "execution_count": 9,
     "metadata": {},
     "output_type": "execute_result"
    }
   ],
   "source": [
    "imdb_dataset.count()"
   ]
  },
  {
   "cell_type": "code",
   "execution_count": 10,
   "metadata": {},
   "outputs": [
    {
     "data": {
      "text/plain": [
       "Unnamed: 0        32402\n",
       "tconst            20556\n",
       "titleType         20556\n",
       "primaryTitle      20556\n",
       "originalTitle     20556\n",
       "isAdult           20556\n",
       "startYear         20556\n",
       "endYear           20556\n",
       "runtimeMinutes    20556\n",
       "genres_imdb       20556\n",
       "movieId           32402\n",
       "genres            32402\n",
       "nconst            20190\n",
       "averageRating     16667\n",
       "numVotes          16667\n",
       "text              17166\n",
       "dtype: int64"
      ]
     },
     "execution_count": 10,
     "metadata": {},
     "output_type": "execute_result"
    }
   ],
   "source": [
    "imdb_with_texts.count()"
   ]
  },
  {
   "cell_type": "code",
   "execution_count": 11,
   "metadata": {},
   "outputs": [
    {
     "data": {
      "text/html": [
       "<div>\n",
       "<style scoped>\n",
       "    .dataframe tbody tr th:only-of-type {\n",
       "        vertical-align: middle;\n",
       "    }\n",
       "\n",
       "    .dataframe tbody tr th {\n",
       "        vertical-align: top;\n",
       "    }\n",
       "\n",
       "    .dataframe thead th {\n",
       "        text-align: right;\n",
       "    }\n",
       "</style>\n",
       "<table border=\"1\" class=\"dataframe\">\n",
       "  <thead>\n",
       "    <tr style=\"text-align: right;\">\n",
       "      <th></th>\n",
       "      <th>Unnamed: 0</th>\n",
       "      <th>tconst</th>\n",
       "      <th>titleType</th>\n",
       "      <th>primaryTitle</th>\n",
       "      <th>originalTitle</th>\n",
       "      <th>isAdult</th>\n",
       "      <th>startYear</th>\n",
       "      <th>endYear</th>\n",
       "      <th>runtimeMinutes</th>\n",
       "      <th>genres_imdb</th>\n",
       "      <th>movieId</th>\n",
       "      <th>genres</th>\n",
       "      <th>nconst</th>\n",
       "      <th>averageRating</th>\n",
       "      <th>numVotes</th>\n",
       "      <th>text</th>\n",
       "    </tr>\n",
       "  </thead>\n",
       "  <tbody>\n",
       "    <tr>\n",
       "      <th>0</th>\n",
       "      <td>\"Great Performances\" Cats (1998)</td>\n",
       "      <td>NaN</td>\n",
       "      <td>NaN</td>\n",
       "      <td>NaN</td>\n",
       "      <td>NaN</td>\n",
       "      <td>NaN</td>\n",
       "      <td>NaN</td>\n",
       "      <td>NaN</td>\n",
       "      <td>NaN</td>\n",
       "      <td>NaN</td>\n",
       "      <td>51372</td>\n",
       "      <td>Musical</td>\n",
       "      <td>NaN</td>\n",
       "      <td>NaN</td>\n",
       "      <td>NaN</td>\n",
       "      <td>NaN</td>\n",
       "    </tr>\n",
       "    <tr>\n",
       "      <th>1</th>\n",
       "      <td>#chicagoGirl: The Social Network Takes on a Di...</td>\n",
       "      <td>tt2607968</td>\n",
       "      <td>movie</td>\n",
       "      <td>#chicagoGirl: The Social Network Takes on a Di...</td>\n",
       "      <td>#chicagoGirl: The Social Network Takes on a Di...</td>\n",
       "      <td>0.0</td>\n",
       "      <td>2013.0</td>\n",
       "      <td>\\N</td>\n",
       "      <td>74</td>\n",
       "      <td>Action,Biography,Documentary</td>\n",
       "      <td>111878</td>\n",
       "      <td>Documentary</td>\n",
       "      <td>nm1423462nm8647124nm8647125nm5558176nm8647126n...</td>\n",
       "      <td>7.1</td>\n",
       "      <td>220.0</td>\n",
       "      <td>A socially networked group of unarmed activist...</td>\n",
       "    </tr>\n",
       "    <tr>\n",
       "      <th>2</th>\n",
       "      <td>$ (Dollars) (1971)</td>\n",
       "      <td>NaN</td>\n",
       "      <td>NaN</td>\n",
       "      <td>NaN</td>\n",
       "      <td>NaN</td>\n",
       "      <td>NaN</td>\n",
       "      <td>NaN</td>\n",
       "      <td>NaN</td>\n",
       "      <td>NaN</td>\n",
       "      <td>NaN</td>\n",
       "      <td>85177</td>\n",
       "      <td>Comedy|Crime|Drama</td>\n",
       "      <td>NaN</td>\n",
       "      <td>NaN</td>\n",
       "      <td>NaN</td>\n",
       "      <td>NaN</td>\n",
       "    </tr>\n",
       "    <tr>\n",
       "      <th>3</th>\n",
       "      <td>$5 a Day (2008)</td>\n",
       "      <td>tt1024733</td>\n",
       "      <td>movie</td>\n",
       "      <td>$5 a Day</td>\n",
       "      <td>$5 a Day</td>\n",
       "      <td>0.0</td>\n",
       "      <td>2008.0</td>\n",
       "      <td>\\N</td>\n",
       "      <td>98</td>\n",
       "      <td>Comedy,Drama</td>\n",
       "      <td>80361</td>\n",
       "      <td>Comedy|Drama</td>\n",
       "      <td>nm0416164nm0000686nm0005273nm0000232nm0001002n...</td>\n",
       "      <td>6.3</td>\n",
       "      <td>2987.0</td>\n",
       "      <td>In L.A., Flynn Parker loses his job as a healt...</td>\n",
       "    </tr>\n",
       "    <tr>\n",
       "      <th>4</th>\n",
       "      <td>$9.99 (2008)</td>\n",
       "      <td>tt0790799</td>\n",
       "      <td>movie</td>\n",
       "      <td>$9.99</td>\n",
       "      <td>$9.99</td>\n",
       "      <td>0.0</td>\n",
       "      <td>2008.0</td>\n",
       "      <td>\\N</td>\n",
       "      <td>78</td>\n",
       "      <td>Animation,Drama,Fantasy</td>\n",
       "      <td>74486</td>\n",
       "      <td>Animation</td>\n",
       "      <td>nm2861782nm0001691nm0001439nm0426170nm0653222n...</td>\n",
       "      <td>6.7</td>\n",
       "      <td>3064.0</td>\n",
       "      <td>A stop-motion animated story about people livi...</td>\n",
       "    </tr>\n",
       "  </tbody>\n",
       "</table>\n",
       "</div>"
      ],
      "text/plain": [
       "                                          Unnamed: 0     tconst titleType  \\\n",
       "0                   \"Great Performances\" Cats (1998)        NaN       NaN   \n",
       "1  #chicagoGirl: The Social Network Takes on a Di...  tt2607968     movie   \n",
       "2                                 $ (Dollars) (1971)        NaN       NaN   \n",
       "3                                    $5 a Day (2008)  tt1024733     movie   \n",
       "4                                       $9.99 (2008)  tt0790799     movie   \n",
       "\n",
       "                                        primaryTitle  \\\n",
       "0                                                NaN   \n",
       "1  #chicagoGirl: The Social Network Takes on a Di...   \n",
       "2                                                NaN   \n",
       "3                                           $5 a Day   \n",
       "4                                              $9.99   \n",
       "\n",
       "                                       originalTitle  isAdult  startYear  \\\n",
       "0                                                NaN      NaN        NaN   \n",
       "1  #chicagoGirl: The Social Network Takes on a Di...      0.0     2013.0   \n",
       "2                                                NaN      NaN        NaN   \n",
       "3                                           $5 a Day      0.0     2008.0   \n",
       "4                                              $9.99      0.0     2008.0   \n",
       "\n",
       "  endYear runtimeMinutes                   genres_imdb  movieId  \\\n",
       "0     NaN            NaN                           NaN    51372   \n",
       "1      \\N             74  Action,Biography,Documentary   111878   \n",
       "2     NaN            NaN                           NaN    85177   \n",
       "3      \\N             98                  Comedy,Drama    80361   \n",
       "4      \\N             78       Animation,Drama,Fantasy    74486   \n",
       "\n",
       "               genres                                             nconst  \\\n",
       "0             Musical                                                NaN   \n",
       "1         Documentary  nm1423462nm8647124nm8647125nm5558176nm8647126n...   \n",
       "2  Comedy|Crime|Drama                                                NaN   \n",
       "3        Comedy|Drama  nm0416164nm0000686nm0005273nm0000232nm0001002n...   \n",
       "4           Animation  nm2861782nm0001691nm0001439nm0426170nm0653222n...   \n",
       "\n",
       "   averageRating  numVotes                                               text  \n",
       "0            NaN       NaN                                                NaN  \n",
       "1            7.1     220.0  A socially networked group of unarmed activist...  \n",
       "2            NaN       NaN                                                NaN  \n",
       "3            6.3    2987.0  In L.A., Flynn Parker loses his job as a healt...  \n",
       "4            6.7    3064.0  A stop-motion animated story about people livi...  "
      ]
     },
     "execution_count": 11,
     "metadata": {},
     "output_type": "execute_result"
    }
   ],
   "source": [
    "imdb_with_texts.head()"
   ]
  },
  {
   "cell_type": "code",
   "execution_count": 12,
   "metadata": {},
   "outputs": [
    {
     "name": "stdout",
     "output_type": "stream",
     "text": [
      "\u001b[31mmovies.csv\u001b[m\u001b[m\r\n",
      "\u001b[31mratings_dev.csv\u001b[m\u001b[m\r\n",
      "\u001b[31mratings_dev_with_ALS_predictions.csv\u001b[m\u001b[m\r\n",
      "\u001b[31mratings_train_A.csv\u001b[m\u001b[m\r\n",
      "\u001b[31mratings_train_B.csv\u001b[m\u001b[m\r\n",
      "\u001b[31mratings_train_with_ALS_predictions_u_0_m_0.csv\u001b[m\u001b[m\r\n",
      "\u001b[31mratings_train_with_ALS_predictions_u_0_m_1.csv\u001b[m\u001b[m\r\n",
      "\u001b[31mratings_train_with_ALS_predictions_u_0_m_2.csv\u001b[m\u001b[m\r\n",
      "\u001b[31mratings_train_with_ALS_predictions_u_1_m_0.csv\u001b[m\u001b[m\r\n",
      "\u001b[31mratings_train_with_ALS_predictions_u_1_m_1.csv\u001b[m\u001b[m\r\n",
      "\u001b[31mratings_train_with_ALS_predictions_u_1_m_2.csv\u001b[m\u001b[m\r\n",
      "\u001b[31mratings_train_with_ALS_predictions_u_2_m_0.csv\u001b[m\u001b[m\r\n",
      "\u001b[31mratings_train_with_ALS_predictions_u_2_m_1.csv\u001b[m\u001b[m\r\n",
      "\u001b[31mratings_train_with_ALS_predictions_u_2_m_2.csv\u001b[m\u001b[m\r\n",
      "\u001b[34mwith actor ALS\u001b[m\u001b[m\r\n"
     ]
    }
   ],
   "source": [
    "!ls MovieLensData"
   ]
  },
  {
   "cell_type": "code",
   "execution_count": 13,
   "metadata": {},
   "outputs": [],
   "source": [
    "movielens_parts = [\n",
    "    pd.read_csv('MovieLensData/ratings_train_with_ALS_predictions_u_{}_m_{}.csv'.format(i, j)) for i in range(3) for j in range(3)\n",
    "]"
   ]
  },
  {
   "cell_type": "code",
   "execution_count": 14,
   "metadata": {},
   "outputs": [],
   "source": [
    "movielens_parts_with_texts = []\n",
    "for i, x in enumerate(movielens_parts):\n",
    "    part = x.join(imdb_with_texts.set_index('movieId'), on='movieId')\n",
    "    user_text = part[['userId', 'text']].groupby('userId')['text'].apply(\n",
    "        lambda text: ''.join(text.to_string(index=False))\n",
    "    ).str.replace('(\\\\n)', '').reset_index()\n",
    "    user_text.rename(columns={'text': 'user_text'}, inplace=True)\n",
    "    movielens_parts_with_texts.append(\n",
    "        part.join(user_text.set_index('userId'), on='userId')\n",
    "    )"
   ]
  },
  {
   "cell_type": "code",
   "execution_count": 15,
   "metadata": {},
   "outputs": [],
   "source": [
    "# for i, x in enumerate(movielens_parts_with_texts):\n",
    "#     a, b = i // 3, i % 3\n",
    "#     x.to_csv('ratings_train_with_ALS_predictions_with_texts_u_{}_m_{}.csv'.format(a, b))"
   ]
  },
  {
   "cell_type": "code",
   "execution_count": 16,
   "metadata": {},
   "outputs": [],
   "source": [
    "x = movielens_parts_with_texts[0]"
   ]
  },
  {
   "cell_type": "code",
   "execution_count": 17,
   "metadata": {},
   "outputs": [
    {
     "data": {
      "text/plain": [
       "userId                                                        53501\n",
       "movieId                                                        2551\n",
       "timestamp                                                1042208160\n",
       "rating                                                            5\n",
       "user_movie_ALS                                               3.8931\n",
       "user_genre_ALS                                               3.9427\n",
       "Unnamed: 0                                      Dead Ringers (1988)\n",
       "tconst                                                    tt0094964\n",
       "titleType                                                     movie\n",
       "primaryTitle                                           Dead Ringers\n",
       "originalTitle                                          Dead Ringers\n",
       "isAdult                                                           0\n",
       "startYear                                                      1988\n",
       "endYear                                                          \\N\n",
       "runtimeMinutes                                                  116\n",
       "genres_imdb                                   Drama,Horror,Thriller\n",
       "genres                                        Drama|Horror|Thriller\n",
       "nconst            nm0006290nm0000460nm0000991nm0902794nm0329876n...\n",
       "averageRating                                                   7.3\n",
       "numVotes                                                      37426\n",
       "text              The Mantle brothers are both doctors - both gy...\n",
       "user_text          The Mantle brothers are both doctors - both g...\n",
       "Name: 0, dtype: object"
      ]
     },
     "execution_count": 17,
     "metadata": {},
     "output_type": "execute_result"
    }
   ],
   "source": [
    "x.iloc[0]"
   ]
  },
  {
   "cell_type": "code",
   "execution_count": 18,
   "metadata": {},
   "outputs": [],
   "source": [
    "z = part[['userId', 'rating', 'text']]"
   ]
  },
  {
   "cell_type": "code",
   "execution_count": 19,
   "metadata": {},
   "outputs": [
    {
     "data": {
      "text/plain": [
       "userId    2135248\n",
       "rating    2135248\n",
       "text      1324512\n",
       "dtype: int64"
      ]
     },
     "execution_count": 19,
     "metadata": {},
     "output_type": "execute_result"
    }
   ],
   "source": [
    "z.count()"
   ]
  },
  {
   "cell_type": "code",
   "execution_count": 21,
   "metadata": {},
   "outputs": [
    {
     "data": {
      "text/plain": [
       "3.5407669273077413"
      ]
     },
     "execution_count": 21,
     "metadata": {},
     "output_type": "execute_result"
    }
   ],
   "source": [
    "z.rating.mean()"
   ]
  },
  {
   "cell_type": "code",
   "execution_count": 24,
   "metadata": {},
   "outputs": [
    {
     "data": {
      "text/plain": [
       "userId    1080132\n",
       "rating    1080132\n",
       "text       651410\n",
       "dtype: int64"
      ]
     },
     "execution_count": 24,
     "metadata": {},
     "output_type": "execute_result"
    }
   ],
   "source": [
    "z.where(z.rating > 3.5).count()"
   ]
  },
  {
   "cell_type": "code",
   "execution_count": 26,
   "metadata": {},
   "outputs": [
    {
     "data": {
      "text/html": [
       "<div>\n",
       "<style scoped>\n",
       "    .dataframe tbody tr th:only-of-type {\n",
       "        vertical-align: middle;\n",
       "    }\n",
       "\n",
       "    .dataframe tbody tr th {\n",
       "        vertical-align: top;\n",
       "    }\n",
       "\n",
       "    .dataframe thead th {\n",
       "        text-align: right;\n",
       "    }\n",
       "</style>\n",
       "<table border=\"1\" class=\"dataframe\">\n",
       "  <thead>\n",
       "    <tr style=\"text-align: right;\">\n",
       "      <th></th>\n",
       "      <th>userId</th>\n",
       "      <th>rating</th>\n",
       "      <th>text</th>\n",
       "    </tr>\n",
       "  </thead>\n",
       "  <tbody>\n",
       "    <tr>\n",
       "      <th>0</th>\n",
       "      <td>NaN</td>\n",
       "      <td>NaN</td>\n",
       "      <td>NaN</td>\n",
       "    </tr>\n",
       "    <tr>\n",
       "      <th>1</th>\n",
       "      <td>NaN</td>\n",
       "      <td>NaN</td>\n",
       "      <td>NaN</td>\n",
       "    </tr>\n",
       "    <tr>\n",
       "      <th>2</th>\n",
       "      <td>31350.0</td>\n",
       "      <td>4.0</td>\n",
       "      <td>NaN</td>\n",
       "    </tr>\n",
       "    <tr>\n",
       "      <th>3</th>\n",
       "      <td>NaN</td>\n",
       "      <td>NaN</td>\n",
       "      <td>NaN</td>\n",
       "    </tr>\n",
       "    <tr>\n",
       "      <th>4</th>\n",
       "      <td>NaN</td>\n",
       "      <td>NaN</td>\n",
       "      <td>NaN</td>\n",
       "    </tr>\n",
       "    <tr>\n",
       "      <th>5</th>\n",
       "      <td>92740.0</td>\n",
       "      <td>5.0</td>\n",
       "      <td>NaN</td>\n",
       "    </tr>\n",
       "    <tr>\n",
       "      <th>6</th>\n",
       "      <td>105897.0</td>\n",
       "      <td>4.0</td>\n",
       "      <td>Phoenix office worker Marion Crane is fed up w...</td>\n",
       "    </tr>\n",
       "    <tr>\n",
       "      <th>7</th>\n",
       "      <td>NaN</td>\n",
       "      <td>NaN</td>\n",
       "      <td>NaN</td>\n",
       "    </tr>\n",
       "    <tr>\n",
       "      <th>8</th>\n",
       "      <td>NaN</td>\n",
       "      <td>NaN</td>\n",
       "      <td>NaN</td>\n",
       "    </tr>\n",
       "    <tr>\n",
       "      <th>9</th>\n",
       "      <td>NaN</td>\n",
       "      <td>NaN</td>\n",
       "      <td>NaN</td>\n",
       "    </tr>\n",
       "    <tr>\n",
       "      <th>10</th>\n",
       "      <td>NaN</td>\n",
       "      <td>NaN</td>\n",
       "      <td>NaN</td>\n",
       "    </tr>\n",
       "    <tr>\n",
       "      <th>10</th>\n",
       "      <td>NaN</td>\n",
       "      <td>NaN</td>\n",
       "      <td>NaN</td>\n",
       "    </tr>\n",
       "    <tr>\n",
       "      <th>11</th>\n",
       "      <td>NaN</td>\n",
       "      <td>NaN</td>\n",
       "      <td>NaN</td>\n",
       "    </tr>\n",
       "    <tr>\n",
       "      <th>12</th>\n",
       "      <td>98439.0</td>\n",
       "      <td>4.0</td>\n",
       "      <td>A young family are visited by ghosts in their ...</td>\n",
       "    </tr>\n",
       "    <tr>\n",
       "      <th>13</th>\n",
       "      <td>51376.0</td>\n",
       "      <td>4.0</td>\n",
       "      <td>NaN</td>\n",
       "    </tr>\n",
       "    <tr>\n",
       "      <th>14</th>\n",
       "      <td>65473.0</td>\n",
       "      <td>4.0</td>\n",
       "      <td>NaN</td>\n",
       "    </tr>\n",
       "    <tr>\n",
       "      <th>15</th>\n",
       "      <td>NaN</td>\n",
       "      <td>NaN</td>\n",
       "      <td>NaN</td>\n",
       "    </tr>\n",
       "    <tr>\n",
       "      <th>16</th>\n",
       "      <td>NaN</td>\n",
       "      <td>NaN</td>\n",
       "      <td>NaN</td>\n",
       "    </tr>\n",
       "    <tr>\n",
       "      <th>17</th>\n",
       "      <td>118510.0</td>\n",
       "      <td>4.5</td>\n",
       "      <td>NaN</td>\n",
       "    </tr>\n",
       "    <tr>\n",
       "      <th>18</th>\n",
       "      <td>NaN</td>\n",
       "      <td>NaN</td>\n",
       "      <td>NaN</td>\n",
       "    </tr>\n",
       "  </tbody>\n",
       "</table>\n",
       "</div>"
      ],
      "text/plain": [
       "      userId  rating                                               text\n",
       "0        NaN     NaN                                                NaN\n",
       "1        NaN     NaN                                                NaN\n",
       "2    31350.0     4.0                                                NaN\n",
       "3        NaN     NaN                                                NaN\n",
       "4        NaN     NaN                                                NaN\n",
       "5    92740.0     5.0                                                NaN\n",
       "6   105897.0     4.0  Phoenix office worker Marion Crane is fed up w...\n",
       "7        NaN     NaN                                                NaN\n",
       "8        NaN     NaN                                                NaN\n",
       "9        NaN     NaN                                                NaN\n",
       "10       NaN     NaN                                                NaN\n",
       "10       NaN     NaN                                                NaN\n",
       "11       NaN     NaN                                                NaN\n",
       "12   98439.0     4.0  A young family are visited by ghosts in their ...\n",
       "13   51376.0     4.0                                                NaN\n",
       "14   65473.0     4.0                                                NaN\n",
       "15       NaN     NaN                                                NaN\n",
       "16       NaN     NaN                                                NaN\n",
       "17  118510.0     4.5                                                NaN\n",
       "18       NaN     NaN                                                NaN"
      ]
     },
     "execution_count": 26,
     "metadata": {},
     "output_type": "execute_result"
    }
   ],
   "source": [
    "z.where(z.rating > 3.5).head(20)"
   ]
  },
  {
   "cell_type": "code",
   "execution_count": 20,
   "metadata": {},
   "outputs": [
    {
     "data": {
      "text/html": [
       "<div>\n",
       "<style scoped>\n",
       "    .dataframe tbody tr th:only-of-type {\n",
       "        vertical-align: middle;\n",
       "    }\n",
       "\n",
       "    .dataframe tbody tr th {\n",
       "        vertical-align: top;\n",
       "    }\n",
       "\n",
       "    .dataframe thead th {\n",
       "        text-align: right;\n",
       "    }\n",
       "</style>\n",
       "<table border=\"1\" class=\"dataframe\">\n",
       "  <thead>\n",
       "    <tr style=\"text-align: right;\">\n",
       "      <th></th>\n",
       "      <th>userId</th>\n",
       "    </tr>\n",
       "    <tr>\n",
       "      <th>rating</th>\n",
       "      <th></th>\n",
       "    </tr>\n",
       "  </thead>\n",
       "  <tbody>\n",
       "    <tr>\n",
       "      <th>0.5</th>\n",
       "      <td>69214.149647</td>\n",
       "    </tr>\n",
       "    <tr>\n",
       "      <th>1.0</th>\n",
       "      <td>69304.943942</td>\n",
       "    </tr>\n",
       "    <tr>\n",
       "      <th>1.5</th>\n",
       "      <td>70442.160875</td>\n",
       "    </tr>\n",
       "    <tr>\n",
       "      <th>2.0</th>\n",
       "      <td>69069.583220</td>\n",
       "    </tr>\n",
       "    <tr>\n",
       "      <th>2.5</th>\n",
       "      <td>69341.464872</td>\n",
       "    </tr>\n",
       "    <tr>\n",
       "      <th>3.0</th>\n",
       "      <td>69348.173391</td>\n",
       "    </tr>\n",
       "    <tr>\n",
       "      <th>3.5</th>\n",
       "      <td>69187.442437</td>\n",
       "    </tr>\n",
       "    <tr>\n",
       "      <th>4.0</th>\n",
       "      <td>68809.938959</td>\n",
       "    </tr>\n",
       "    <tr>\n",
       "      <th>4.5</th>\n",
       "      <td>69046.094342</td>\n",
       "    </tr>\n",
       "    <tr>\n",
       "      <th>5.0</th>\n",
       "      <td>68909.664480</td>\n",
       "    </tr>\n",
       "  </tbody>\n",
       "</table>\n",
       "</div>"
      ],
      "text/plain": [
       "              userId\n",
       "rating              \n",
       "0.5     69214.149647\n",
       "1.0     69304.943942\n",
       "1.5     70442.160875\n",
       "2.0     69069.583220\n",
       "2.5     69341.464872\n",
       "3.0     69348.173391\n",
       "3.5     69187.442437\n",
       "4.0     68809.938959\n",
       "4.5     69046.094342\n",
       "5.0     68909.664480"
      ]
     },
     "execution_count": 20,
     "metadata": {},
     "output_type": "execute_result"
    }
   ],
   "source": [
    "z.groupby('rating').agg(np.mean)"
   ]
  },
  {
   "cell_type": "code",
   "execution_count": 27,
   "metadata": {},
   "outputs": [],
   "source": [
    "x = movielens_parts[0]\n",
    "part = x.join(imdb_with_texts.set_index('movieId'), on='movieId')\n",
    "user_text = part[['userId', 'rating', 'text']]\n",
    "user_text = user_text.where(user_text.rating > 3.5).groupby('userId')['text'].apply(\n",
    "    lambda text: ''.join(text.to_string(index=False))\n",
    ").str.replace('(\\\\n)', '').reset_index()\n",
    "user_text.rename(columns={'text': 'user_text'}, inplace=True)\n",
    "part.join(user_text.set_index('userId'), on='userId')\n"
   ]
  },
  {
   "cell_type": "code",
   "execution_count": 28,
   "metadata": {},
   "outputs": [],
   "source": [
    "k = movielens_parts_with_texts[-1]"
   ]
  },
  {
   "cell_type": "code",
   "execution_count": 29,
   "metadata": {},
   "outputs": [
    {
     "data": {
      "text/plain": [
       "userId            2012473\n",
       "movieId           2012473\n",
       "timestamp         2012473\n",
       "rating            2012473\n",
       "user_movie_ALS    2011746\n",
       "user_genre_ALS    2012473\n",
       "Unnamed: 0        2012473\n",
       "tconst            1514769\n",
       "titleType         1514769\n",
       "primaryTitle      1514769\n",
       "originalTitle     1514769\n",
       "isAdult           1514769\n",
       "startYear         1514769\n",
       "endYear           1514769\n",
       "runtimeMinutes    1514769\n",
       "genres_imdb       1514769\n",
       "genres            2012473\n",
       "nconst            1468938\n",
       "averageRating     1249978\n",
       "numVotes          1249978\n",
       "text              1229544\n",
       "user_text         2009141\n",
       "dtype: int64"
      ]
     },
     "execution_count": 29,
     "metadata": {},
     "output_type": "execute_result"
    }
   ],
   "source": [
    "k.count()"
   ]
  },
  {
   "cell_type": "code",
   "execution_count": null,
   "metadata": {},
   "outputs": [],
   "source": []
  }
 ],
 "metadata": {
  "kernelspec": {
   "display_name": "Python 3",
   "language": "python",
   "name": "python3"
  },
  "language_info": {
   "codemirror_mode": {
    "name": "ipython",
    "version": 3
   },
   "file_extension": ".py",
   "mimetype": "text/x-python",
   "name": "python",
   "nbconvert_exporter": "python",
   "pygments_lexer": "ipython3",
   "version": "3.6.5"
  }
 },
 "nbformat": 4,
 "nbformat_minor": 2
}
