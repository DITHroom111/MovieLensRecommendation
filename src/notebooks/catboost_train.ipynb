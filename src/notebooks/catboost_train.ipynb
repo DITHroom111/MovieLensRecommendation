{
 "cells": [
  {
   "cell_type": "code",
   "execution_count": 1,
   "metadata": {},
   "outputs": [
    {
     "name": "stderr",
     "output_type": "stream",
     "text": [
      "C:\\Users\\Evgeny\\Anaconda3\\lib\\site-packages\\lightfm\\_lightfm_fast.py:9: UserWarning: LightFM was compiled without OpenMP support. Only a single thread will be used.\n",
      "  warnings.warn('LightFM was compiled without OpenMP support. '\n"
     ]
    }
   ],
   "source": [
    "import pandas as pd\n",
    "import numpy as np\n",
    "from lightfm import LightFM\n",
    "from lightfm.evaluation import precision_at_k, auc_score\n",
    "from scipy import sparse\n",
    "from datetime import datetime\n",
    "from catboost import CatBoostRegressor"
   ]
  },
  {
   "cell_type": "code",
   "execution_count": 2,
   "metadata": {},
   "outputs": [],
   "source": [
    "movies_imdb = pd.read_csv('./movies_imdb.csv')"
   ]
  },
  {
   "cell_type": "code",
   "execution_count": 3,
   "metadata": {},
   "outputs": [],
   "source": [
    "als_train_u0_m0 = pd.read_csv('./ALS/ratings_train_with_all_ALS_predictions_u_0_m_0.csv')\n",
    "als_train_u0_m1 = pd.read_csv('./ALS/ratings_train_with_all_ALS_predictions_u_0_m_1.csv')\n",
    "als_train_u0_m2 = pd.read_csv('./ALS/ratings_train_with_all_ALS_predictions_u_0_m_2.csv')\n",
    "als_train_u1_m0 = pd.read_csv('./ALS/ratings_train_with_all_ALS_predictions_u_1_m_0.csv')\n",
    "als_train_u1_m1 = pd.read_csv('./ALS/ratings_train_with_all_ALS_predictions_u_1_m_1.csv')\n",
    "als_train_u1_m2 = pd.read_csv('./ALS/ratings_train_with_all_ALS_predictions_u_1_m_2.csv')\n",
    "als_train_u2_m0 = pd.read_csv('./ALS/ratings_train_with_all_ALS_predictions_u_2_m_0.csv')\n",
    "als_train_u2_m1 = pd.read_csv('./ALS/ratings_train_with_all_ALS_predictions_u_2_m_1.csv')\n",
    "als_train_u2_m2 = pd.read_csv('./ALS/ratings_train_with_all_ALS_predictions_u_2_m_2.csv')\n",
    "\n",
    "als_test = pd.read_csv('./ALS/ratings_dev_with_all_ALS_predictions.csv')\n",
    "als_final_test = pd.read_csv('./ALS/ratings_test_with_all_ALS_predictions.csv')"
   ]
  },
  {
   "cell_type": "code",
   "execution_count": 4,
   "metadata": {},
   "outputs": [],
   "source": [
    "a = pd.read_csv('./predictions_linear/predictions_0', header=None)"
   ]
  },
  {
   "cell_type": "code",
   "execution_count": 5,
   "metadata": {},
   "outputs": [
    {
     "name": "stdout",
     "output_type": "stream",
     "text": [
      "(1567557, 5)\n",
      "(1567557, 7)\n",
      "   0       1   2          3         4\n",
      "0  0   53434  19  822873600  2.558093\n",
      "1  0  124035  47  823185196  3.624575\n",
      "2  0  124035  52  823185197  3.384482\n",
      "   movieId  userId   timestamp  rating  user_movie_ALS  user_genre_ALS  \\\n",
      "0    33794  108543  1141315698     4.0        4.061448        3.435761   \n",
      "1    33794  116656  1308349074     4.5        4.055828        3.234410   \n",
      "2    33794  113116  1297394692     3.0        3.999297        3.608127   \n",
      "\n",
      "   user_actor_ALS  \n",
      "0        3.240306  \n",
      "1        3.690494  \n",
      "2        3.915428  \n"
     ]
    }
   ],
   "source": [
    "print(a.shape)\n",
    "print(als_train_u0_m0.shape)\n",
    "print(a.head(3))\n",
    "print(als_train_u0_m0.head(3))"
   ]
  },
  {
   "cell_type": "code",
   "execution_count": 6,
   "metadata": {},
   "outputs": [],
   "source": [
    "lin_features_0 = pd.read_csv('./predictions_linear/predictions_0', header=None)\n",
    "lin_features_1 = pd.read_csv('./predictions_linear/predictions_1', header=None)\n",
    "lin_features_2 = pd.read_csv('./predictions_linear/predictions_2', header=None)\n",
    "lin_features_3 = pd.read_csv('./predictions_linear/predictions_3', header=None)\n",
    "lin_features_4 = pd.read_csv('./predictions_linear/predictions_4', header=None)\n",
    "lin_features_5 = pd.read_csv('./predictions_linear/predictions_5', header=None)\n",
    "lin_features_6 = pd.read_csv('./predictions_linear/predictions_6', header=None)\n",
    "lin_features_7 = pd.read_csv('./predictions_linear/predictions_7', header=None)\n",
    "lin_features_8 = pd.read_csv('./predictions_linear/predictions_8', header=None)"
   ]
  },
  {
   "cell_type": "code",
   "execution_count": 7,
   "metadata": {},
   "outputs": [],
   "source": [
    "lin_features_0.rename(columns={0: 'fold', 1: 'userId', 2: 'movieId', 3: 'timestamp', 4: 'lin_pred'}, inplace=True)\n",
    "lin_features_1.rename(columns={0: 'fold', 1: 'userId', 2: 'movieId', 3: 'timestamp', 4: 'lin_pred'}, inplace=True)\n",
    "lin_features_2.rename(columns={0: 'fold', 1: 'userId', 2: 'movieId', 3: 'timestamp', 4: 'lin_pred'}, inplace=True)\n",
    "lin_features_3.rename(columns={0: 'fold', 1: 'userId', 2: 'movieId', 3: 'timestamp', 4: 'lin_pred'}, inplace=True)\n",
    "lin_features_4.rename(columns={0: 'fold', 1: 'userId', 2: 'movieId', 3: 'timestamp', 4: 'lin_pred'}, inplace=True)\n",
    "lin_features_5.rename(columns={0: 'fold', 1: 'userId', 2: 'movieId', 3: 'timestamp', 4: 'lin_pred'}, inplace=True)\n",
    "lin_features_6.rename(columns={0: 'fold', 1: 'userId', 2: 'movieId', 3: 'timestamp', 4: 'lin_pred'}, inplace=True)\n",
    "lin_features_7.rename(columns={0: 'fold', 1: 'userId', 2: 'movieId', 3: 'timestamp', 4: 'lin_pred'}, inplace=True)\n",
    "lin_features_8.rename(columns={0: 'fold', 1: 'userId', 2: 'movieId', 3: 'timestamp', 4: 'lin_pred'}, inplace=True)"
   ]
  },
  {
   "cell_type": "code",
   "execution_count": 8,
   "metadata": {},
   "outputs": [
    {
     "name": "stdout",
     "output_type": "stream",
     "text": [
      "(1544890, 5)\n",
      "(1544890, 7)\n"
     ]
    }
   ],
   "source": [
    "print(lin_features_1.shape)\n",
    "print(als_train_u0_m1.shape)"
   ]
  },
  {
   "cell_type": "code",
   "execution_count": 9,
   "metadata": {},
   "outputs": [
    {
     "data": {
      "text/html": [
       "<div>\n",
       "<style scoped>\n",
       "    .dataframe tbody tr th:only-of-type {\n",
       "        vertical-align: middle;\n",
       "    }\n",
       "\n",
       "    .dataframe tbody tr th {\n",
       "        vertical-align: top;\n",
       "    }\n",
       "\n",
       "    .dataframe thead th {\n",
       "        text-align: right;\n",
       "    }\n",
       "</style>\n",
       "<table border=\"1\" class=\"dataframe\">\n",
       "  <thead>\n",
       "    <tr style=\"text-align: right;\">\n",
       "      <th></th>\n",
       "      <th>fold</th>\n",
       "      <th>userId</th>\n",
       "      <th>movieId</th>\n",
       "      <th>timestamp</th>\n",
       "      <th>lin_pred</th>\n",
       "    </tr>\n",
       "  </thead>\n",
       "  <tbody>\n",
       "    <tr>\n",
       "      <th>0</th>\n",
       "      <td>0</td>\n",
       "      <td>53434</td>\n",
       "      <td>19</td>\n",
       "      <td>822873600</td>\n",
       "      <td>2.558093</td>\n",
       "    </tr>\n",
       "    <tr>\n",
       "      <th>1</th>\n",
       "      <td>0</td>\n",
       "      <td>124035</td>\n",
       "      <td>47</td>\n",
       "      <td>823185196</td>\n",
       "      <td>3.624575</td>\n",
       "    </tr>\n",
       "  </tbody>\n",
       "</table>\n",
       "</div>"
      ],
      "text/plain": [
       "   fold  userId  movieId  timestamp  lin_pred\n",
       "0     0   53434       19  822873600  2.558093\n",
       "1     0  124035       47  823185196  3.624575"
      ]
     },
     "execution_count": 9,
     "metadata": {},
     "output_type": "execute_result"
    }
   ],
   "source": [
    "lin_features_0.head(2)"
   ]
  },
  {
   "cell_type": "code",
   "execution_count": 10,
   "metadata": {},
   "outputs": [],
   "source": [
    "als_train_u0_m0 = pd.merge(als_train_u0_m0, lin_features_0, how='left', \n",
    "                           left_on=['userId', 'movieId', 'timestamp'], \n",
    "                           right_on=['userId', 'movieId', 'timestamp'])\n",
    "als_train_u0_m1 = pd.merge(als_train_u0_m1, lin_features_1, how='left', \n",
    "                           left_on=['userId', 'movieId', 'timestamp'], \n",
    "                           right_on=['userId', 'movieId', 'timestamp'])\n",
    "als_train_u0_m2 = pd.merge(als_train_u0_m2, lin_features_2, how='left', \n",
    "                           left_on=['userId', 'movieId', 'timestamp'], \n",
    "                           right_on=['userId', 'movieId', 'timestamp'])\n",
    "als_train_u1_m0 = pd.merge(als_train_u1_m0, lin_features_3, how='left', \n",
    "                           left_on=['userId', 'movieId', 'timestamp'], \n",
    "                           right_on=['userId', 'movieId', 'timestamp'])\n",
    "als_train_u1_m1 = pd.merge(als_train_u1_m1, lin_features_4, how='left', \n",
    "                           left_on=['userId', 'movieId', 'timestamp'], \n",
    "                           right_on=['userId', 'movieId', 'timestamp'])\n",
    "als_train_u1_m2 = pd.merge(als_train_u1_m2, lin_features_5, how='left', \n",
    "                           left_on=['userId', 'movieId', 'timestamp'], \n",
    "                           right_on=['userId', 'movieId', 'timestamp'])\n",
    "als_train_u2_m0 = pd.merge(als_train_u2_m0, lin_features_6, how='left', \n",
    "                           left_on=['userId', 'movieId', 'timestamp'], \n",
    "                           right_on=['userId', 'movieId', 'timestamp'])\n",
    "als_train_u2_m1 = pd.merge(als_train_u2_m1, lin_features_7, how='left', \n",
    "                           left_on=['userId', 'movieId', 'timestamp'], \n",
    "                           right_on=['userId', 'movieId', 'timestamp'])\n",
    "als_train_u2_m2 = pd.merge(als_train_u2_m2, lin_features_8, how='left', \n",
    "                           left_on=['userId', 'movieId', 'timestamp'], \n",
    "                           right_on=['userId', 'movieId', 'timestamp'])"
   ]
  },
  {
   "cell_type": "code",
   "execution_count": 11,
   "metadata": {},
   "outputs": [
    {
     "data": {
      "text/html": [
       "<div>\n",
       "<style scoped>\n",
       "    .dataframe tbody tr th:only-of-type {\n",
       "        vertical-align: middle;\n",
       "    }\n",
       "\n",
       "    .dataframe tbody tr th {\n",
       "        vertical-align: top;\n",
       "    }\n",
       "\n",
       "    .dataframe thead th {\n",
       "        text-align: right;\n",
       "    }\n",
       "</style>\n",
       "<table border=\"1\" class=\"dataframe\">\n",
       "  <thead>\n",
       "    <tr style=\"text-align: right;\">\n",
       "      <th></th>\n",
       "      <th>movieId</th>\n",
       "      <th>userId</th>\n",
       "      <th>timestamp</th>\n",
       "      <th>rating</th>\n",
       "      <th>user_movie_ALS</th>\n",
       "      <th>user_genre_ALS</th>\n",
       "      <th>user_actor_ALS</th>\n",
       "      <th>fold</th>\n",
       "      <th>lin_pred</th>\n",
       "    </tr>\n",
       "  </thead>\n",
       "  <tbody>\n",
       "    <tr>\n",
       "      <th>0</th>\n",
       "      <td>6502</td>\n",
       "      <td>10416</td>\n",
       "      <td>1127117051</td>\n",
       "      <td>4.0</td>\n",
       "      <td>3.706461</td>\n",
       "      <td>3.368054</td>\n",
       "      <td>NaN</td>\n",
       "      <td>4</td>\n",
       "      <td>3.625825</td>\n",
       "    </tr>\n",
       "    <tr>\n",
       "      <th>1</th>\n",
       "      <td>24</td>\n",
       "      <td>23457</td>\n",
       "      <td>1205769764</td>\n",
       "      <td>5.0</td>\n",
       "      <td>3.173135</td>\n",
       "      <td>3.481067</td>\n",
       "      <td>3.033822</td>\n",
       "      <td>4</td>\n",
       "      <td>3.106729</td>\n",
       "    </tr>\n",
       "  </tbody>\n",
       "</table>\n",
       "</div>"
      ],
      "text/plain": [
       "   movieId  userId   timestamp  rating  user_movie_ALS  user_genre_ALS  \\\n",
       "0     6502   10416  1127117051     4.0        3.706461        3.368054   \n",
       "1       24   23457  1205769764     5.0        3.173135        3.481067   \n",
       "\n",
       "   user_actor_ALS  fold  lin_pred  \n",
       "0             NaN     4  3.625825  \n",
       "1        3.033822     4  3.106729  "
      ]
     },
     "execution_count": 11,
     "metadata": {},
     "output_type": "execute_result"
    }
   ],
   "source": [
    "als_train_u1_m1.head(2)"
   ]
  },
  {
   "cell_type": "code",
   "execution_count": null,
   "metadata": {},
   "outputs": [],
   "source": []
  },
  {
   "cell_type": "code",
   "execution_count": 12,
   "metadata": {},
   "outputs": [],
   "source": [
    "als_train = pd.concat([als_train_u0_m0, als_train_u0_m1, als_train_u0_m2,\n",
    "                       als_train_u1_m0, als_train_u1_m1, als_train_u1_m2,\n",
    "                       als_train_u2_m0, als_train_u2_m1, als_train_u2_m2],\n",
    "                      ignore_index=True)"
   ]
  },
  {
   "cell_type": "code",
   "execution_count": 13,
   "metadata": {},
   "outputs": [
    {
     "data": {
      "text/html": [
       "<div>\n",
       "<style scoped>\n",
       "    .dataframe tbody tr th:only-of-type {\n",
       "        vertical-align: middle;\n",
       "    }\n",
       "\n",
       "    .dataframe tbody tr th {\n",
       "        vertical-align: top;\n",
       "    }\n",
       "\n",
       "    .dataframe thead th {\n",
       "        text-align: right;\n",
       "    }\n",
       "</style>\n",
       "<table border=\"1\" class=\"dataframe\">\n",
       "  <thead>\n",
       "    <tr style=\"text-align: right;\">\n",
       "      <th></th>\n",
       "      <th>Unnamed: 0</th>\n",
       "      <th>tconst</th>\n",
       "      <th>titleType</th>\n",
       "      <th>primaryTitle</th>\n",
       "      <th>originalTitle</th>\n",
       "      <th>isAdult</th>\n",
       "      <th>startYear</th>\n",
       "      <th>endYear</th>\n",
       "      <th>runtimeMinutes</th>\n",
       "      <th>genres_imdb</th>\n",
       "      <th>movieId</th>\n",
       "      <th>title</th>\n",
       "      <th>genres</th>\n",
       "      <th>titleCleaned</th>\n",
       "      <th>year</th>\n",
       "      <th>nconst</th>\n",
       "      <th>averageRating</th>\n",
       "      <th>numVotes</th>\n",
       "    </tr>\n",
       "  </thead>\n",
       "  <tbody>\n",
       "    <tr>\n",
       "      <th>0</th>\n",
       "      <td>0</td>\n",
       "      <td>tt0066856</td>\n",
       "      <td>movie</td>\n",
       "      <td>born to win</td>\n",
       "      <td>born to win</td>\n",
       "      <td>0</td>\n",
       "      <td>1971</td>\n",
       "      <td>\\N</td>\n",
       "      <td>88</td>\n",
       "      <td>Comedy,Crime,Drama</td>\n",
       "      <td>3212</td>\n",
       "      <td>Born to Win (1971)</td>\n",
       "      <td>Drama</td>\n",
       "      <td>born to win</td>\n",
       "      <td>1971</td>\n",
       "      <td>nm0005837nm0001719nm0696038nm0000947nm0282031n...</td>\n",
       "      <td>5.5</td>\n",
       "      <td>1432.0</td>\n",
       "    </tr>\n",
       "    <tr>\n",
       "      <th>1</th>\n",
       "      <td>1</td>\n",
       "      <td>tt0066858</td>\n",
       "      <td>movie</td>\n",
       "      <td>boy friend</td>\n",
       "      <td>boy friend</td>\n",
       "      <td>0</td>\n",
       "      <td>1971</td>\n",
       "      <td>\\N</td>\n",
       "      <td>137</td>\n",
       "      <td>Comedy,Musical,Romance</td>\n",
       "      <td>74859</td>\n",
       "      <td>Boy Friend, The (1971)</td>\n",
       "      <td>Comedy|Musical|Romance</td>\n",
       "      <td>boy friend</td>\n",
       "      <td>1971</td>\n",
       "      <td>nm0910589nm0493341nm0300083nm0012451nm0697799n...</td>\n",
       "      <td>6.8</td>\n",
       "      <td>2764.0</td>\n",
       "    </tr>\n",
       "    <tr>\n",
       "      <th>2</th>\n",
       "      <td>2</td>\n",
       "      <td>tt0066892</td>\n",
       "      <td>movie</td>\n",
       "      <td>crnl knowledge</td>\n",
       "      <td>crnl knowledge</td>\n",
       "      <td>0</td>\n",
       "      <td>1971</td>\n",
       "      <td>\\N</td>\n",
       "      <td>98</td>\n",
       "      <td>Drama</td>\n",
       "      <td>3167</td>\n",
       "      <td>Carnal Knowledge (1971)</td>\n",
       "      <td>Comedy|Drama</td>\n",
       "      <td>crnl knowledge</td>\n",
       "      <td>1971</td>\n",
       "      <td>nm0000197nm0000298nm0000268nm0307316nm0001566n...</td>\n",
       "      <td>7.0</td>\n",
       "      <td>10324.0</td>\n",
       "    </tr>\n",
       "  </tbody>\n",
       "</table>\n",
       "</div>"
      ],
      "text/plain": [
       "   Unnamed: 0     tconst titleType    primaryTitle   originalTitle  isAdult  \\\n",
       "0           0  tt0066856     movie     born to win     born to win        0   \n",
       "1           1  tt0066858     movie      boy friend      boy friend        0   \n",
       "2           2  tt0066892     movie  crnl knowledge  crnl knowledge        0   \n",
       "\n",
       "   startYear endYear runtimeMinutes             genres_imdb  movieId  \\\n",
       "0       1971      \\N             88      Comedy,Crime,Drama     3212   \n",
       "1       1971      \\N            137  Comedy,Musical,Romance    74859   \n",
       "2       1971      \\N             98                   Drama     3167   \n",
       "\n",
       "                     title                  genres    titleCleaned  year  \\\n",
       "0       Born to Win (1971)                   Drama     born to win  1971   \n",
       "1   Boy Friend, The (1971)  Comedy|Musical|Romance      boy friend  1971   \n",
       "2  Carnal Knowledge (1971)            Comedy|Drama  crnl knowledge  1971   \n",
       "\n",
       "                                              nconst  averageRating  numVotes  \n",
       "0  nm0005837nm0001719nm0696038nm0000947nm0282031n...            5.5    1432.0  \n",
       "1  nm0910589nm0493341nm0300083nm0012451nm0697799n...            6.8    2764.0  \n",
       "2  nm0000197nm0000298nm0000268nm0307316nm0001566n...            7.0   10324.0  "
      ]
     },
     "execution_count": 13,
     "metadata": {},
     "output_type": "execute_result"
    }
   ],
   "source": [
    "movies_imdb.head(3)"
   ]
  },
  {
   "cell_type": "code",
   "execution_count": 14,
   "metadata": {},
   "outputs": [
    {
     "name": "stdout",
     "output_type": "stream",
     "text": [
      "(19636, 18)\n",
      "19636\n"
     ]
    }
   ],
   "source": [
    "print(movies_imdb.shape)\n",
    "print(movies_imdb['movieId'].nunique())"
   ]
  },
  {
   "cell_type": "code",
   "execution_count": 15,
   "metadata": {},
   "outputs": [],
   "source": [
    "movies_imdb['averageRating'] = movies_imdb['averageRating'] / 2"
   ]
  },
  {
   "cell_type": "code",
   "execution_count": 16,
   "metadata": {},
   "outputs": [],
   "source": [
    "genres = list(map(lambda x: [el for el in x.split(',')] + ['None'] * (3 - len(x.split(','))), movies_imdb['genres_imdb']))"
   ]
  },
  {
   "cell_type": "code",
   "execution_count": 17,
   "metadata": {},
   "outputs": [],
   "source": [
    "movies_imdb['genres_imdb_0'] = [el[0] for el in genres]\n",
    "movies_imdb['genres_imdb_1'] = [el[1] for el in genres]\n",
    "movies_imdb['genres_imdb_2'] = [el[2] for el in genres]"
   ]
  },
  {
   "cell_type": "code",
   "execution_count": 18,
   "metadata": {},
   "outputs": [
    {
     "data": {
      "text/plain": [
       "0"
      ]
     },
     "execution_count": 18,
     "metadata": {},
     "output_type": "execute_result"
    }
   ],
   "source": [
    "sum(movies_imdb['year'].isna())"
   ]
  },
  {
   "cell_type": "code",
   "execution_count": 19,
   "metadata": {},
   "outputs": [
    {
     "name": "stderr",
     "output_type": "stream",
     "text": [
      "C:\\Users\\Evgeny\\Anaconda3\\lib\\site-packages\\ipykernel_launcher.py:1: SettingWithCopyWarning: \n",
      "A value is trying to be set on a copy of a slice from a DataFrame\n",
      "\n",
      "See the caveats in the documentation: http://pandas.pydata.org/pandas-docs/stable/indexing.html#indexing-view-versus-copy\n",
      "  \"\"\"Entry point for launching an IPython kernel.\n"
     ]
    }
   ],
   "source": [
    "movies_imdb['runtimeMinutes'][movies_imdb['runtimeMinutes'] == '\\\\N'] = -1"
   ]
  },
  {
   "cell_type": "code",
   "execution_count": 20,
   "metadata": {},
   "outputs": [
    {
     "data": {
      "text/html": [
       "<div>\n",
       "<style scoped>\n",
       "    .dataframe tbody tr th:only-of-type {\n",
       "        vertical-align: middle;\n",
       "    }\n",
       "\n",
       "    .dataframe tbody tr th {\n",
       "        vertical-align: top;\n",
       "    }\n",
       "\n",
       "    .dataframe thead th {\n",
       "        text-align: right;\n",
       "    }\n",
       "</style>\n",
       "<table border=\"1\" class=\"dataframe\">\n",
       "  <thead>\n",
       "    <tr style=\"text-align: right;\">\n",
       "      <th></th>\n",
       "      <th>Unnamed: 0</th>\n",
       "      <th>tconst</th>\n",
       "      <th>titleType</th>\n",
       "      <th>primaryTitle</th>\n",
       "      <th>originalTitle</th>\n",
       "      <th>isAdult</th>\n",
       "      <th>startYear</th>\n",
       "      <th>endYear</th>\n",
       "      <th>runtimeMinutes</th>\n",
       "      <th>genres_imdb</th>\n",
       "      <th>...</th>\n",
       "      <th>title</th>\n",
       "      <th>genres</th>\n",
       "      <th>titleCleaned</th>\n",
       "      <th>year</th>\n",
       "      <th>nconst</th>\n",
       "      <th>averageRating</th>\n",
       "      <th>numVotes</th>\n",
       "      <th>genres_imdb_0</th>\n",
       "      <th>genres_imdb_1</th>\n",
       "      <th>genres_imdb_2</th>\n",
       "    </tr>\n",
       "  </thead>\n",
       "  <tbody>\n",
       "    <tr>\n",
       "      <th>0</th>\n",
       "      <td>0</td>\n",
       "      <td>tt0066856</td>\n",
       "      <td>movie</td>\n",
       "      <td>born to win</td>\n",
       "      <td>born to win</td>\n",
       "      <td>0</td>\n",
       "      <td>1971</td>\n",
       "      <td>\\N</td>\n",
       "      <td>88</td>\n",
       "      <td>Comedy,Crime,Drama</td>\n",
       "      <td>...</td>\n",
       "      <td>Born to Win (1971)</td>\n",
       "      <td>Drama</td>\n",
       "      <td>born to win</td>\n",
       "      <td>1971</td>\n",
       "      <td>nm0005837nm0001719nm0696038nm0000947nm0282031n...</td>\n",
       "      <td>2.75</td>\n",
       "      <td>1432.0</td>\n",
       "      <td>Comedy</td>\n",
       "      <td>Crime</td>\n",
       "      <td>Drama</td>\n",
       "    </tr>\n",
       "    <tr>\n",
       "      <th>1</th>\n",
       "      <td>1</td>\n",
       "      <td>tt0066858</td>\n",
       "      <td>movie</td>\n",
       "      <td>boy friend</td>\n",
       "      <td>boy friend</td>\n",
       "      <td>0</td>\n",
       "      <td>1971</td>\n",
       "      <td>\\N</td>\n",
       "      <td>137</td>\n",
       "      <td>Comedy,Musical,Romance</td>\n",
       "      <td>...</td>\n",
       "      <td>Boy Friend, The (1971)</td>\n",
       "      <td>Comedy|Musical|Romance</td>\n",
       "      <td>boy friend</td>\n",
       "      <td>1971</td>\n",
       "      <td>nm0910589nm0493341nm0300083nm0012451nm0697799n...</td>\n",
       "      <td>3.40</td>\n",
       "      <td>2764.0</td>\n",
       "      <td>Comedy</td>\n",
       "      <td>Musical</td>\n",
       "      <td>Romance</td>\n",
       "    </tr>\n",
       "    <tr>\n",
       "      <th>2</th>\n",
       "      <td>2</td>\n",
       "      <td>tt0066892</td>\n",
       "      <td>movie</td>\n",
       "      <td>crnl knowledge</td>\n",
       "      <td>crnl knowledge</td>\n",
       "      <td>0</td>\n",
       "      <td>1971</td>\n",
       "      <td>\\N</td>\n",
       "      <td>98</td>\n",
       "      <td>Drama</td>\n",
       "      <td>...</td>\n",
       "      <td>Carnal Knowledge (1971)</td>\n",
       "      <td>Comedy|Drama</td>\n",
       "      <td>crnl knowledge</td>\n",
       "      <td>1971</td>\n",
       "      <td>nm0000197nm0000298nm0000268nm0307316nm0001566n...</td>\n",
       "      <td>3.50</td>\n",
       "      <td>10324.0</td>\n",
       "      <td>Drama</td>\n",
       "      <td>None</td>\n",
       "      <td>None</td>\n",
       "    </tr>\n",
       "  </tbody>\n",
       "</table>\n",
       "<p>3 rows × 21 columns</p>\n",
       "</div>"
      ],
      "text/plain": [
       "   Unnamed: 0     tconst titleType    primaryTitle   originalTitle  isAdult  \\\n",
       "0           0  tt0066856     movie     born to win     born to win        0   \n",
       "1           1  tt0066858     movie      boy friend      boy friend        0   \n",
       "2           2  tt0066892     movie  crnl knowledge  crnl knowledge        0   \n",
       "\n",
       "   startYear endYear runtimeMinutes             genres_imdb      ...       \\\n",
       "0       1971      \\N             88      Comedy,Crime,Drama      ...        \n",
       "1       1971      \\N            137  Comedy,Musical,Romance      ...        \n",
       "2       1971      \\N             98                   Drama      ...        \n",
       "\n",
       "                     title                  genres    titleCleaned  year  \\\n",
       "0       Born to Win (1971)                   Drama     born to win  1971   \n",
       "1   Boy Friend, The (1971)  Comedy|Musical|Romance      boy friend  1971   \n",
       "2  Carnal Knowledge (1971)            Comedy|Drama  crnl knowledge  1971   \n",
       "\n",
       "                                              nconst averageRating  numVotes  \\\n",
       "0  nm0005837nm0001719nm0696038nm0000947nm0282031n...          2.75    1432.0   \n",
       "1  nm0910589nm0493341nm0300083nm0012451nm0697799n...          3.40    2764.0   \n",
       "2  nm0000197nm0000298nm0000268nm0307316nm0001566n...          3.50   10324.0   \n",
       "\n",
       "   genres_imdb_0 genres_imdb_1 genres_imdb_2  \n",
       "0         Comedy         Crime         Drama  \n",
       "1         Comedy       Musical       Romance  \n",
       "2          Drama          None          None  \n",
       "\n",
       "[3 rows x 21 columns]"
      ]
     },
     "execution_count": 20,
     "metadata": {},
     "output_type": "execute_result"
    }
   ],
   "source": [
    "movies_imdb.head(3)"
   ]
  },
  {
   "cell_type": "code",
   "execution_count": 21,
   "metadata": {},
   "outputs": [
    {
     "name": "stdout",
     "output_type": "stream",
     "text": [
      "(14453730, 9)\n",
      "(1690360, 7)\n",
      "   movieId  userId   timestamp  rating  user_movie_ALS  user_genre_ALS  \\\n",
      "0    33794  108543  1141315698     4.0        4.061448        3.435761   \n",
      "1    33794  116656  1308349074     4.5        4.055828        3.234410   \n",
      "\n",
      "   user_actor_ALS  fold  lin_pred  \n",
      "0        3.240306     0  3.770295  \n",
      "1        3.690494     0  3.869308  \n",
      "   userId  movieId   timestamp  rating  user_movie_ALS  user_genre_ALS  \\\n",
      "0   40965     1217  1180039623     5.0        3.616524        3.165045   \n",
      "1  131172      466   835337608     4.0        2.412944        3.676014   \n",
      "\n",
      "   user_actor_ALS  \n",
      "0        3.187873  \n",
      "1        2.545692  \n",
      "(3790860, 6)\n",
      "   userId  movieId   timestamp  user_movie_ALS  user_genre_ALS  user_actor_ALS\n",
      "0    2711     5902  1044313557        4.242603        3.521633             NaN\n",
      "1    3352     1639   895849643        3.059602        3.224138        3.300966\n"
     ]
    }
   ],
   "source": [
    "print(als_train.shape)\n",
    "print(als_test.shape)\n",
    "print(als_train.head(2))\n",
    "print(als_test.head(2))\n",
    "print(als_final_test.shape)\n",
    "print(als_final_test.head(2))"
   ]
  },
  {
   "cell_type": "code",
   "execution_count": 22,
   "metadata": {},
   "outputs": [],
   "source": [
    "def rmse_asymmetric(rating, prediction):\n",
    "    bad_border = 4\n",
    "    \n",
    "    if rating < bad_border <= prediction:\n",
    "        penalty_coefficient = 2.0\n",
    "    else:\n",
    "        penalty_coefficient = 1.0\n",
    "    \n",
    "    return penalty_coefficient*(rating - prediction)**2\n",
    "\n",
    "\n",
    "def vector_rmse_asymmetric(df, true_col, pred_col, bad_border=4):\n",
    "    data = np.array(df[[true_col, pred_col]].values)\n",
    "    mask_1 = data[:, 0] < bad_border\n",
    "    mask_2 = data[:, 1] >= bad_border\n",
    "    penalty = data[mask_1 & mask_2]\n",
    "    not_penalty = data[~mask_1 & mask_2]\n",
    "    result = np.mean(np.concatenate((2 * (penalty[:, 0] - penalty[:, 1])  ** 2,\n",
    "                                    (not_penalty[:, 0] - not_penalty[:, 1])  ** 2), \n",
    "                                    axis=None))\n",
    "    return result"
   ]
  },
  {
   "cell_type": "code",
   "execution_count": 23,
   "metadata": {},
   "outputs": [],
   "source": [
    "als_train = pd.merge(als_train, movies_imdb, how='left', \n",
    "                     left_on=['movieId'], right_on=['movieId'])\n",
    "als_test = pd.merge(als_test, movies_imdb, how='left', \n",
    "                     left_on=['movieId'], right_on=['movieId'])\n",
    "als_final_test = pd.merge(als_final_test, movies_imdb, how='left', \n",
    "                     left_on=['movieId'], right_on=['movieId'])"
   ]
  },
  {
   "cell_type": "code",
   "execution_count": 24,
   "metadata": {},
   "outputs": [],
   "source": [
    "als_train['titleType'].fillna('None', inplace=True)\n",
    "als_test['titleType'].fillna('None', inplace=True)\n",
    "als_final_test['titleType'].fillna('None', inplace=True)\n",
    "\n",
    "als_train['genres_imdb_0'].fillna('None', inplace=True)\n",
    "als_test['genres_imdb_0'].fillna('None', inplace=True)\n",
    "als_final_test['genres_imdb_0'].fillna('None', inplace=True)\n",
    "\n",
    "als_train['genres_imdb_1'].fillna('None', inplace=True)\n",
    "als_test['genres_imdb_1'].fillna('None', inplace=True)\n",
    "als_final_test['genres_imdb_1'].fillna('None', inplace=True)\n",
    "\n",
    "als_train['genres_imdb_2'].fillna('None', inplace=True)\n",
    "als_test['genres_imdb_2'].fillna('None', inplace=True)\n",
    "als_final_test['genres_imdb_2'].fillna('None', inplace=True)"
   ]
  },
  {
   "cell_type": "code",
   "execution_count": 25,
   "metadata": {},
   "outputs": [
    {
     "data": {
      "text/html": [
       "<div>\n",
       "<style scoped>\n",
       "    .dataframe tbody tr th:only-of-type {\n",
       "        vertical-align: middle;\n",
       "    }\n",
       "\n",
       "    .dataframe tbody tr th {\n",
       "        vertical-align: top;\n",
       "    }\n",
       "\n",
       "    .dataframe thead th {\n",
       "        text-align: right;\n",
       "    }\n",
       "</style>\n",
       "<table border=\"1\" class=\"dataframe\">\n",
       "  <thead>\n",
       "    <tr style=\"text-align: right;\">\n",
       "      <th></th>\n",
       "      <th>movieId</th>\n",
       "      <th>userId</th>\n",
       "      <th>timestamp</th>\n",
       "      <th>rating</th>\n",
       "      <th>user_movie_ALS</th>\n",
       "      <th>user_genre_ALS</th>\n",
       "      <th>user_actor_ALS</th>\n",
       "      <th>fold</th>\n",
       "      <th>lin_pred</th>\n",
       "      <th>Unnamed: 0</th>\n",
       "      <th>...</th>\n",
       "      <th>title</th>\n",
       "      <th>genres</th>\n",
       "      <th>titleCleaned</th>\n",
       "      <th>year</th>\n",
       "      <th>nconst</th>\n",
       "      <th>averageRating</th>\n",
       "      <th>numVotes</th>\n",
       "      <th>genres_imdb_0</th>\n",
       "      <th>genres_imdb_1</th>\n",
       "      <th>genres_imdb_2</th>\n",
       "    </tr>\n",
       "  </thead>\n",
       "  <tbody>\n",
       "    <tr>\n",
       "      <th>0</th>\n",
       "      <td>33794</td>\n",
       "      <td>108543</td>\n",
       "      <td>1141315698</td>\n",
       "      <td>4.0</td>\n",
       "      <td>4.061448</td>\n",
       "      <td>3.435761</td>\n",
       "      <td>3.240306</td>\n",
       "      <td>0</td>\n",
       "      <td>3.770295</td>\n",
       "      <td>9943.0</td>\n",
       "      <td>...</td>\n",
       "      <td>Batman Begins (2005)</td>\n",
       "      <td>Action|Crime|IMAX</td>\n",
       "      <td>btmn begins</td>\n",
       "      <td>2005.0</td>\n",
       "      <td>nm0746273nm0000288nm0000323nm0913822nm0000553n...</td>\n",
       "      <td>4.1</td>\n",
       "      <td>1224005.0</td>\n",
       "      <td>Action</td>\n",
       "      <td>Adventure</td>\n",
       "      <td>None</td>\n",
       "    </tr>\n",
       "    <tr>\n",
       "      <th>1</th>\n",
       "      <td>33794</td>\n",
       "      <td>116656</td>\n",
       "      <td>1308349074</td>\n",
       "      <td>4.5</td>\n",
       "      <td>4.055828</td>\n",
       "      <td>3.234410</td>\n",
       "      <td>3.690494</td>\n",
       "      <td>0</td>\n",
       "      <td>3.869308</td>\n",
       "      <td>9943.0</td>\n",
       "      <td>...</td>\n",
       "      <td>Batman Begins (2005)</td>\n",
       "      <td>Action|Crime|IMAX</td>\n",
       "      <td>btmn begins</td>\n",
       "      <td>2005.0</td>\n",
       "      <td>nm0746273nm0000288nm0000323nm0913822nm0000553n...</td>\n",
       "      <td>4.1</td>\n",
       "      <td>1224005.0</td>\n",
       "      <td>Action</td>\n",
       "      <td>Adventure</td>\n",
       "      <td>None</td>\n",
       "    </tr>\n",
       "    <tr>\n",
       "      <th>2</th>\n",
       "      <td>33794</td>\n",
       "      <td>113116</td>\n",
       "      <td>1297394692</td>\n",
       "      <td>3.0</td>\n",
       "      <td>3.999297</td>\n",
       "      <td>3.608127</td>\n",
       "      <td>3.915428</td>\n",
       "      <td>0</td>\n",
       "      <td>3.770065</td>\n",
       "      <td>9943.0</td>\n",
       "      <td>...</td>\n",
       "      <td>Batman Begins (2005)</td>\n",
       "      <td>Action|Crime|IMAX</td>\n",
       "      <td>btmn begins</td>\n",
       "      <td>2005.0</td>\n",
       "      <td>nm0746273nm0000288nm0000323nm0913822nm0000553n...</td>\n",
       "      <td>4.1</td>\n",
       "      <td>1224005.0</td>\n",
       "      <td>Action</td>\n",
       "      <td>Adventure</td>\n",
       "      <td>None</td>\n",
       "    </tr>\n",
       "  </tbody>\n",
       "</table>\n",
       "<p>3 rows × 29 columns</p>\n",
       "</div>"
      ],
      "text/plain": [
       "   movieId  userId   timestamp  rating  user_movie_ALS  user_genre_ALS  \\\n",
       "0    33794  108543  1141315698     4.0        4.061448        3.435761   \n",
       "1    33794  116656  1308349074     4.5        4.055828        3.234410   \n",
       "2    33794  113116  1297394692     3.0        3.999297        3.608127   \n",
       "\n",
       "   user_actor_ALS  fold  lin_pred  Unnamed: 0      ...       \\\n",
       "0        3.240306     0  3.770295      9943.0      ...        \n",
       "1        3.690494     0  3.869308      9943.0      ...        \n",
       "2        3.915428     0  3.770065      9943.0      ...        \n",
       "\n",
       "                  title             genres titleCleaned    year  \\\n",
       "0  Batman Begins (2005)  Action|Crime|IMAX  btmn begins  2005.0   \n",
       "1  Batman Begins (2005)  Action|Crime|IMAX  btmn begins  2005.0   \n",
       "2  Batman Begins (2005)  Action|Crime|IMAX  btmn begins  2005.0   \n",
       "\n",
       "                                              nconst  averageRating  \\\n",
       "0  nm0746273nm0000288nm0000323nm0913822nm0000553n...            4.1   \n",
       "1  nm0746273nm0000288nm0000323nm0913822nm0000553n...            4.1   \n",
       "2  nm0746273nm0000288nm0000323nm0913822nm0000553n...            4.1   \n",
       "\n",
       "    numVotes genres_imdb_0 genres_imdb_1 genres_imdb_2  \n",
       "0  1224005.0        Action     Adventure          None  \n",
       "1  1224005.0        Action     Adventure          None  \n",
       "2  1224005.0        Action     Adventure          None  \n",
       "\n",
       "[3 rows x 29 columns]"
      ]
     },
     "execution_count": 25,
     "metadata": {},
     "output_type": "execute_result"
    }
   ],
   "source": [
    "als_train.head(3)"
   ]
  },
  {
   "cell_type": "code",
   "execution_count": 26,
   "metadata": {},
   "outputs": [
    {
     "data": {
      "text/plain": [
       "Index(['userId', 'movieId', 'timestamp', 'rating', 'user_movie_ALS',\n",
       "       'user_genre_ALS', 'user_actor_ALS', 'Unnamed: 0', 'tconst', 'titleType',\n",
       "       'primaryTitle', 'originalTitle', 'isAdult', 'startYear', 'endYear',\n",
       "       'runtimeMinutes', 'genres_imdb', 'title', 'genres', 'titleCleaned',\n",
       "       'year', 'nconst', 'averageRating', 'numVotes', 'genres_imdb_0',\n",
       "       'genres_imdb_1', 'genres_imdb_2'],\n",
       "      dtype='object')"
      ]
     },
     "execution_count": 26,
     "metadata": {},
     "output_type": "execute_result"
    }
   ],
   "source": [
    "als_test.columns"
   ]
  },
  {
   "cell_type": "code",
   "execution_count": 27,
   "metadata": {},
   "outputs": [],
   "source": [
    "als_train['curr_date'] = list(map(lambda x: datetime.fromtimestamp(x).isoformat(), als_train['timestamp']))\n",
    "als_test['curr_date'] = list(map(lambda x: datetime.fromtimestamp(x).isoformat(), als_test['timestamp']))\n",
    "als_final_test['curr_date'] = list(map(lambda x: datetime.fromtimestamp(x).isoformat(), als_final_test['timestamp']))"
   ]
  },
  {
   "cell_type": "code",
   "execution_count": 28,
   "metadata": {},
   "outputs": [],
   "source": [
    "als_train['curr_year'] = list(map(lambda x: float(x[:4]), als_train['curr_date']))\n",
    "als_test['curr_year'] = list(map(lambda x: float(x[:4]), als_test['curr_date']))\n",
    "als_final_test['curr_year'] = list(map(lambda x: float(x[:4]), als_final_test['curr_date']))\n",
    "\n",
    "als_train['curr_month'] = list(map(lambda x: x[5:7], als_train['curr_date']))\n",
    "als_test['curr_month'] = list(map(lambda x: x[5:7], als_test['curr_date']))\n",
    "als_final_test['curr_month'] = list(map(lambda x: x[5:7], als_final_test['curr_date']))\n",
    "\n",
    "als_train['movie_age'] = als_train['curr_year'] - als_train['year']\n",
    "als_test['movie_age'] = als_test['curr_year'] - als_test['year']\n",
    "als_final_test['movie_age'] = als_final_test['curr_year'] - als_final_test['year']"
   ]
  },
  {
   "cell_type": "code",
   "execution_count": 29,
   "metadata": {},
   "outputs": [
    {
     "data": {
      "text/html": [
       "<div>\n",
       "<style scoped>\n",
       "    .dataframe tbody tr th:only-of-type {\n",
       "        vertical-align: middle;\n",
       "    }\n",
       "\n",
       "    .dataframe tbody tr th {\n",
       "        vertical-align: top;\n",
       "    }\n",
       "\n",
       "    .dataframe thead th {\n",
       "        text-align: right;\n",
       "    }\n",
       "</style>\n",
       "<table border=\"1\" class=\"dataframe\">\n",
       "  <thead>\n",
       "    <tr style=\"text-align: right;\">\n",
       "      <th></th>\n",
       "      <th>movieId</th>\n",
       "      <th>userId</th>\n",
       "      <th>timestamp</th>\n",
       "      <th>rating</th>\n",
       "      <th>user_movie_ALS</th>\n",
       "      <th>user_genre_ALS</th>\n",
       "      <th>user_actor_ALS</th>\n",
       "      <th>fold</th>\n",
       "      <th>lin_pred</th>\n",
       "      <th>Unnamed: 0</th>\n",
       "      <th>...</th>\n",
       "      <th>nconst</th>\n",
       "      <th>averageRating</th>\n",
       "      <th>numVotes</th>\n",
       "      <th>genres_imdb_0</th>\n",
       "      <th>genres_imdb_1</th>\n",
       "      <th>genres_imdb_2</th>\n",
       "      <th>curr_date</th>\n",
       "      <th>curr_year</th>\n",
       "      <th>curr_month</th>\n",
       "      <th>movie_age</th>\n",
       "    </tr>\n",
       "  </thead>\n",
       "  <tbody>\n",
       "    <tr>\n",
       "      <th>0</th>\n",
       "      <td>33794</td>\n",
       "      <td>108543</td>\n",
       "      <td>1141315698</td>\n",
       "      <td>4.0</td>\n",
       "      <td>4.061448</td>\n",
       "      <td>3.435761</td>\n",
       "      <td>3.240306</td>\n",
       "      <td>0</td>\n",
       "      <td>3.770295</td>\n",
       "      <td>9943.0</td>\n",
       "      <td>...</td>\n",
       "      <td>nm0746273nm0000288nm0000323nm0913822nm0000553n...</td>\n",
       "      <td>4.1</td>\n",
       "      <td>1224005.0</td>\n",
       "      <td>Action</td>\n",
       "      <td>Adventure</td>\n",
       "      <td>None</td>\n",
       "      <td>2006-03-02T19:08:18</td>\n",
       "      <td>2006.0</td>\n",
       "      <td>03</td>\n",
       "      <td>1.0</td>\n",
       "    </tr>\n",
       "  </tbody>\n",
       "</table>\n",
       "<p>1 rows × 33 columns</p>\n",
       "</div>"
      ],
      "text/plain": [
       "   movieId  userId   timestamp  rating  user_movie_ALS  user_genre_ALS  \\\n",
       "0    33794  108543  1141315698     4.0        4.061448        3.435761   \n",
       "\n",
       "   user_actor_ALS  fold  lin_pred  Unnamed: 0    ...     \\\n",
       "0        3.240306     0  3.770295      9943.0    ...      \n",
       "\n",
       "                                              nconst averageRating   numVotes  \\\n",
       "0  nm0746273nm0000288nm0000323nm0913822nm0000553n...           4.1  1224005.0   \n",
       "\n",
       "  genres_imdb_0  genres_imdb_1  genres_imdb_2            curr_date curr_year  \\\n",
       "0        Action      Adventure           None  2006-03-02T19:08:18    2006.0   \n",
       "\n",
       "  curr_month movie_age  \n",
       "0         03       1.0  \n",
       "\n",
       "[1 rows x 33 columns]"
      ]
     },
     "execution_count": 29,
     "metadata": {},
     "output_type": "execute_result"
    }
   ],
   "source": [
    "als_train.head(1)"
   ]
  },
  {
   "cell_type": "code",
   "execution_count": 30,
   "metadata": {},
   "outputs": [
    {
     "name": "stderr",
     "output_type": "stream",
     "text": [
      "C:\\Users\\Evgeny\\Anaconda3\\lib\\site-packages\\ipykernel_launcher.py:15: RuntimeWarning: invalid value encountered in greater_equal\n",
      "  from ipykernel import kernelapp as app\n"
     ]
    },
    {
     "name": "stdout",
     "output_type": "stream",
     "text": [
      "0.6197099090875856\n",
      "1.0423400236647804\n",
      "0.7162128806061265\n",
      "1.3887644861972723\n",
      "1.4576650118188108\n"
     ]
    }
   ],
   "source": [
    "print(vector_rmse_asymmetric(als_train, 'rating', 'user_movie_ALS'))\n",
    "print(vector_rmse_asymmetric(als_train, 'rating', 'user_genre_ALS'))\n",
    "print(vector_rmse_asymmetric(als_train, 'rating', 'user_actor_ALS'))\n",
    "print(vector_rmse_asymmetric(als_train, 'rating', 'averageRating'))\n",
    "print(vector_rmse_asymmetric(als_train, 'rating', 'lin_pred'))"
   ]
  },
  {
   "cell_type": "code",
   "execution_count": 44,
   "metadata": {},
   "outputs": [],
   "source": [
    "feature_columns = [\n",
    "    'user_movie_ALS', \n",
    "    'user_genre_ALS', \n",
    "    'user_actor_ALS', \n",
    "    'averageRating', \n",
    "    'isAdult', \n",
    "    #'runtimeMinutes', \n",
    "    'numVotes', \n",
    "    #'year', \n",
    "    'movie_age', \n",
    "    #'curr_year', \n",
    "    #'lin_pred'\n",
    "]\n",
    "cat_feature_columns = [\n",
    "    #'titleType', \n",
    "    #'genres_imdb_0', \n",
    "    #'genres_imdb_1', \n",
    "    #'genres_imdb_2', \n",
    "    #'curr_month'\n",
    "]\n",
    "train_columns = feature_columns + cat_feature_columns"
   ]
  },
  {
   "cell_type": "code",
   "execution_count": 45,
   "metadata": {},
   "outputs": [],
   "source": [
    "train_data = als_train[train_columns]\n",
    "train_target = als_train['rating']\n",
    "\n",
    "test_data = als_test[train_columns]\n",
    "test_target = als_test['rating']"
   ]
  },
  {
   "cell_type": "code",
   "execution_count": 46,
   "metadata": {},
   "outputs": [],
   "source": [
    "bad_border = 4\n",
    "mask_1 = np.array(train_target.values) < bad_border\n",
    "weights = np.ones(len(train_data))\n",
    "weights[mask_1] = 2"
   ]
  },
  {
   "cell_type": "code",
   "execution_count": 47,
   "metadata": {},
   "outputs": [
    {
     "data": {
      "text/plain": [
       "array([1., 1., 2., ..., 2., 1., 2.])"
      ]
     },
     "execution_count": 47,
     "metadata": {},
     "output_type": "execute_result"
    }
   ],
   "source": [
    "weights"
   ]
  },
  {
   "cell_type": "code",
   "execution_count": 48,
   "metadata": {},
   "outputs": [],
   "source": [
    "model = CatBoostRegressor(iterations=200)"
   ]
  },
  {
   "cell_type": "code",
   "execution_count": 49,
   "metadata": {
    "scrolled": true
   },
   "outputs": [
    {
     "name": "stdout",
     "output_type": "stream",
     "text": [
      "0:\tlearn: 3.3415009\ttotal: 1.12s\tremaining: 3m 42s\n",
      "1:\tlearn: 3.2473467\ttotal: 2.17s\tremaining: 3m 35s\n",
      "2:\tlearn: 3.1562172\ttotal: 3.3s\tremaining: 3m 36s\n",
      "3:\tlearn: 3.0681277\ttotal: 4.4s\tremaining: 3m 35s\n",
      "4:\tlearn: 2.9826224\ttotal: 5.45s\tremaining: 3m 32s\n",
      "5:\tlearn: 2.8998762\ttotal: 6.5s\tremaining: 3m 30s\n",
      "6:\tlearn: 2.8198332\ttotal: 7.49s\tremaining: 3m 26s\n",
      "7:\tlearn: 2.7422912\ttotal: 8.51s\tremaining: 3m 24s\n",
      "8:\tlearn: 2.6672411\ttotal: 9.53s\tremaining: 3m 22s\n",
      "9:\tlearn: 2.5946420\ttotal: 10.6s\tremaining: 3m 20s\n",
      "10:\tlearn: 2.5245620\ttotal: 11.6s\tremaining: 3m 18s\n",
      "11:\tlearn: 2.4567245\ttotal: 12.6s\tremaining: 3m 17s\n",
      "12:\tlearn: 2.3912064\ttotal: 13.8s\tremaining: 3m 18s\n",
      "13:\tlearn: 2.3278381\ttotal: 14.9s\tremaining: 3m 17s\n",
      "14:\tlearn: 2.2665473\ttotal: 16s\tremaining: 3m 17s\n",
      "15:\tlearn: 2.2072970\ttotal: 17.1s\tremaining: 3m 16s\n",
      "16:\tlearn: 2.1500372\ttotal: 18.3s\tremaining: 3m 16s\n",
      "17:\tlearn: 2.0947409\ttotal: 19.4s\tremaining: 3m 16s\n",
      "18:\tlearn: 2.0414552\ttotal: 20.6s\tremaining: 3m 16s\n",
      "19:\tlearn: 1.9898041\ttotal: 21.9s\tremaining: 3m 16s\n",
      "20:\tlearn: 1.9400195\ttotal: 23s\tremaining: 3m 16s\n",
      "21:\tlearn: 1.8920137\ttotal: 24.2s\tremaining: 3m 15s\n",
      "22:\tlearn: 1.8456887\ttotal: 25.4s\tremaining: 3m 15s\n",
      "23:\tlearn: 1.8009431\ttotal: 26.7s\tremaining: 3m 15s\n",
      "24:\tlearn: 1.7577799\ttotal: 27.9s\tremaining: 3m 15s\n",
      "25:\tlearn: 1.7161961\ttotal: 29s\tremaining: 3m 14s\n",
      "26:\tlearn: 1.6761008\ttotal: 30.2s\tremaining: 3m 13s\n",
      "27:\tlearn: 1.6375420\ttotal: 31.3s\tremaining: 3m 12s\n",
      "28:\tlearn: 1.6003686\ttotal: 32.4s\tremaining: 3m 11s\n",
      "29:\tlearn: 1.5645610\ttotal: 33.6s\tremaining: 3m 10s\n",
      "30:\tlearn: 1.5301164\ttotal: 34.7s\tremaining: 3m 9s\n",
      "31:\tlearn: 1.4969635\ttotal: 35.9s\tremaining: 3m 8s\n",
      "32:\tlearn: 1.4651670\ttotal: 37s\tremaining: 3m 7s\n",
      "33:\tlearn: 1.4344764\ttotal: 38.2s\tremaining: 3m 6s\n",
      "34:\tlearn: 1.4049571\ttotal: 39.3s\tremaining: 3m 5s\n",
      "35:\tlearn: 1.3766533\ttotal: 40.5s\tremaining: 3m 4s\n",
      "36:\tlearn: 1.3494473\ttotal: 41.6s\tremaining: 3m 3s\n",
      "37:\tlearn: 1.3233365\ttotal: 42.7s\tremaining: 3m 2s\n",
      "38:\tlearn: 1.2982708\ttotal: 43.9s\tremaining: 3m 1s\n",
      "39:\tlearn: 1.2742846\ttotal: 45s\tremaining: 3m\n",
      "40:\tlearn: 1.2512744\ttotal: 46.1s\tremaining: 2m 58s\n",
      "41:\tlearn: 1.2292042\ttotal: 47.2s\tremaining: 2m 57s\n",
      "42:\tlearn: 1.2080863\ttotal: 48.4s\tremaining: 2m 56s\n",
      "43:\tlearn: 1.1878632\ttotal: 49.5s\tremaining: 2m 55s\n",
      "44:\tlearn: 1.1685435\ttotal: 50.6s\tremaining: 2m 54s\n",
      "45:\tlearn: 1.1499971\ttotal: 51.8s\tremaining: 2m 53s\n",
      "46:\tlearn: 1.1322695\ttotal: 53s\tremaining: 2m 52s\n",
      "47:\tlearn: 1.1153671\ttotal: 54.1s\tremaining: 2m 51s\n",
      "48:\tlearn: 1.0992004\ttotal: 55.2s\tremaining: 2m 50s\n",
      "49:\tlearn: 1.0837721\ttotal: 56.4s\tremaining: 2m 49s\n",
      "50:\tlearn: 1.0690525\ttotal: 57.5s\tremaining: 2m 48s\n",
      "51:\tlearn: 1.0550091\ttotal: 58.7s\tremaining: 2m 47s\n",
      "52:\tlearn: 1.0415908\ttotal: 59.8s\tremaining: 2m 45s\n",
      "53:\tlearn: 1.0288132\ttotal: 1m\tremaining: 2m 44s\n",
      "54:\tlearn: 1.0166240\ttotal: 1m 2s\tremaining: 2m 43s\n",
      "55:\tlearn: 1.0050512\ttotal: 1m 3s\tremaining: 2m 42s\n",
      "56:\tlearn: 0.9940153\ttotal: 1m 4s\tremaining: 2m 41s\n",
      "57:\tlearn: 0.9835359\ttotal: 1m 5s\tremaining: 2m 40s\n",
      "58:\tlearn: 0.9735961\ttotal: 1m 6s\tremaining: 2m 39s\n",
      "59:\tlearn: 0.9641015\ttotal: 1m 7s\tremaining: 2m 37s\n",
      "60:\tlearn: 0.9550991\ttotal: 1m 8s\tremaining: 2m 36s\n",
      "61:\tlearn: 0.9465202\ttotal: 1m 9s\tremaining: 2m 35s\n",
      "62:\tlearn: 0.9384021\ttotal: 1m 11s\tremaining: 2m 34s\n",
      "63:\tlearn: 0.9306869\ttotal: 1m 12s\tremaining: 2m 33s\n",
      "64:\tlearn: 0.9233525\ttotal: 1m 13s\tremaining: 2m 32s\n",
      "65:\tlearn: 0.9164078\ttotal: 1m 14s\tremaining: 2m 31s\n",
      "66:\tlearn: 0.9098397\ttotal: 1m 15s\tremaining: 2m 30s\n",
      "67:\tlearn: 0.9036194\ttotal: 1m 16s\tremaining: 2m 29s\n",
      "68:\tlearn: 0.8977171\ttotal: 1m 17s\tremaining: 2m 27s\n",
      "69:\tlearn: 0.8920822\ttotal: 1m 19s\tremaining: 2m 26s\n",
      "70:\tlearn: 0.8867849\ttotal: 1m 20s\tremaining: 2m 25s\n",
      "71:\tlearn: 0.8817743\ttotal: 1m 21s\tremaining: 2m 24s\n",
      "72:\tlearn: 0.8769880\ttotal: 1m 22s\tremaining: 2m 23s\n",
      "73:\tlearn: 0.8724677\ttotal: 1m 23s\tremaining: 2m 22s\n",
      "74:\tlearn: 0.8682100\ttotal: 1m 24s\tremaining: 2m 21s\n",
      "75:\tlearn: 0.8641564\ttotal: 1m 25s\tremaining: 2m 19s\n",
      "76:\tlearn: 0.8603531\ttotal: 1m 26s\tremaining: 2m 18s\n",
      "77:\tlearn: 0.8567346\ttotal: 1m 27s\tremaining: 2m 17s\n",
      "78:\tlearn: 0.8533411\ttotal: 1m 29s\tremaining: 2m 16s\n",
      "79:\tlearn: 0.8501118\ttotal: 1m 30s\tremaining: 2m 15s\n",
      "80:\tlearn: 0.8470513\ttotal: 1m 31s\tremaining: 2m 14s\n",
      "81:\tlearn: 0.8441574\ttotal: 1m 32s\tremaining: 2m 13s\n",
      "82:\tlearn: 0.8414305\ttotal: 1m 33s\tremaining: 2m 12s\n",
      "83:\tlearn: 0.8388563\ttotal: 1m 34s\tremaining: 2m 10s\n",
      "84:\tlearn: 0.8364409\ttotal: 1m 35s\tremaining: 2m 9s\n",
      "85:\tlearn: 0.8341622\ttotal: 1m 36s\tremaining: 2m 8s\n",
      "86:\tlearn: 0.8320074\ttotal: 1m 38s\tremaining: 2m 7s\n",
      "87:\tlearn: 0.8299796\ttotal: 1m 39s\tremaining: 2m 6s\n",
      "88:\tlearn: 0.8280649\ttotal: 1m 40s\tremaining: 2m 5s\n",
      "89:\tlearn: 0.8262497\ttotal: 1m 41s\tremaining: 2m 4s\n",
      "90:\tlearn: 0.8245483\ttotal: 1m 42s\tremaining: 2m 2s\n",
      "91:\tlearn: 0.8229176\ttotal: 1m 43s\tremaining: 2m 1s\n",
      "92:\tlearn: 0.8214021\ttotal: 1m 44s\tremaining: 2m\n",
      "93:\tlearn: 0.8199561\ttotal: 1m 45s\tremaining: 1m 59s\n",
      "94:\tlearn: 0.8185890\ttotal: 1m 47s\tremaining: 1m 58s\n",
      "95:\tlearn: 0.8172975\ttotal: 1m 48s\tremaining: 1m 57s\n",
      "96:\tlearn: 0.8160959\ttotal: 1m 49s\tremaining: 1m 56s\n",
      "97:\tlearn: 0.8149424\ttotal: 1m 50s\tremaining: 1m 55s\n",
      "98:\tlearn: 0.8138570\ttotal: 1m 51s\tremaining: 1m 53s\n",
      "99:\tlearn: 0.8128485\ttotal: 1m 52s\tremaining: 1m 52s\n",
      "100:\tlearn: 0.8118981\ttotal: 1m 53s\tremaining: 1m 51s\n",
      "101:\tlearn: 0.8109842\ttotal: 1m 55s\tremaining: 1m 50s\n",
      "102:\tlearn: 0.8101414\ttotal: 1m 56s\tremaining: 1m 49s\n",
      "103:\tlearn: 0.8093340\ttotal: 1m 57s\tremaining: 1m 48s\n",
      "104:\tlearn: 0.8085705\ttotal: 1m 58s\tremaining: 1m 47s\n",
      "105:\tlearn: 0.8078592\ttotal: 1m 59s\tremaining: 1m 46s\n",
      "106:\tlearn: 0.8071891\ttotal: 2m\tremaining: 1m 44s\n",
      "107:\tlearn: 0.8065451\ttotal: 2m 1s\tremaining: 1m 43s\n",
      "108:\tlearn: 0.8059519\ttotal: 2m 3s\tremaining: 1m 42s\n",
      "109:\tlearn: 0.8053829\ttotal: 2m 4s\tremaining: 1m 41s\n",
      "110:\tlearn: 0.8048435\ttotal: 2m 5s\tremaining: 1m 40s\n",
      "111:\tlearn: 0.8043369\ttotal: 2m 6s\tremaining: 1m 39s\n",
      "112:\tlearn: 0.8038698\ttotal: 2m 7s\tremaining: 1m 38s\n",
      "113:\tlearn: 0.8034247\ttotal: 2m 8s\tremaining: 1m 36s\n",
      "114:\tlearn: 0.8030026\ttotal: 2m 9s\tremaining: 1m 35s\n",
      "115:\tlearn: 0.8026031\ttotal: 2m 10s\tremaining: 1m 34s\n",
      "116:\tlearn: 0.8022245\ttotal: 2m 11s\tremaining: 1m 33s\n",
      "117:\tlearn: 0.8018682\ttotal: 2m 13s\tremaining: 1m 32s\n",
      "118:\tlearn: 0.8015294\ttotal: 2m 14s\tremaining: 1m 31s\n",
      "119:\tlearn: 0.8012185\ttotal: 2m 15s\tremaining: 1m 30s\n",
      "120:\tlearn: 0.8009190\ttotal: 2m 16s\tremaining: 1m 29s\n",
      "121:\tlearn: 0.8006348\ttotal: 2m 17s\tremaining: 1m 27s\n",
      "122:\tlearn: 0.8003696\ttotal: 2m 18s\tremaining: 1m 26s\n",
      "123:\tlearn: 0.8001186\ttotal: 2m 19s\tremaining: 1m 25s\n",
      "124:\tlearn: 0.7998780\ttotal: 2m 20s\tremaining: 1m 24s\n",
      "125:\tlearn: 0.7996556\ttotal: 2m 21s\tremaining: 1m 23s\n",
      "126:\tlearn: 0.7994466\ttotal: 2m 23s\tremaining: 1m 22s\n",
      "127:\tlearn: 0.7992476\ttotal: 2m 24s\tremaining: 1m 21s\n",
      "128:\tlearn: 0.7990529\ttotal: 2m 25s\tremaining: 1m 20s\n",
      "129:\tlearn: 0.7988694\ttotal: 2m 26s\tremaining: 1m 18s\n",
      "130:\tlearn: 0.7986966\ttotal: 2m 28s\tremaining: 1m 17s\n",
      "131:\tlearn: 0.7985378\ttotal: 2m 29s\tremaining: 1m 16s\n",
      "132:\tlearn: 0.7983841\ttotal: 2m 30s\tremaining: 1m 15s\n",
      "133:\tlearn: 0.7982408\ttotal: 2m 31s\tremaining: 1m 14s\n",
      "134:\tlearn: 0.7981019\ttotal: 2m 32s\tremaining: 1m 13s\n",
      "135:\tlearn: 0.7979767\ttotal: 2m 33s\tremaining: 1m 12s\n",
      "136:\tlearn: 0.7978548\ttotal: 2m 34s\tremaining: 1m 11s\n",
      "137:\tlearn: 0.7977414\ttotal: 2m 35s\tremaining: 1m 9s\n",
      "138:\tlearn: 0.7976320\ttotal: 2m 36s\tremaining: 1m 8s\n",
      "139:\tlearn: 0.7975258\ttotal: 2m 37s\tremaining: 1m 7s\n",
      "140:\tlearn: 0.7974293\ttotal: 2m 38s\tremaining: 1m 6s\n",
      "141:\tlearn: 0.7973356\ttotal: 2m 39s\tremaining: 1m 5s\n",
      "142:\tlearn: 0.7972483\ttotal: 2m 40s\tremaining: 1m 4s\n",
      "143:\tlearn: 0.7971665\ttotal: 2m 42s\tremaining: 1m 3s\n",
      "144:\tlearn: 0.7970878\ttotal: 2m 43s\tremaining: 1m 1s\n",
      "145:\tlearn: 0.7970132\ttotal: 2m 44s\tremaining: 1m\n",
      "146:\tlearn: 0.7969406\ttotal: 2m 45s\tremaining: 59.5s\n",
      "147:\tlearn: 0.7968738\ttotal: 2m 46s\tremaining: 58.4s\n",
      "148:\tlearn: 0.7968088\ttotal: 2m 47s\tremaining: 57.3s\n",
      "149:\tlearn: 0.7967498\ttotal: 2m 48s\tremaining: 56.2s\n",
      "150:\tlearn: 0.7966931\ttotal: 2m 49s\tremaining: 55s\n",
      "151:\tlearn: 0.7966374\ttotal: 2m 50s\tremaining: 53.9s\n",
      "152:\tlearn: 0.7965837\ttotal: 2m 51s\tremaining: 52.8s\n",
      "153:\tlearn: 0.7965341\ttotal: 2m 52s\tremaining: 51.6s\n",
      "154:\tlearn: 0.7964842\ttotal: 2m 53s\tremaining: 50.5s\n",
      "155:\tlearn: 0.7964375\ttotal: 2m 54s\tremaining: 49.3s\n",
      "156:\tlearn: 0.7963954\ttotal: 2m 56s\tremaining: 48.2s\n"
     ]
    },
    {
     "name": "stdout",
     "output_type": "stream",
     "text": [
      "157:\tlearn: 0.7963548\ttotal: 2m 57s\tremaining: 47.1s\n",
      "158:\tlearn: 0.7963154\ttotal: 2m 58s\tremaining: 45.9s\n",
      "159:\tlearn: 0.7962776\ttotal: 2m 59s\tremaining: 44.8s\n",
      "160:\tlearn: 0.7962397\ttotal: 3m\tremaining: 43.7s\n",
      "161:\tlearn: 0.7962050\ttotal: 3m 1s\tremaining: 42.6s\n",
      "162:\tlearn: 0.7961703\ttotal: 3m 2s\tremaining: 41.4s\n",
      "163:\tlearn: 0.7961390\ttotal: 3m 3s\tremaining: 40.3s\n",
      "164:\tlearn: 0.7961108\ttotal: 3m 4s\tremaining: 39.2s\n",
      "165:\tlearn: 0.7960827\ttotal: 3m 5s\tremaining: 38.1s\n",
      "166:\tlearn: 0.7960570\ttotal: 3m 6s\tremaining: 36.9s\n",
      "167:\tlearn: 0.7960299\ttotal: 3m 8s\tremaining: 35.8s\n",
      "168:\tlearn: 0.7960053\ttotal: 3m 9s\tremaining: 34.7s\n",
      "169:\tlearn: 0.7959797\ttotal: 3m 10s\tremaining: 33.6s\n",
      "170:\tlearn: 0.7959580\ttotal: 3m 11s\tremaining: 32.5s\n",
      "171:\tlearn: 0.7959355\ttotal: 3m 12s\tremaining: 31.3s\n",
      "172:\tlearn: 0.7959175\ttotal: 3m 13s\tremaining: 30.2s\n",
      "173:\tlearn: 0.7958953\ttotal: 3m 14s\tremaining: 29.1s\n",
      "174:\tlearn: 0.7958769\ttotal: 3m 15s\tremaining: 28s\n",
      "175:\tlearn: 0.7958597\ttotal: 3m 16s\tremaining: 26.8s\n",
      "176:\tlearn: 0.7958415\ttotal: 3m 17s\tremaining: 25.7s\n",
      "177:\tlearn: 0.7958226\ttotal: 3m 19s\tremaining: 24.6s\n",
      "178:\tlearn: 0.7958053\ttotal: 3m 20s\tremaining: 23.5s\n",
      "179:\tlearn: 0.7957877\ttotal: 3m 21s\tremaining: 22.4s\n",
      "180:\tlearn: 0.7957724\ttotal: 3m 22s\tremaining: 21.2s\n",
      "181:\tlearn: 0.7957564\ttotal: 3m 23s\tremaining: 20.1s\n",
      "182:\tlearn: 0.7957411\ttotal: 3m 24s\tremaining: 19s\n",
      "183:\tlearn: 0.7957253\ttotal: 3m 25s\tremaining: 17.9s\n",
      "184:\tlearn: 0.7957099\ttotal: 3m 26s\tremaining: 16.8s\n",
      "185:\tlearn: 0.7956926\ttotal: 3m 27s\tremaining: 15.7s\n",
      "186:\tlearn: 0.7956790\ttotal: 3m 29s\tremaining: 14.5s\n",
      "187:\tlearn: 0.7956677\ttotal: 3m 30s\tremaining: 13.4s\n",
      "188:\tlearn: 0.7956551\ttotal: 3m 31s\tremaining: 12.3s\n",
      "189:\tlearn: 0.7956443\ttotal: 3m 32s\tremaining: 11.2s\n",
      "190:\tlearn: 0.7956334\ttotal: 3m 33s\tremaining: 10.1s\n",
      "191:\tlearn: 0.7956227\ttotal: 3m 34s\tremaining: 8.94s\n",
      "192:\tlearn: 0.7956092\ttotal: 3m 35s\tremaining: 7.83s\n",
      "193:\tlearn: 0.7955992\ttotal: 3m 36s\tremaining: 6.71s\n",
      "194:\tlearn: 0.7955894\ttotal: 3m 37s\tremaining: 5.59s\n",
      "195:\tlearn: 0.7955789\ttotal: 3m 38s\tremaining: 4.47s\n",
      "196:\tlearn: 0.7955693\ttotal: 3m 40s\tremaining: 3.35s\n",
      "197:\tlearn: 0.7955616\ttotal: 3m 41s\tremaining: 2.23s\n",
      "198:\tlearn: 0.7955530\ttotal: 3m 42s\tremaining: 1.12s\n",
      "199:\tlearn: 0.7955418\ttotal: 3m 43s\tremaining: 0us\n"
     ]
    },
    {
     "data": {
      "text/plain": [
       "<catboost.core.CatBoostRegressor at 0x21b9c27fb70>"
      ]
     },
     "execution_count": 49,
     "metadata": {},
     "output_type": "execute_result"
    }
   ],
   "source": [
    "model.fit(train_data, train_target, verbose=True, sample_weight=weights, cat_features=cat_feature_columns)"
   ]
  },
  {
   "cell_type": "code",
   "execution_count": 50,
   "metadata": {},
   "outputs": [],
   "source": [
    "catboost_predict = model.predict(test_data)"
   ]
  },
  {
   "cell_type": "code",
   "execution_count": 51,
   "metadata": {},
   "outputs": [],
   "source": [
    "als_test['catboost_predict'] = catboost_predict"
   ]
  },
  {
   "cell_type": "code",
   "execution_count": 52,
   "metadata": {
    "scrolled": true
   },
   "outputs": [
    {
     "name": "stdout",
     "output_type": "stream",
     "text": [
      "0.6169683348334891\n"
     ]
    }
   ],
   "source": [
    "print(vector_rmse_asymmetric(als_test, 'rating', 'catboost_predict'))"
   ]
  },
  {
   "cell_type": "code",
   "execution_count": 53,
   "metadata": {},
   "outputs": [
    {
     "data": {
      "text/plain": [
       "array([9.75151179e+01, 8.65068934e-01, 4.80185482e-01, 2.85068507e-01,\n",
       "       2.82403882e-02, 4.54528438e-01, 3.71790335e-01])"
      ]
     },
     "execution_count": 53,
     "metadata": {},
     "output_type": "execute_result"
    }
   ],
   "source": [
    "model.feature_importances_"
   ]
  },
  {
   "cell_type": "code",
   "execution_count": null,
   "metadata": {},
   "outputs": [],
   "source": []
  },
  {
   "cell_type": "code",
   "execution_count": null,
   "metadata": {},
   "outputs": [],
   "source": [
    "als_test['mean_predict'] = np.mean(test_data.values, axis=1)"
   ]
  },
  {
   "cell_type": "code",
   "execution_count": null,
   "metadata": {},
   "outputs": [],
   "source": [
    "print(vector_rmse_asymmetric(als_test, 'rating', 'mean_predict'))"
   ]
  },
  {
   "cell_type": "code",
   "execution_count": null,
   "metadata": {},
   "outputs": [],
   "source": []
  },
  {
   "cell_type": "code",
   "execution_count": null,
   "metadata": {},
   "outputs": [],
   "source": [
    "als_test['median_predict'] = np.median(test_data.values, axis=1)"
   ]
  },
  {
   "cell_type": "code",
   "execution_count": null,
   "metadata": {},
   "outputs": [],
   "source": [
    "print(vector_rmse_asymmetric(als_test, 'rating', 'median_predict'))"
   ]
  },
  {
   "cell_type": "code",
   "execution_count": null,
   "metadata": {},
   "outputs": [],
   "source": []
  },
  {
   "cell_type": "code",
   "execution_count": null,
   "metadata": {},
   "outputs": [],
   "source": []
  },
  {
   "cell_type": "code",
   "execution_count": null,
   "metadata": {},
   "outputs": [],
   "source": [
    "final_test_results = model.predict(als_final_test[train_columns])"
   ]
  },
  {
   "cell_type": "code",
   "execution_count": null,
   "metadata": {},
   "outputs": [],
   "source": [
    "als_final_test['prediction'] = final_test_results"
   ]
  },
  {
   "cell_type": "code",
   "execution_count": null,
   "metadata": {},
   "outputs": [],
   "source": [
    "als_final_test.to_csv('./prediction.csv')"
   ]
  },
  {
   "cell_type": "code",
   "execution_count": null,
   "metadata": {},
   "outputs": [],
   "source": [
    "import pickle"
   ]
  },
  {
   "cell_type": "code",
   "execution_count": null,
   "metadata": {},
   "outputs": [],
   "source": [
    "with open('./saved_catboost_model.pkl', 'wb') as f:\n",
    "    pickle.dump(model, f)"
   ]
  },
  {
   "cell_type": "code",
   "execution_count": null,
   "metadata": {},
   "outputs": [],
   "source": []
  },
  {
   "cell_type": "code",
   "execution_count": null,
   "metadata": {},
   "outputs": [],
   "source": []
  }
 ],
 "metadata": {
  "kernelspec": {
   "display_name": "Python 3",
   "language": "python",
   "name": "python3"
  },
  "language_info": {
   "codemirror_mode": {
    "name": "ipython",
    "version": 3
   },
   "file_extension": ".py",
   "mimetype": "text/x-python",
   "name": "python",
   "nbconvert_exporter": "python",
   "pygments_lexer": "ipython3",
   "version": "3.6.5"
  }
 },
 "nbformat": 4,
 "nbformat_minor": 2
}
