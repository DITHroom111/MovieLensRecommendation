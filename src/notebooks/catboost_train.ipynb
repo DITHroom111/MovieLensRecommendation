{
 "cells": [
  {
   "cell_type": "code",
   "execution_count": 1,
   "metadata": {},
   "outputs": [
    {
     "name": "stderr",
     "output_type": "stream",
     "text": [
      "C:\\Users\\Evgeny\\Anaconda3\\lib\\site-packages\\lightfm\\_lightfm_fast.py:9: UserWarning: LightFM was compiled without OpenMP support. Only a single thread will be used.\n",
      "  warnings.warn('LightFM was compiled without OpenMP support. '\n"
     ]
    }
   ],
   "source": [
    "import pandas as pd\n",
    "import numpy as np\n",
    "from lightfm import LightFM\n",
    "from lightfm.evaluation import precision_at_k, auc_score\n",
    "from scipy import sparse\n",
    "from datetime import datetime\n",
    "from catboost import CatBoostRegressor"
   ]
  },
  {
   "cell_type": "code",
   "execution_count": 2,
   "metadata": {},
   "outputs": [],
   "source": [
    "movies_imdb = pd.read_csv('./movies_imdb.csv')"
   ]
  },
  {
   "cell_type": "code",
   "execution_count": 3,
   "metadata": {},
   "outputs": [],
   "source": [
    "als_train_u0_m0 = pd.read_csv('./ALS/ratings_train_with_all_ALS_predictions_u_0_m_0.csv')\n",
    "als_train_u0_m1 = pd.read_csv('./ALS/ratings_train_with_all_ALS_predictions_u_0_m_1.csv')\n",
    "als_train_u0_m2 = pd.read_csv('./ALS/ratings_train_with_all_ALS_predictions_u_0_m_2.csv')\n",
    "als_train_u1_m0 = pd.read_csv('./ALS/ratings_train_with_all_ALS_predictions_u_1_m_0.csv')\n",
    "als_train_u1_m1 = pd.read_csv('./ALS/ratings_train_with_all_ALS_predictions_u_1_m_1.csv')\n",
    "als_train_u1_m2 = pd.read_csv('./ALS/ratings_train_with_all_ALS_predictions_u_1_m_2.csv')\n",
    "als_train_u2_m0 = pd.read_csv('./ALS/ratings_train_with_all_ALS_predictions_u_2_m_0.csv')\n",
    "als_train_u2_m1 = pd.read_csv('./ALS/ratings_train_with_all_ALS_predictions_u_2_m_1.csv')\n",
    "als_train_u2_m2 = pd.read_csv('./ALS/ratings_train_with_all_ALS_predictions_u_2_m_2.csv')\n",
    "\n",
    "als_test = pd.read_csv('./ALS/ratings_dev_with_all_ALS_predictions.csv')\n",
    "als_final_test = pd.read_csv('./ALS/ratings_test_with_all_ALS_predictions.csv')"
   ]
  },
  {
   "cell_type": "code",
   "execution_count": 4,
   "metadata": {},
   "outputs": [],
   "source": [
    "a = pd.read_csv('./predictions_linear/predictions_0', header=None)"
   ]
  },
  {
   "cell_type": "code",
   "execution_count": 5,
   "metadata": {},
   "outputs": [
    {
     "name": "stdout",
     "output_type": "stream",
     "text": [
      "(1567557, 5)\n",
      "(1567557, 7)\n",
      "   0       1   2          3         4\n",
      "0  0   53434  19  822873600  2.558093\n",
      "1  0  124035  47  823185196  3.624575\n",
      "2  0  124035  52  823185197  3.384482\n",
      "   movieId  userId   timestamp  rating  user_movie_ALS  user_genre_ALS  \\\n",
      "0    33794  108543  1141315698     4.0        4.061448        3.435761   \n",
      "1    33794  116656  1308349074     4.5        4.055828        3.234410   \n",
      "2    33794  113116  1297394692     3.0        3.999297        3.608127   \n",
      "\n",
      "   user_actor_ALS  \n",
      "0        3.240306  \n",
      "1        3.690494  \n",
      "2        3.915428  \n"
     ]
    }
   ],
   "source": [
    "print(a.shape)\n",
    "print(als_train_u0_m0.shape)\n",
    "print(a.head(3))\n",
    "print(als_train_u0_m0.head(3))"
   ]
  },
  {
   "cell_type": "code",
   "execution_count": 6,
   "metadata": {},
   "outputs": [],
   "source": [
    "lin_features_0 = pd.read_csv('./predictions_linear/predictions_0', header=None)\n",
    "lin_features_1 = pd.read_csv('./predictions_linear/predictions_1', header=None)\n",
    "lin_features_2 = pd.read_csv('./predictions_linear/predictions_2', header=None)\n",
    "lin_features_3 = pd.read_csv('./predictions_linear/predictions_3', header=None)\n",
    "lin_features_4 = pd.read_csv('./predictions_linear/predictions_4', header=None)\n",
    "lin_features_5 = pd.read_csv('./predictions_linear/predictions_5', header=None)\n",
    "lin_features_6 = pd.read_csv('./predictions_linear/predictions_6', header=None)\n",
    "lin_features_7 = pd.read_csv('./predictions_linear/predictions_7', header=None)\n",
    "lin_features_8 = pd.read_csv('./predictions_linear/predictions_8', header=None)"
   ]
  },
  {
   "cell_type": "code",
   "execution_count": 7,
   "metadata": {},
   "outputs": [],
   "source": [
    "lin_features_dev = pd.read_csv('./predictions_linear/dev_predictions', header=None)\n",
    "lin_features_final_test = pd.read_csv('./predictions_linear/test_predictions', header=None)"
   ]
  },
  {
   "cell_type": "code",
   "execution_count": 8,
   "metadata": {},
   "outputs": [],
   "source": [
    "lin_features_0.rename(columns={0: 'fold', 1: 'userId', 2: 'movieId', 3: 'timestamp', 4: 'lin_pred'}, inplace=True)\n",
    "lin_features_1.rename(columns={0: 'fold', 1: 'userId', 2: 'movieId', 3: 'timestamp', 4: 'lin_pred'}, inplace=True)\n",
    "lin_features_2.rename(columns={0: 'fold', 1: 'userId', 2: 'movieId', 3: 'timestamp', 4: 'lin_pred'}, inplace=True)\n",
    "lin_features_3.rename(columns={0: 'fold', 1: 'userId', 2: 'movieId', 3: 'timestamp', 4: 'lin_pred'}, inplace=True)\n",
    "lin_features_4.rename(columns={0: 'fold', 1: 'userId', 2: 'movieId', 3: 'timestamp', 4: 'lin_pred'}, inplace=True)\n",
    "lin_features_5.rename(columns={0: 'fold', 1: 'userId', 2: 'movieId', 3: 'timestamp', 4: 'lin_pred'}, inplace=True)\n",
    "lin_features_6.rename(columns={0: 'fold', 1: 'userId', 2: 'movieId', 3: 'timestamp', 4: 'lin_pred'}, inplace=True)\n",
    "lin_features_7.rename(columns={0: 'fold', 1: 'userId', 2: 'movieId', 3: 'timestamp', 4: 'lin_pred'}, inplace=True)\n",
    "lin_features_8.rename(columns={0: 'fold', 1: 'userId', 2: 'movieId', 3: 'timestamp', 4: 'lin_pred'}, inplace=True)"
   ]
  },
  {
   "cell_type": "code",
   "execution_count": 9,
   "metadata": {},
   "outputs": [],
   "source": [
    "lin_features_dev.rename(columns={0: 'fold', 1: 'userId', 2: 'movieId', 3: 'timestamp', 4: 'lin_pred'}, inplace=True)\n",
    "lin_features_final_test.rename(columns={0: 'fold', 1: 'userId', 2: 'movieId', 3: 'timestamp', 4: 'lin_pred'}, inplace=True)"
   ]
  },
  {
   "cell_type": "code",
   "execution_count": 10,
   "metadata": {},
   "outputs": [
    {
     "name": "stdout",
     "output_type": "stream",
     "text": [
      "(1544890, 5)\n",
      "(1544890, 7)\n"
     ]
    }
   ],
   "source": [
    "print(lin_features_1.shape)\n",
    "print(als_train_u0_m1.shape)"
   ]
  },
  {
   "cell_type": "code",
   "execution_count": 11,
   "metadata": {},
   "outputs": [
    {
     "data": {
      "text/html": [
       "<div>\n",
       "<style scoped>\n",
       "    .dataframe tbody tr th:only-of-type {\n",
       "        vertical-align: middle;\n",
       "    }\n",
       "\n",
       "    .dataframe tbody tr th {\n",
       "        vertical-align: top;\n",
       "    }\n",
       "\n",
       "    .dataframe thead th {\n",
       "        text-align: right;\n",
       "    }\n",
       "</style>\n",
       "<table border=\"1\" class=\"dataframe\">\n",
       "  <thead>\n",
       "    <tr style=\"text-align: right;\">\n",
       "      <th></th>\n",
       "      <th>fold</th>\n",
       "      <th>userId</th>\n",
       "      <th>movieId</th>\n",
       "      <th>timestamp</th>\n",
       "      <th>lin_pred</th>\n",
       "    </tr>\n",
       "  </thead>\n",
       "  <tbody>\n",
       "    <tr>\n",
       "      <th>0</th>\n",
       "      <td>0</td>\n",
       "      <td>53434</td>\n",
       "      <td>19</td>\n",
       "      <td>822873600</td>\n",
       "      <td>2.558093</td>\n",
       "    </tr>\n",
       "    <tr>\n",
       "      <th>1</th>\n",
       "      <td>0</td>\n",
       "      <td>124035</td>\n",
       "      <td>47</td>\n",
       "      <td>823185196</td>\n",
       "      <td>3.624575</td>\n",
       "    </tr>\n",
       "  </tbody>\n",
       "</table>\n",
       "</div>"
      ],
      "text/plain": [
       "   fold  userId  movieId  timestamp  lin_pred\n",
       "0     0   53434       19  822873600  2.558093\n",
       "1     0  124035       47  823185196  3.624575"
      ]
     },
     "execution_count": 11,
     "metadata": {},
     "output_type": "execute_result"
    }
   ],
   "source": [
    "lin_features_0.head(2)"
   ]
  },
  {
   "cell_type": "code",
   "execution_count": 12,
   "metadata": {},
   "outputs": [],
   "source": [
    "als_train_u0_m0 = pd.merge(als_train_u0_m0, lin_features_0, how='left', \n",
    "                           left_on=['userId', 'movieId', 'timestamp'], \n",
    "                           right_on=['userId', 'movieId', 'timestamp'])\n",
    "als_train_u0_m1 = pd.merge(als_train_u0_m1, lin_features_1, how='left', \n",
    "                           left_on=['userId', 'movieId', 'timestamp'], \n",
    "                           right_on=['userId', 'movieId', 'timestamp'])\n",
    "als_train_u0_m2 = pd.merge(als_train_u0_m2, lin_features_2, how='left', \n",
    "                           left_on=['userId', 'movieId', 'timestamp'], \n",
    "                           right_on=['userId', 'movieId', 'timestamp'])\n",
    "als_train_u1_m0 = pd.merge(als_train_u1_m0, lin_features_3, how='left', \n",
    "                           left_on=['userId', 'movieId', 'timestamp'], \n",
    "                           right_on=['userId', 'movieId', 'timestamp'])\n",
    "als_train_u1_m1 = pd.merge(als_train_u1_m1, lin_features_4, how='left', \n",
    "                           left_on=['userId', 'movieId', 'timestamp'], \n",
    "                           right_on=['userId', 'movieId', 'timestamp'])\n",
    "als_train_u1_m2 = pd.merge(als_train_u1_m2, lin_features_5, how='left', \n",
    "                           left_on=['userId', 'movieId', 'timestamp'], \n",
    "                           right_on=['userId', 'movieId', 'timestamp'])\n",
    "als_train_u2_m0 = pd.merge(als_train_u2_m0, lin_features_6, how='left', \n",
    "                           left_on=['userId', 'movieId', 'timestamp'], \n",
    "                           right_on=['userId', 'movieId', 'timestamp'])\n",
    "als_train_u2_m1 = pd.merge(als_train_u2_m1, lin_features_7, how='left', \n",
    "                           left_on=['userId', 'movieId', 'timestamp'], \n",
    "                           right_on=['userId', 'movieId', 'timestamp'])\n",
    "als_train_u2_m2 = pd.merge(als_train_u2_m2, lin_features_8, how='left', \n",
    "                           left_on=['userId', 'movieId', 'timestamp'], \n",
    "                           right_on=['userId', 'movieId', 'timestamp'])"
   ]
  },
  {
   "cell_type": "code",
   "execution_count": 13,
   "metadata": {},
   "outputs": [],
   "source": [
    "als_test = pd.merge(als_test, lin_features_dev, how='left', \n",
    "                    left_on=['userId', 'movieId', 'timestamp'], \n",
    "                    right_on=['userId', 'movieId', 'timestamp'])\n",
    "als_final_test = pd.merge(als_final_test, lin_features_final_test, how='left', \n",
    "                          left_on=['userId', 'movieId', 'timestamp'], \n",
    "                          right_on=['userId', 'movieId', 'timestamp'])"
   ]
  },
  {
   "cell_type": "code",
   "execution_count": 14,
   "metadata": {},
   "outputs": [
    {
     "name": "stdout",
     "output_type": "stream",
     "text": [
      "(1702634, 5)\n",
      "(1690360, 9)\n"
     ]
    }
   ],
   "source": [
    "print(lin_features_dev.shape)\n",
    "print(als_test.shape)"
   ]
  },
  {
   "cell_type": "code",
   "execution_count": 15,
   "metadata": {},
   "outputs": [
    {
     "name": "stdout",
     "output_type": "stream",
     "text": [
      "(1690360, 5)\n",
      "(3790860, 8)\n"
     ]
    }
   ],
   "source": [
    "print(lin_features_final_test.shape)\n",
    "print(als_final_test.shape)"
   ]
  },
  {
   "cell_type": "code",
   "execution_count": 16,
   "metadata": {},
   "outputs": [
    {
     "data": {
      "text/html": [
       "<div>\n",
       "<style scoped>\n",
       "    .dataframe tbody tr th:only-of-type {\n",
       "        vertical-align: middle;\n",
       "    }\n",
       "\n",
       "    .dataframe tbody tr th {\n",
       "        vertical-align: top;\n",
       "    }\n",
       "\n",
       "    .dataframe thead th {\n",
       "        text-align: right;\n",
       "    }\n",
       "</style>\n",
       "<table border=\"1\" class=\"dataframe\">\n",
       "  <thead>\n",
       "    <tr style=\"text-align: right;\">\n",
       "      <th></th>\n",
       "      <th>movieId</th>\n",
       "      <th>userId</th>\n",
       "      <th>timestamp</th>\n",
       "      <th>rating</th>\n",
       "      <th>user_movie_ALS</th>\n",
       "      <th>user_genre_ALS</th>\n",
       "      <th>user_actor_ALS</th>\n",
       "      <th>fold</th>\n",
       "      <th>lin_pred</th>\n",
       "    </tr>\n",
       "  </thead>\n",
       "  <tbody>\n",
       "    <tr>\n",
       "      <th>0</th>\n",
       "      <td>6502</td>\n",
       "      <td>10416</td>\n",
       "      <td>1127117051</td>\n",
       "      <td>4.0</td>\n",
       "      <td>3.706461</td>\n",
       "      <td>3.368054</td>\n",
       "      <td>NaN</td>\n",
       "      <td>4</td>\n",
       "      <td>3.625825</td>\n",
       "    </tr>\n",
       "    <tr>\n",
       "      <th>1</th>\n",
       "      <td>24</td>\n",
       "      <td>23457</td>\n",
       "      <td>1205769764</td>\n",
       "      <td>5.0</td>\n",
       "      <td>3.173135</td>\n",
       "      <td>3.481067</td>\n",
       "      <td>3.033822</td>\n",
       "      <td>4</td>\n",
       "      <td>3.106729</td>\n",
       "    </tr>\n",
       "  </tbody>\n",
       "</table>\n",
       "</div>"
      ],
      "text/plain": [
       "   movieId  userId   timestamp  rating  user_movie_ALS  user_genre_ALS  \\\n",
       "0     6502   10416  1127117051     4.0        3.706461        3.368054   \n",
       "1       24   23457  1205769764     5.0        3.173135        3.481067   \n",
       "\n",
       "   user_actor_ALS  fold  lin_pred  \n",
       "0             NaN     4  3.625825  \n",
       "1        3.033822     4  3.106729  "
      ]
     },
     "execution_count": 16,
     "metadata": {},
     "output_type": "execute_result"
    }
   ],
   "source": [
    "als_train_u1_m1.head(2)"
   ]
  },
  {
   "cell_type": "code",
   "execution_count": 17,
   "metadata": {},
   "outputs": [
    {
     "data": {
      "text/html": [
       "<div>\n",
       "<style scoped>\n",
       "    .dataframe tbody tr th:only-of-type {\n",
       "        vertical-align: middle;\n",
       "    }\n",
       "\n",
       "    .dataframe tbody tr th {\n",
       "        vertical-align: top;\n",
       "    }\n",
       "\n",
       "    .dataframe thead th {\n",
       "        text-align: right;\n",
       "    }\n",
       "</style>\n",
       "<table border=\"1\" class=\"dataframe\">\n",
       "  <thead>\n",
       "    <tr style=\"text-align: right;\">\n",
       "      <th></th>\n",
       "      <th>userId</th>\n",
       "      <th>movieId</th>\n",
       "      <th>timestamp</th>\n",
       "      <th>rating</th>\n",
       "      <th>user_movie_ALS</th>\n",
       "      <th>user_genre_ALS</th>\n",
       "      <th>user_actor_ALS</th>\n",
       "      <th>fold</th>\n",
       "      <th>lin_pred</th>\n",
       "    </tr>\n",
       "  </thead>\n",
       "  <tbody>\n",
       "    <tr>\n",
       "      <th>0</th>\n",
       "      <td>40965</td>\n",
       "      <td>1217</td>\n",
       "      <td>1180039623</td>\n",
       "      <td>5.0</td>\n",
       "      <td>3.616524</td>\n",
       "      <td>3.165045</td>\n",
       "      <td>3.187873</td>\n",
       "      <td>NaN</td>\n",
       "      <td>NaN</td>\n",
       "    </tr>\n",
       "    <tr>\n",
       "      <th>1</th>\n",
       "      <td>131172</td>\n",
       "      <td>466</td>\n",
       "      <td>835337608</td>\n",
       "      <td>4.0</td>\n",
       "      <td>2.412944</td>\n",
       "      <td>3.676014</td>\n",
       "      <td>2.545692</td>\n",
       "      <td>NaN</td>\n",
       "      <td>NaN</td>\n",
       "    </tr>\n",
       "  </tbody>\n",
       "</table>\n",
       "</div>"
      ],
      "text/plain": [
       "   userId  movieId   timestamp  rating  user_movie_ALS  user_genre_ALS  \\\n",
       "0   40965     1217  1180039623     5.0        3.616524        3.165045   \n",
       "1  131172      466   835337608     4.0        2.412944        3.676014   \n",
       "\n",
       "   user_actor_ALS  fold  lin_pred  \n",
       "0        3.187873   NaN       NaN  \n",
       "1        2.545692   NaN       NaN  "
      ]
     },
     "execution_count": 17,
     "metadata": {},
     "output_type": "execute_result"
    }
   ],
   "source": [
    "als_test.head(2)"
   ]
  },
  {
   "cell_type": "code",
   "execution_count": null,
   "metadata": {},
   "outputs": [],
   "source": []
  },
  {
   "cell_type": "code",
   "execution_count": null,
   "metadata": {},
   "outputs": [],
   "source": []
  },
  {
   "cell_type": "code",
   "execution_count": 18,
   "metadata": {},
   "outputs": [],
   "source": [
    "als_train = pd.concat([als_train_u0_m0, als_train_u0_m1, als_train_u0_m2,\n",
    "                       als_train_u1_m0, als_train_u1_m1, als_train_u1_m2,\n",
    "                       als_train_u2_m0, als_train_u2_m1, als_train_u2_m2],\n",
    "                      ignore_index=True)"
   ]
  },
  {
   "cell_type": "code",
   "execution_count": 19,
   "metadata": {},
   "outputs": [
    {
     "data": {
      "text/html": [
       "<div>\n",
       "<style scoped>\n",
       "    .dataframe tbody tr th:only-of-type {\n",
       "        vertical-align: middle;\n",
       "    }\n",
       "\n",
       "    .dataframe tbody tr th {\n",
       "        vertical-align: top;\n",
       "    }\n",
       "\n",
       "    .dataframe thead th {\n",
       "        text-align: right;\n",
       "    }\n",
       "</style>\n",
       "<table border=\"1\" class=\"dataframe\">\n",
       "  <thead>\n",
       "    <tr style=\"text-align: right;\">\n",
       "      <th></th>\n",
       "      <th>Unnamed: 0</th>\n",
       "      <th>tconst</th>\n",
       "      <th>titleType</th>\n",
       "      <th>primaryTitle</th>\n",
       "      <th>originalTitle</th>\n",
       "      <th>isAdult</th>\n",
       "      <th>startYear</th>\n",
       "      <th>endYear</th>\n",
       "      <th>runtimeMinutes</th>\n",
       "      <th>genres_imdb</th>\n",
       "      <th>movieId</th>\n",
       "      <th>title</th>\n",
       "      <th>genres</th>\n",
       "      <th>titleCleaned</th>\n",
       "      <th>year</th>\n",
       "      <th>nconst</th>\n",
       "      <th>averageRating</th>\n",
       "      <th>numVotes</th>\n",
       "    </tr>\n",
       "  </thead>\n",
       "  <tbody>\n",
       "    <tr>\n",
       "      <th>0</th>\n",
       "      <td>0</td>\n",
       "      <td>tt0066856</td>\n",
       "      <td>movie</td>\n",
       "      <td>born to win</td>\n",
       "      <td>born to win</td>\n",
       "      <td>0</td>\n",
       "      <td>1971</td>\n",
       "      <td>\\N</td>\n",
       "      <td>88</td>\n",
       "      <td>Comedy,Crime,Drama</td>\n",
       "      <td>3212</td>\n",
       "      <td>Born to Win (1971)</td>\n",
       "      <td>Drama</td>\n",
       "      <td>born to win</td>\n",
       "      <td>1971</td>\n",
       "      <td>nm0005837nm0001719nm0696038nm0000947nm0282031n...</td>\n",
       "      <td>5.5</td>\n",
       "      <td>1432.0</td>\n",
       "    </tr>\n",
       "    <tr>\n",
       "      <th>1</th>\n",
       "      <td>1</td>\n",
       "      <td>tt0066858</td>\n",
       "      <td>movie</td>\n",
       "      <td>boy friend</td>\n",
       "      <td>boy friend</td>\n",
       "      <td>0</td>\n",
       "      <td>1971</td>\n",
       "      <td>\\N</td>\n",
       "      <td>137</td>\n",
       "      <td>Comedy,Musical,Romance</td>\n",
       "      <td>74859</td>\n",
       "      <td>Boy Friend, The (1971)</td>\n",
       "      <td>Comedy|Musical|Romance</td>\n",
       "      <td>boy friend</td>\n",
       "      <td>1971</td>\n",
       "      <td>nm0910589nm0493341nm0300083nm0012451nm0697799n...</td>\n",
       "      <td>6.8</td>\n",
       "      <td>2764.0</td>\n",
       "    </tr>\n",
       "    <tr>\n",
       "      <th>2</th>\n",
       "      <td>2</td>\n",
       "      <td>tt0066892</td>\n",
       "      <td>movie</td>\n",
       "      <td>crnl knowledge</td>\n",
       "      <td>crnl knowledge</td>\n",
       "      <td>0</td>\n",
       "      <td>1971</td>\n",
       "      <td>\\N</td>\n",
       "      <td>98</td>\n",
       "      <td>Drama</td>\n",
       "      <td>3167</td>\n",
       "      <td>Carnal Knowledge (1971)</td>\n",
       "      <td>Comedy|Drama</td>\n",
       "      <td>crnl knowledge</td>\n",
       "      <td>1971</td>\n",
       "      <td>nm0000197nm0000298nm0000268nm0307316nm0001566n...</td>\n",
       "      <td>7.0</td>\n",
       "      <td>10324.0</td>\n",
       "    </tr>\n",
       "  </tbody>\n",
       "</table>\n",
       "</div>"
      ],
      "text/plain": [
       "   Unnamed: 0     tconst titleType    primaryTitle   originalTitle  isAdult  \\\n",
       "0           0  tt0066856     movie     born to win     born to win        0   \n",
       "1           1  tt0066858     movie      boy friend      boy friend        0   \n",
       "2           2  tt0066892     movie  crnl knowledge  crnl knowledge        0   \n",
       "\n",
       "   startYear endYear runtimeMinutes             genres_imdb  movieId  \\\n",
       "0       1971      \\N             88      Comedy,Crime,Drama     3212   \n",
       "1       1971      \\N            137  Comedy,Musical,Romance    74859   \n",
       "2       1971      \\N             98                   Drama     3167   \n",
       "\n",
       "                     title                  genres    titleCleaned  year  \\\n",
       "0       Born to Win (1971)                   Drama     born to win  1971   \n",
       "1   Boy Friend, The (1971)  Comedy|Musical|Romance      boy friend  1971   \n",
       "2  Carnal Knowledge (1971)            Comedy|Drama  crnl knowledge  1971   \n",
       "\n",
       "                                              nconst  averageRating  numVotes  \n",
       "0  nm0005837nm0001719nm0696038nm0000947nm0282031n...            5.5    1432.0  \n",
       "1  nm0910589nm0493341nm0300083nm0012451nm0697799n...            6.8    2764.0  \n",
       "2  nm0000197nm0000298nm0000268nm0307316nm0001566n...            7.0   10324.0  "
      ]
     },
     "execution_count": 19,
     "metadata": {},
     "output_type": "execute_result"
    }
   ],
   "source": [
    "movies_imdb.head(3)"
   ]
  },
  {
   "cell_type": "code",
   "execution_count": 20,
   "metadata": {},
   "outputs": [
    {
     "name": "stdout",
     "output_type": "stream",
     "text": [
      "(19636, 18)\n",
      "19636\n"
     ]
    }
   ],
   "source": [
    "print(movies_imdb.shape)\n",
    "print(movies_imdb['movieId'].nunique())"
   ]
  },
  {
   "cell_type": "code",
   "execution_count": 21,
   "metadata": {},
   "outputs": [],
   "source": [
    "movies_imdb['averageRating'] = movies_imdb['averageRating'] / 2"
   ]
  },
  {
   "cell_type": "code",
   "execution_count": 22,
   "metadata": {},
   "outputs": [],
   "source": [
    "genres = list(map(lambda x: [el for el in x.split(',')] + ['None'] * (3 - len(x.split(','))), movies_imdb['genres_imdb']))"
   ]
  },
  {
   "cell_type": "code",
   "execution_count": 23,
   "metadata": {},
   "outputs": [],
   "source": [
    "movies_imdb['genres_imdb_0'] = [el[0] for el in genres]\n",
    "movies_imdb['genres_imdb_1'] = [el[1] for el in genres]\n",
    "movies_imdb['genres_imdb_2'] = [el[2] for el in genres]"
   ]
  },
  {
   "cell_type": "code",
   "execution_count": 24,
   "metadata": {},
   "outputs": [
    {
     "data": {
      "text/plain": [
       "0"
      ]
     },
     "execution_count": 24,
     "metadata": {},
     "output_type": "execute_result"
    }
   ],
   "source": [
    "sum(movies_imdb['year'].isna())"
   ]
  },
  {
   "cell_type": "code",
   "execution_count": 25,
   "metadata": {},
   "outputs": [
    {
     "name": "stderr",
     "output_type": "stream",
     "text": [
      "C:\\Users\\Evgeny\\Anaconda3\\lib\\site-packages\\ipykernel_launcher.py:1: SettingWithCopyWarning: \n",
      "A value is trying to be set on a copy of a slice from a DataFrame\n",
      "\n",
      "See the caveats in the documentation: http://pandas.pydata.org/pandas-docs/stable/indexing.html#indexing-view-versus-copy\n",
      "  \"\"\"Entry point for launching an IPython kernel.\n"
     ]
    }
   ],
   "source": [
    "movies_imdb['runtimeMinutes'][movies_imdb['runtimeMinutes'] == '\\\\N'] = -1"
   ]
  },
  {
   "cell_type": "code",
   "execution_count": 26,
   "metadata": {},
   "outputs": [
    {
     "data": {
      "text/html": [
       "<div>\n",
       "<style scoped>\n",
       "    .dataframe tbody tr th:only-of-type {\n",
       "        vertical-align: middle;\n",
       "    }\n",
       "\n",
       "    .dataframe tbody tr th {\n",
       "        vertical-align: top;\n",
       "    }\n",
       "\n",
       "    .dataframe thead th {\n",
       "        text-align: right;\n",
       "    }\n",
       "</style>\n",
       "<table border=\"1\" class=\"dataframe\">\n",
       "  <thead>\n",
       "    <tr style=\"text-align: right;\">\n",
       "      <th></th>\n",
       "      <th>Unnamed: 0</th>\n",
       "      <th>tconst</th>\n",
       "      <th>titleType</th>\n",
       "      <th>primaryTitle</th>\n",
       "      <th>originalTitle</th>\n",
       "      <th>isAdult</th>\n",
       "      <th>startYear</th>\n",
       "      <th>endYear</th>\n",
       "      <th>runtimeMinutes</th>\n",
       "      <th>genres_imdb</th>\n",
       "      <th>...</th>\n",
       "      <th>title</th>\n",
       "      <th>genres</th>\n",
       "      <th>titleCleaned</th>\n",
       "      <th>year</th>\n",
       "      <th>nconst</th>\n",
       "      <th>averageRating</th>\n",
       "      <th>numVotes</th>\n",
       "      <th>genres_imdb_0</th>\n",
       "      <th>genres_imdb_1</th>\n",
       "      <th>genres_imdb_2</th>\n",
       "    </tr>\n",
       "  </thead>\n",
       "  <tbody>\n",
       "    <tr>\n",
       "      <th>0</th>\n",
       "      <td>0</td>\n",
       "      <td>tt0066856</td>\n",
       "      <td>movie</td>\n",
       "      <td>born to win</td>\n",
       "      <td>born to win</td>\n",
       "      <td>0</td>\n",
       "      <td>1971</td>\n",
       "      <td>\\N</td>\n",
       "      <td>88</td>\n",
       "      <td>Comedy,Crime,Drama</td>\n",
       "      <td>...</td>\n",
       "      <td>Born to Win (1971)</td>\n",
       "      <td>Drama</td>\n",
       "      <td>born to win</td>\n",
       "      <td>1971</td>\n",
       "      <td>nm0005837nm0001719nm0696038nm0000947nm0282031n...</td>\n",
       "      <td>2.75</td>\n",
       "      <td>1432.0</td>\n",
       "      <td>Comedy</td>\n",
       "      <td>Crime</td>\n",
       "      <td>Drama</td>\n",
       "    </tr>\n",
       "    <tr>\n",
       "      <th>1</th>\n",
       "      <td>1</td>\n",
       "      <td>tt0066858</td>\n",
       "      <td>movie</td>\n",
       "      <td>boy friend</td>\n",
       "      <td>boy friend</td>\n",
       "      <td>0</td>\n",
       "      <td>1971</td>\n",
       "      <td>\\N</td>\n",
       "      <td>137</td>\n",
       "      <td>Comedy,Musical,Romance</td>\n",
       "      <td>...</td>\n",
       "      <td>Boy Friend, The (1971)</td>\n",
       "      <td>Comedy|Musical|Romance</td>\n",
       "      <td>boy friend</td>\n",
       "      <td>1971</td>\n",
       "      <td>nm0910589nm0493341nm0300083nm0012451nm0697799n...</td>\n",
       "      <td>3.40</td>\n",
       "      <td>2764.0</td>\n",
       "      <td>Comedy</td>\n",
       "      <td>Musical</td>\n",
       "      <td>Romance</td>\n",
       "    </tr>\n",
       "    <tr>\n",
       "      <th>2</th>\n",
       "      <td>2</td>\n",
       "      <td>tt0066892</td>\n",
       "      <td>movie</td>\n",
       "      <td>crnl knowledge</td>\n",
       "      <td>crnl knowledge</td>\n",
       "      <td>0</td>\n",
       "      <td>1971</td>\n",
       "      <td>\\N</td>\n",
       "      <td>98</td>\n",
       "      <td>Drama</td>\n",
       "      <td>...</td>\n",
       "      <td>Carnal Knowledge (1971)</td>\n",
       "      <td>Comedy|Drama</td>\n",
       "      <td>crnl knowledge</td>\n",
       "      <td>1971</td>\n",
       "      <td>nm0000197nm0000298nm0000268nm0307316nm0001566n...</td>\n",
       "      <td>3.50</td>\n",
       "      <td>10324.0</td>\n",
       "      <td>Drama</td>\n",
       "      <td>None</td>\n",
       "      <td>None</td>\n",
       "    </tr>\n",
       "  </tbody>\n",
       "</table>\n",
       "<p>3 rows × 21 columns</p>\n",
       "</div>"
      ],
      "text/plain": [
       "   Unnamed: 0     tconst titleType    primaryTitle   originalTitle  isAdult  \\\n",
       "0           0  tt0066856     movie     born to win     born to win        0   \n",
       "1           1  tt0066858     movie      boy friend      boy friend        0   \n",
       "2           2  tt0066892     movie  crnl knowledge  crnl knowledge        0   \n",
       "\n",
       "   startYear endYear runtimeMinutes             genres_imdb      ...       \\\n",
       "0       1971      \\N             88      Comedy,Crime,Drama      ...        \n",
       "1       1971      \\N            137  Comedy,Musical,Romance      ...        \n",
       "2       1971      \\N             98                   Drama      ...        \n",
       "\n",
       "                     title                  genres    titleCleaned  year  \\\n",
       "0       Born to Win (1971)                   Drama     born to win  1971   \n",
       "1   Boy Friend, The (1971)  Comedy|Musical|Romance      boy friend  1971   \n",
       "2  Carnal Knowledge (1971)            Comedy|Drama  crnl knowledge  1971   \n",
       "\n",
       "                                              nconst averageRating  numVotes  \\\n",
       "0  nm0005837nm0001719nm0696038nm0000947nm0282031n...          2.75    1432.0   \n",
       "1  nm0910589nm0493341nm0300083nm0012451nm0697799n...          3.40    2764.0   \n",
       "2  nm0000197nm0000298nm0000268nm0307316nm0001566n...          3.50   10324.0   \n",
       "\n",
       "   genres_imdb_0 genres_imdb_1 genres_imdb_2  \n",
       "0         Comedy         Crime         Drama  \n",
       "1         Comedy       Musical       Romance  \n",
       "2          Drama          None          None  \n",
       "\n",
       "[3 rows x 21 columns]"
      ]
     },
     "execution_count": 26,
     "metadata": {},
     "output_type": "execute_result"
    }
   ],
   "source": [
    "movies_imdb.head(3)"
   ]
  },
  {
   "cell_type": "code",
   "execution_count": 27,
   "metadata": {},
   "outputs": [
    {
     "name": "stdout",
     "output_type": "stream",
     "text": [
      "(14453730, 9)\n",
      "(1690360, 9)\n",
      "   movieId  userId   timestamp  rating  user_movie_ALS  user_genre_ALS  \\\n",
      "0    33794  108543  1141315698     4.0        4.061448        3.435761   \n",
      "1    33794  116656  1308349074     4.5        4.055828        3.234410   \n",
      "\n",
      "   user_actor_ALS  fold  lin_pred  \n",
      "0        3.240306     0  3.770295  \n",
      "1        3.690494     0  3.869308  \n",
      "   userId  movieId   timestamp  rating  user_movie_ALS  user_genre_ALS  \\\n",
      "0   40965     1217  1180039623     5.0        3.616524        3.165045   \n",
      "1  131172      466   835337608     4.0        2.412944        3.676014   \n",
      "\n",
      "   user_actor_ALS  fold  lin_pred  \n",
      "0        3.187873   NaN       NaN  \n",
      "1        2.545692   NaN       NaN  \n",
      "(3790860, 8)\n",
      "   userId  movieId   timestamp  user_movie_ALS  user_genre_ALS  \\\n",
      "0    2711     5902  1044313557        4.242603        3.521633   \n",
      "1    3352     1639   895849643        3.059602        3.224138   \n",
      "\n",
      "   user_actor_ALS  fold  lin_pred  \n",
      "0             NaN   NaN       NaN  \n",
      "1        3.300966   NaN       NaN  \n"
     ]
    }
   ],
   "source": [
    "print(als_train.shape)\n",
    "print(als_test.shape)\n",
    "print(als_train.head(2))\n",
    "print(als_test.head(2))\n",
    "print(als_final_test.shape)\n",
    "print(als_final_test.head(2))"
   ]
  },
  {
   "cell_type": "code",
   "execution_count": 28,
   "metadata": {},
   "outputs": [],
   "source": [
    "def rmse_asymmetric(rating, prediction):\n",
    "    bad_border = 4\n",
    "    \n",
    "    if rating < bad_border <= prediction:\n",
    "        penalty_coefficient = 2.0\n",
    "    else:\n",
    "        penalty_coefficient = 1.0\n",
    "    \n",
    "    return penalty_coefficient*(rating - prediction)**2\n",
    "\n",
    "\n",
    "def vector_rmse_asymmetric(df, true_col, pred_col, bad_border=4):\n",
    "    data = np.array(df[[true_col, pred_col]].values)\n",
    "    mask_1 = data[:, 0] < bad_border\n",
    "    mask_2 = data[:, 1] >= bad_border\n",
    "    penalty = data[mask_1 & mask_2]\n",
    "    not_penalty = data[~mask_1 & mask_2]\n",
    "    result = np.mean(np.concatenate((2 * (penalty[:, 0] - penalty[:, 1])  ** 2,\n",
    "                                    (not_penalty[:, 0] - not_penalty[:, 1])  ** 2), \n",
    "                                    axis=None))\n",
    "    return result"
   ]
  },
  {
   "cell_type": "code",
   "execution_count": 29,
   "metadata": {},
   "outputs": [],
   "source": [
    "als_train = pd.merge(als_train, movies_imdb, how='left', \n",
    "                     left_on=['movieId'], right_on=['movieId'])\n",
    "als_test = pd.merge(als_test, movies_imdb, how='left', \n",
    "                     left_on=['movieId'], right_on=['movieId'])\n",
    "als_final_test = pd.merge(als_final_test, movies_imdb, how='left', \n",
    "                     left_on=['movieId'], right_on=['movieId'])"
   ]
  },
  {
   "cell_type": "code",
   "execution_count": 30,
   "metadata": {},
   "outputs": [],
   "source": [
    "als_train['titleType'].fillna('None', inplace=True)\n",
    "als_test['titleType'].fillna('None', inplace=True)\n",
    "als_final_test['titleType'].fillna('None', inplace=True)\n",
    "\n",
    "als_train['genres_imdb_0'].fillna('None', inplace=True)\n",
    "als_test['genres_imdb_0'].fillna('None', inplace=True)\n",
    "als_final_test['genres_imdb_0'].fillna('None', inplace=True)\n",
    "\n",
    "als_train['genres_imdb_1'].fillna('None', inplace=True)\n",
    "als_test['genres_imdb_1'].fillna('None', inplace=True)\n",
    "als_final_test['genres_imdb_1'].fillna('None', inplace=True)\n",
    "\n",
    "als_train['genres_imdb_2'].fillna('None', inplace=True)\n",
    "als_test['genres_imdb_2'].fillna('None', inplace=True)\n",
    "als_final_test['genres_imdb_2'].fillna('None', inplace=True)"
   ]
  },
  {
   "cell_type": "code",
   "execution_count": 31,
   "metadata": {},
   "outputs": [
    {
     "data": {
      "text/html": [
       "<div>\n",
       "<style scoped>\n",
       "    .dataframe tbody tr th:only-of-type {\n",
       "        vertical-align: middle;\n",
       "    }\n",
       "\n",
       "    .dataframe tbody tr th {\n",
       "        vertical-align: top;\n",
       "    }\n",
       "\n",
       "    .dataframe thead th {\n",
       "        text-align: right;\n",
       "    }\n",
       "</style>\n",
       "<table border=\"1\" class=\"dataframe\">\n",
       "  <thead>\n",
       "    <tr style=\"text-align: right;\">\n",
       "      <th></th>\n",
       "      <th>movieId</th>\n",
       "      <th>userId</th>\n",
       "      <th>timestamp</th>\n",
       "      <th>rating</th>\n",
       "      <th>user_movie_ALS</th>\n",
       "      <th>user_genre_ALS</th>\n",
       "      <th>user_actor_ALS</th>\n",
       "      <th>fold</th>\n",
       "      <th>lin_pred</th>\n",
       "      <th>Unnamed: 0</th>\n",
       "      <th>...</th>\n",
       "      <th>title</th>\n",
       "      <th>genres</th>\n",
       "      <th>titleCleaned</th>\n",
       "      <th>year</th>\n",
       "      <th>nconst</th>\n",
       "      <th>averageRating</th>\n",
       "      <th>numVotes</th>\n",
       "      <th>genres_imdb_0</th>\n",
       "      <th>genres_imdb_1</th>\n",
       "      <th>genres_imdb_2</th>\n",
       "    </tr>\n",
       "  </thead>\n",
       "  <tbody>\n",
       "    <tr>\n",
       "      <th>0</th>\n",
       "      <td>33794</td>\n",
       "      <td>108543</td>\n",
       "      <td>1141315698</td>\n",
       "      <td>4.0</td>\n",
       "      <td>4.061448</td>\n",
       "      <td>3.435761</td>\n",
       "      <td>3.240306</td>\n",
       "      <td>0</td>\n",
       "      <td>3.770295</td>\n",
       "      <td>9943.0</td>\n",
       "      <td>...</td>\n",
       "      <td>Batman Begins (2005)</td>\n",
       "      <td>Action|Crime|IMAX</td>\n",
       "      <td>btmn begins</td>\n",
       "      <td>2005.0</td>\n",
       "      <td>nm0746273nm0000288nm0000323nm0913822nm0000553n...</td>\n",
       "      <td>4.1</td>\n",
       "      <td>1224005.0</td>\n",
       "      <td>Action</td>\n",
       "      <td>Adventure</td>\n",
       "      <td>None</td>\n",
       "    </tr>\n",
       "    <tr>\n",
       "      <th>1</th>\n",
       "      <td>33794</td>\n",
       "      <td>116656</td>\n",
       "      <td>1308349074</td>\n",
       "      <td>4.5</td>\n",
       "      <td>4.055828</td>\n",
       "      <td>3.234410</td>\n",
       "      <td>3.690494</td>\n",
       "      <td>0</td>\n",
       "      <td>3.869308</td>\n",
       "      <td>9943.0</td>\n",
       "      <td>...</td>\n",
       "      <td>Batman Begins (2005)</td>\n",
       "      <td>Action|Crime|IMAX</td>\n",
       "      <td>btmn begins</td>\n",
       "      <td>2005.0</td>\n",
       "      <td>nm0746273nm0000288nm0000323nm0913822nm0000553n...</td>\n",
       "      <td>4.1</td>\n",
       "      <td>1224005.0</td>\n",
       "      <td>Action</td>\n",
       "      <td>Adventure</td>\n",
       "      <td>None</td>\n",
       "    </tr>\n",
       "    <tr>\n",
       "      <th>2</th>\n",
       "      <td>33794</td>\n",
       "      <td>113116</td>\n",
       "      <td>1297394692</td>\n",
       "      <td>3.0</td>\n",
       "      <td>3.999297</td>\n",
       "      <td>3.608127</td>\n",
       "      <td>3.915428</td>\n",
       "      <td>0</td>\n",
       "      <td>3.770065</td>\n",
       "      <td>9943.0</td>\n",
       "      <td>...</td>\n",
       "      <td>Batman Begins (2005)</td>\n",
       "      <td>Action|Crime|IMAX</td>\n",
       "      <td>btmn begins</td>\n",
       "      <td>2005.0</td>\n",
       "      <td>nm0746273nm0000288nm0000323nm0913822nm0000553n...</td>\n",
       "      <td>4.1</td>\n",
       "      <td>1224005.0</td>\n",
       "      <td>Action</td>\n",
       "      <td>Adventure</td>\n",
       "      <td>None</td>\n",
       "    </tr>\n",
       "  </tbody>\n",
       "</table>\n",
       "<p>3 rows × 29 columns</p>\n",
       "</div>"
      ],
      "text/plain": [
       "   movieId  userId   timestamp  rating  user_movie_ALS  user_genre_ALS  \\\n",
       "0    33794  108543  1141315698     4.0        4.061448        3.435761   \n",
       "1    33794  116656  1308349074     4.5        4.055828        3.234410   \n",
       "2    33794  113116  1297394692     3.0        3.999297        3.608127   \n",
       "\n",
       "   user_actor_ALS  fold  lin_pred  Unnamed: 0      ...       \\\n",
       "0        3.240306     0  3.770295      9943.0      ...        \n",
       "1        3.690494     0  3.869308      9943.0      ...        \n",
       "2        3.915428     0  3.770065      9943.0      ...        \n",
       "\n",
       "                  title             genres titleCleaned    year  \\\n",
       "0  Batman Begins (2005)  Action|Crime|IMAX  btmn begins  2005.0   \n",
       "1  Batman Begins (2005)  Action|Crime|IMAX  btmn begins  2005.0   \n",
       "2  Batman Begins (2005)  Action|Crime|IMAX  btmn begins  2005.0   \n",
       "\n",
       "                                              nconst  averageRating  \\\n",
       "0  nm0746273nm0000288nm0000323nm0913822nm0000553n...            4.1   \n",
       "1  nm0746273nm0000288nm0000323nm0913822nm0000553n...            4.1   \n",
       "2  nm0746273nm0000288nm0000323nm0913822nm0000553n...            4.1   \n",
       "\n",
       "    numVotes genres_imdb_0 genres_imdb_1 genres_imdb_2  \n",
       "0  1224005.0        Action     Adventure          None  \n",
       "1  1224005.0        Action     Adventure          None  \n",
       "2  1224005.0        Action     Adventure          None  \n",
       "\n",
       "[3 rows x 29 columns]"
      ]
     },
     "execution_count": 31,
     "metadata": {},
     "output_type": "execute_result"
    }
   ],
   "source": [
    "als_train.head(3)"
   ]
  },
  {
   "cell_type": "code",
   "execution_count": 32,
   "metadata": {},
   "outputs": [
    {
     "data": {
      "text/plain": [
       "Index(['userId', 'movieId', 'timestamp', 'rating', 'user_movie_ALS',\n",
       "       'user_genre_ALS', 'user_actor_ALS', 'fold', 'lin_pred', 'Unnamed: 0',\n",
       "       'tconst', 'titleType', 'primaryTitle', 'originalTitle', 'isAdult',\n",
       "       'startYear', 'endYear', 'runtimeMinutes', 'genres_imdb', 'title',\n",
       "       'genres', 'titleCleaned', 'year', 'nconst', 'averageRating', 'numVotes',\n",
       "       'genres_imdb_0', 'genres_imdb_1', 'genres_imdb_2'],\n",
       "      dtype='object')"
      ]
     },
     "execution_count": 32,
     "metadata": {},
     "output_type": "execute_result"
    }
   ],
   "source": [
    "als_test.columns"
   ]
  },
  {
   "cell_type": "code",
   "execution_count": 33,
   "metadata": {},
   "outputs": [],
   "source": [
    "als_train['curr_date'] = list(map(lambda x: datetime.fromtimestamp(x).isoformat(), als_train['timestamp']))\n",
    "als_test['curr_date'] = list(map(lambda x: datetime.fromtimestamp(x).isoformat(), als_test['timestamp']))\n",
    "als_final_test['curr_date'] = list(map(lambda x: datetime.fromtimestamp(x).isoformat(), als_final_test['timestamp']))"
   ]
  },
  {
   "cell_type": "code",
   "execution_count": 34,
   "metadata": {},
   "outputs": [],
   "source": [
    "als_train['curr_year'] = list(map(lambda x: float(x[:4]), als_train['curr_date']))\n",
    "als_test['curr_year'] = list(map(lambda x: float(x[:4]), als_test['curr_date']))\n",
    "als_final_test['curr_year'] = list(map(lambda x: float(x[:4]), als_final_test['curr_date']))\n",
    "\n",
    "als_train['curr_month'] = list(map(lambda x: x[5:7], als_train['curr_date']))\n",
    "als_test['curr_month'] = list(map(lambda x: x[5:7], als_test['curr_date']))\n",
    "als_final_test['curr_month'] = list(map(lambda x: x[5:7], als_final_test['curr_date']))\n",
    "\n",
    "als_train['movie_age'] = als_train['curr_year'] - als_train['year']\n",
    "als_test['movie_age'] = als_test['curr_year'] - als_test['year']\n",
    "als_final_test['movie_age'] = als_final_test['curr_year'] - als_final_test['year']"
   ]
  },
  {
   "cell_type": "code",
   "execution_count": 35,
   "metadata": {},
   "outputs": [
    {
     "data": {
      "text/html": [
       "<div>\n",
       "<style scoped>\n",
       "    .dataframe tbody tr th:only-of-type {\n",
       "        vertical-align: middle;\n",
       "    }\n",
       "\n",
       "    .dataframe tbody tr th {\n",
       "        vertical-align: top;\n",
       "    }\n",
       "\n",
       "    .dataframe thead th {\n",
       "        text-align: right;\n",
       "    }\n",
       "</style>\n",
       "<table border=\"1\" class=\"dataframe\">\n",
       "  <thead>\n",
       "    <tr style=\"text-align: right;\">\n",
       "      <th></th>\n",
       "      <th>movieId</th>\n",
       "      <th>userId</th>\n",
       "      <th>timestamp</th>\n",
       "      <th>rating</th>\n",
       "      <th>user_movie_ALS</th>\n",
       "      <th>user_genre_ALS</th>\n",
       "      <th>user_actor_ALS</th>\n",
       "      <th>fold</th>\n",
       "      <th>lin_pred</th>\n",
       "      <th>Unnamed: 0</th>\n",
       "      <th>...</th>\n",
       "      <th>nconst</th>\n",
       "      <th>averageRating</th>\n",
       "      <th>numVotes</th>\n",
       "      <th>genres_imdb_0</th>\n",
       "      <th>genres_imdb_1</th>\n",
       "      <th>genres_imdb_2</th>\n",
       "      <th>curr_date</th>\n",
       "      <th>curr_year</th>\n",
       "      <th>curr_month</th>\n",
       "      <th>movie_age</th>\n",
       "    </tr>\n",
       "  </thead>\n",
       "  <tbody>\n",
       "    <tr>\n",
       "      <th>0</th>\n",
       "      <td>33794</td>\n",
       "      <td>108543</td>\n",
       "      <td>1141315698</td>\n",
       "      <td>4.0</td>\n",
       "      <td>4.061448</td>\n",
       "      <td>3.435761</td>\n",
       "      <td>3.240306</td>\n",
       "      <td>0</td>\n",
       "      <td>3.770295</td>\n",
       "      <td>9943.0</td>\n",
       "      <td>...</td>\n",
       "      <td>nm0746273nm0000288nm0000323nm0913822nm0000553n...</td>\n",
       "      <td>4.1</td>\n",
       "      <td>1224005.0</td>\n",
       "      <td>Action</td>\n",
       "      <td>Adventure</td>\n",
       "      <td>None</td>\n",
       "      <td>2006-03-02T19:08:18</td>\n",
       "      <td>2006.0</td>\n",
       "      <td>03</td>\n",
       "      <td>1.0</td>\n",
       "    </tr>\n",
       "  </tbody>\n",
       "</table>\n",
       "<p>1 rows × 33 columns</p>\n",
       "</div>"
      ],
      "text/plain": [
       "   movieId  userId   timestamp  rating  user_movie_ALS  user_genre_ALS  \\\n",
       "0    33794  108543  1141315698     4.0        4.061448        3.435761   \n",
       "\n",
       "   user_actor_ALS  fold  lin_pred  Unnamed: 0    ...     \\\n",
       "0        3.240306     0  3.770295      9943.0    ...      \n",
       "\n",
       "                                              nconst averageRating   numVotes  \\\n",
       "0  nm0746273nm0000288nm0000323nm0913822nm0000553n...           4.1  1224005.0   \n",
       "\n",
       "  genres_imdb_0  genres_imdb_1  genres_imdb_2            curr_date curr_year  \\\n",
       "0        Action      Adventure           None  2006-03-02T19:08:18    2006.0   \n",
       "\n",
       "  curr_month movie_age  \n",
       "0         03       1.0  \n",
       "\n",
       "[1 rows x 33 columns]"
      ]
     },
     "execution_count": 35,
     "metadata": {},
     "output_type": "execute_result"
    }
   ],
   "source": [
    "als_train.head(1)"
   ]
  },
  {
   "cell_type": "code",
   "execution_count": 36,
   "metadata": {},
   "outputs": [
    {
     "name": "stderr",
     "output_type": "stream",
     "text": [
      "C:\\Users\\Evgeny\\Anaconda3\\lib\\site-packages\\ipykernel_launcher.py:15: RuntimeWarning: invalid value encountered in greater_equal\n",
      "  from ipykernel import kernelapp as app\n"
     ]
    },
    {
     "name": "stdout",
     "output_type": "stream",
     "text": [
      "0.6197099090875856\n",
      "1.0423400236647804\n",
      "0.7162128806061265\n",
      "1.3887644861972723\n",
      "1.4576650118188108\n"
     ]
    }
   ],
   "source": [
    "print(vector_rmse_asymmetric(als_train, 'rating', 'user_movie_ALS'))\n",
    "print(vector_rmse_asymmetric(als_train, 'rating', 'user_genre_ALS'))\n",
    "print(vector_rmse_asymmetric(als_train, 'rating', 'user_actor_ALS'))\n",
    "print(vector_rmse_asymmetric(als_train, 'rating', 'averageRating'))\n",
    "print(vector_rmse_asymmetric(als_train, 'rating', 'lin_pred'))"
   ]
  },
  {
   "cell_type": "code",
   "execution_count": 37,
   "metadata": {},
   "outputs": [],
   "source": [
    "feature_columns = [\n",
    "    'user_movie_ALS', \n",
    "    'user_genre_ALS', \n",
    "    'user_actor_ALS', \n",
    "    'averageRating', \n",
    "    'isAdult', \n",
    "    'runtimeMinutes', \n",
    "    'numVotes', \n",
    "    #'year', \n",
    "    'movie_age', \n",
    "    #'curr_year', \n",
    "    #'lin_pred'\n",
    "]\n",
    "cat_feature_columns = [\n",
    "    #'titleType', \n",
    "    #'genres_imdb_0', \n",
    "    #'genres_imdb_1', \n",
    "    #'genres_imdb_2', \n",
    "    #'curr_month'\n",
    "]\n",
    "train_columns = feature_columns + cat_feature_columns"
   ]
  },
  {
   "cell_type": "code",
   "execution_count": 38,
   "metadata": {},
   "outputs": [],
   "source": [
    "train_data = als_train[train_columns]\n",
    "train_target = als_train['rating']\n",
    "\n",
    "test_data = als_test[train_columns]\n",
    "test_target = als_test['rating']"
   ]
  },
  {
   "cell_type": "code",
   "execution_count": 39,
   "metadata": {},
   "outputs": [],
   "source": [
    "bad_border = 4\n",
    "mask_1 = np.array(train_target.values) < bad_border\n",
    "weights = np.ones(len(train_data))\n",
    "weights[mask_1] = 2"
   ]
  },
  {
   "cell_type": "code",
   "execution_count": 40,
   "metadata": {},
   "outputs": [
    {
     "data": {
      "text/plain": [
       "array([1., 1., 2., ..., 2., 1., 2.])"
      ]
     },
     "execution_count": 40,
     "metadata": {},
     "output_type": "execute_result"
    }
   ],
   "source": [
    "weights"
   ]
  },
  {
   "cell_type": "code",
   "execution_count": 41,
   "metadata": {},
   "outputs": [],
   "source": [
    "model = CatBoostRegressor(iterations=500)"
   ]
  },
  {
   "cell_type": "code",
   "execution_count": 42,
   "metadata": {
    "scrolled": true
   },
   "outputs": [
    {
     "name": "stdout",
     "output_type": "stream",
     "text": [
      "0:\tlearn: 3.3413932\ttotal: 1.12s\tremaining: 9m 21s\n",
      "1:\tlearn: 3.2472949\ttotal: 2.16s\tremaining: 8m 58s\n",
      "2:\tlearn: 3.1560980\ttotal: 3.19s\tremaining: 8m 48s\n",
      "3:\tlearn: 3.0678892\ttotal: 4.24s\tremaining: 8m 45s\n",
      "4:\tlearn: 2.9824844\ttotal: 5.28s\tremaining: 8m 42s\n",
      "5:\tlearn: 2.8998389\ttotal: 6.56s\tremaining: 9m\n",
      "6:\tlearn: 2.8197642\ttotal: 7.87s\tremaining: 9m 14s\n",
      "7:\tlearn: 2.7422953\ttotal: 9.05s\tremaining: 9m 16s\n",
      "8:\tlearn: 2.6673069\ttotal: 10.2s\tremaining: 9m 15s\n",
      "9:\tlearn: 2.5949555\ttotal: 11.4s\tremaining: 9m 18s\n",
      "10:\tlearn: 2.5247602\ttotal: 12.5s\tremaining: 9m 16s\n",
      "11:\tlearn: 2.4568909\ttotal: 13.7s\tremaining: 9m 15s\n",
      "12:\tlearn: 2.3912744\ttotal: 14.8s\tremaining: 9m 15s\n",
      "13:\tlearn: 2.3277781\ttotal: 16s\tremaining: 9m 15s\n",
      "14:\tlearn: 2.2665120\ttotal: 17.2s\tremaining: 9m 16s\n",
      "15:\tlearn: 2.2072210\ttotal: 18.4s\tremaining: 9m 15s\n",
      "16:\tlearn: 2.1499759\ttotal: 19.5s\tremaining: 9m 14s\n",
      "17:\tlearn: 2.0946725\ttotal: 20.7s\tremaining: 9m 14s\n",
      "18:\tlearn: 2.0412872\ttotal: 21.9s\tremaining: 9m 14s\n",
      "19:\tlearn: 1.9897236\ttotal: 23s\tremaining: 9m 12s\n",
      "20:\tlearn: 1.9399365\ttotal: 24.1s\tremaining: 9m 10s\n",
      "21:\tlearn: 1.8918239\ttotal: 25.3s\tremaining: 9m 10s\n",
      "22:\tlearn: 1.8454266\ttotal: 26.5s\tremaining: 9m 9s\n",
      "23:\tlearn: 1.8006360\ttotal: 27.6s\tremaining: 9m 8s\n",
      "24:\tlearn: 1.7575247\ttotal: 28.8s\tremaining: 9m 6s\n",
      "25:\tlearn: 1.7159439\ttotal: 29.9s\tremaining: 9m 5s\n",
      "26:\tlearn: 1.6758653\ttotal: 31.1s\tremaining: 9m 4s\n",
      "27:\tlearn: 1.6372758\ttotal: 32.2s\tremaining: 9m 3s\n",
      "28:\tlearn: 1.6001061\ttotal: 33.4s\tremaining: 9m 1s\n",
      "29:\tlearn: 1.5642635\ttotal: 34.5s\tremaining: 9m\n",
      "30:\tlearn: 1.5297998\ttotal: 35.6s\tremaining: 8m 59s\n",
      "31:\tlearn: 1.4966658\ttotal: 36.8s\tremaining: 8m 58s\n",
      "32:\tlearn: 1.4647940\ttotal: 38.1s\tremaining: 8m 58s\n",
      "33:\tlearn: 1.4341157\ttotal: 39.3s\tremaining: 8m 58s\n",
      "34:\tlearn: 1.4047100\ttotal: 40.4s\tremaining: 8m 57s\n",
      "35:\tlearn: 1.3764328\ttotal: 41.6s\tremaining: 8m 55s\n",
      "36:\tlearn: 1.3493008\ttotal: 42.7s\tremaining: 8m 54s\n",
      "37:\tlearn: 1.3231995\ttotal: 43.9s\tremaining: 8m 53s\n",
      "38:\tlearn: 1.2982048\ttotal: 45s\tremaining: 8m 52s\n",
      "39:\tlearn: 1.2742283\ttotal: 46.1s\tremaining: 8m 50s\n",
      "40:\tlearn: 1.2511669\ttotal: 47.3s\tremaining: 8m 49s\n",
      "41:\tlearn: 1.2290882\ttotal: 48.5s\tremaining: 8m 48s\n",
      "42:\tlearn: 1.2079521\ttotal: 49.7s\tremaining: 8m 48s\n",
      "43:\tlearn: 1.1877188\ttotal: 50.9s\tremaining: 8m 47s\n",
      "44:\tlearn: 1.1683613\ttotal: 52.1s\tremaining: 8m 46s\n",
      "45:\tlearn: 1.1498221\ttotal: 53.3s\tremaining: 8m 45s\n",
      "46:\tlearn: 1.1321423\ttotal: 54.5s\tremaining: 8m 45s\n",
      "47:\tlearn: 1.1152589\ttotal: 56.1s\tremaining: 8m 48s\n",
      "48:\tlearn: 1.0990778\ttotal: 57.6s\tremaining: 8m 49s\n",
      "49:\tlearn: 1.0836422\ttotal: 58.9s\tremaining: 8m 50s\n",
      "50:\tlearn: 1.0689112\ttotal: 1m\tremaining: 8m 49s\n",
      "51:\tlearn: 1.0548687\ttotal: 1m 1s\tremaining: 8m 49s\n",
      "52:\tlearn: 1.0415037\ttotal: 1m 2s\tremaining: 8m 49s\n",
      "53:\tlearn: 1.0287628\ttotal: 1m 4s\tremaining: 8m 49s\n",
      "54:\tlearn: 1.0165679\ttotal: 1m 5s\tremaining: 8m 47s\n",
      "55:\tlearn: 1.0049889\ttotal: 1m 6s\tremaining: 8m 46s\n",
      "56:\tlearn: 0.9939627\ttotal: 1m 7s\tremaining: 8m 45s\n",
      "57:\tlearn: 0.9835097\ttotal: 1m 8s\tremaining: 8m 44s\n",
      "58:\tlearn: 0.9735461\ttotal: 1m 10s\tremaining: 8m 43s\n",
      "59:\tlearn: 0.9640743\ttotal: 1m 11s\tremaining: 8m 42s\n",
      "60:\tlearn: 0.9550762\ttotal: 1m 12s\tremaining: 8m 41s\n",
      "61:\tlearn: 0.9465452\ttotal: 1m 13s\tremaining: 8m 40s\n",
      "62:\tlearn: 0.9384257\ttotal: 1m 14s\tremaining: 8m 40s\n",
      "63:\tlearn: 0.9307264\ttotal: 1m 16s\tremaining: 8m 39s\n",
      "64:\tlearn: 0.9233817\ttotal: 1m 17s\tremaining: 8m 38s\n",
      "65:\tlearn: 0.9164385\ttotal: 1m 18s\tremaining: 8m 36s\n",
      "66:\tlearn: 0.9098431\ttotal: 1m 19s\tremaining: 8m 35s\n",
      "67:\tlearn: 0.9035952\ttotal: 1m 20s\tremaining: 8m 34s\n",
      "68:\tlearn: 0.8976616\ttotal: 1m 22s\tremaining: 8m 33s\n",
      "69:\tlearn: 0.8920406\ttotal: 1m 23s\tremaining: 8m 32s\n",
      "70:\tlearn: 0.8867297\ttotal: 1m 24s\tremaining: 8m 31s\n",
      "71:\tlearn: 0.8816862\ttotal: 1m 25s\tremaining: 8m 30s\n",
      "72:\tlearn: 0.8769132\ttotal: 1m 27s\tremaining: 8m 29s\n",
      "73:\tlearn: 0.8724193\ttotal: 1m 28s\tremaining: 8m 27s\n",
      "74:\tlearn: 0.8681562\ttotal: 1m 29s\tremaining: 8m 26s\n",
      "75:\tlearn: 0.8641055\ttotal: 1m 30s\tremaining: 8m 25s\n",
      "76:\tlearn: 0.8602857\ttotal: 1m 31s\tremaining: 8m 23s\n",
      "77:\tlearn: 0.8566836\ttotal: 1m 32s\tremaining: 8m 22s\n",
      "78:\tlearn: 0.8532932\ttotal: 1m 33s\tremaining: 8m 20s\n",
      "79:\tlearn: 0.8500743\ttotal: 1m 35s\tremaining: 8m 19s\n",
      "80:\tlearn: 0.8470185\ttotal: 1m 36s\tremaining: 8m 17s\n",
      "81:\tlearn: 0.8441313\ttotal: 1m 37s\tremaining: 8m 16s\n",
      "82:\tlearn: 0.8414353\ttotal: 1m 38s\tremaining: 8m 14s\n",
      "83:\tlearn: 0.8388602\ttotal: 1m 39s\tremaining: 8m 13s\n",
      "84:\tlearn: 0.8364475\ttotal: 1m 40s\tremaining: 8m 11s\n",
      "85:\tlearn: 0.8341586\ttotal: 1m 41s\tremaining: 8m 10s\n",
      "86:\tlearn: 0.8320015\ttotal: 1m 43s\tremaining: 8m 9s\n",
      "87:\tlearn: 0.8299576\ttotal: 1m 44s\tremaining: 8m 7s\n",
      "88:\tlearn: 0.8280390\ttotal: 1m 45s\tremaining: 8m 6s\n",
      "89:\tlearn: 0.8262101\ttotal: 1m 46s\tremaining: 8m 5s\n",
      "90:\tlearn: 0.8244976\ttotal: 1m 47s\tremaining: 8m 4s\n",
      "91:\tlearn: 0.8228762\ttotal: 1m 48s\tremaining: 8m 3s\n",
      "92:\tlearn: 0.8213621\ttotal: 1m 50s\tremaining: 8m 2s\n",
      "93:\tlearn: 0.8199168\ttotal: 1m 51s\tremaining: 8m 1s\n",
      "94:\tlearn: 0.8185725\ttotal: 1m 52s\tremaining: 7m 59s\n",
      "95:\tlearn: 0.8172866\ttotal: 1m 53s\tremaining: 7m 58s\n",
      "96:\tlearn: 0.8160722\ttotal: 1m 54s\tremaining: 7m 57s\n",
      "97:\tlearn: 0.8149398\ttotal: 1m 55s\tremaining: 7m 55s\n",
      "98:\tlearn: 0.8138605\ttotal: 1m 57s\tremaining: 7m 54s\n",
      "99:\tlearn: 0.8128460\ttotal: 1m 58s\tremaining: 7m 53s\n",
      "100:\tlearn: 0.8118869\ttotal: 1m 59s\tremaining: 7m 51s\n",
      "101:\tlearn: 0.8109787\ttotal: 2m\tremaining: 7m 50s\n",
      "102:\tlearn: 0.8101308\ttotal: 2m 1s\tremaining: 7m 49s\n",
      "103:\tlearn: 0.8093179\ttotal: 2m 2s\tremaining: 7m 47s\n",
      "104:\tlearn: 0.8085578\ttotal: 2m 3s\tremaining: 7m 46s\n",
      "105:\tlearn: 0.8078364\ttotal: 2m 5s\tremaining: 7m 45s\n",
      "106:\tlearn: 0.8071653\ttotal: 2m 6s\tremaining: 7m 43s\n",
      "107:\tlearn: 0.8065319\ttotal: 2m 7s\tremaining: 7m 42s\n",
      "108:\tlearn: 0.8059301\ttotal: 2m 8s\tremaining: 7m 41s\n",
      "109:\tlearn: 0.8053659\ttotal: 2m 9s\tremaining: 7m 40s\n",
      "110:\tlearn: 0.8048380\ttotal: 2m 10s\tremaining: 7m 38s\n",
      "111:\tlearn: 0.8043345\ttotal: 2m 12s\tremaining: 7m 37s\n",
      "112:\tlearn: 0.8038550\ttotal: 2m 13s\tremaining: 7m 36s\n",
      "113:\tlearn: 0.8034039\ttotal: 2m 14s\tremaining: 7m 34s\n",
      "114:\tlearn: 0.8029832\ttotal: 2m 15s\tremaining: 7m 33s\n",
      "115:\tlearn: 0.8025834\ttotal: 2m 16s\tremaining: 7m 32s\n",
      "116:\tlearn: 0.8022078\ttotal: 2m 17s\tremaining: 7m 31s\n",
      "117:\tlearn: 0.8018526\ttotal: 2m 19s\tremaining: 7m 30s\n",
      "118:\tlearn: 0.8015176\ttotal: 2m 20s\tremaining: 7m 29s\n",
      "119:\tlearn: 0.8011998\ttotal: 2m 21s\tremaining: 7m 28s\n",
      "120:\tlearn: 0.8009063\ttotal: 2m 22s\tremaining: 7m 27s\n",
      "121:\tlearn: 0.8006238\ttotal: 2m 24s\tremaining: 7m 26s\n",
      "122:\tlearn: 0.8003591\ttotal: 2m 25s\tremaining: 7m 25s\n",
      "123:\tlearn: 0.8001039\ttotal: 2m 26s\tremaining: 7m 23s\n",
      "124:\tlearn: 0.7998634\ttotal: 2m 27s\tremaining: 7m 22s\n",
      "125:\tlearn: 0.7996434\ttotal: 2m 28s\tremaining: 7m 21s\n",
      "126:\tlearn: 0.7994316\ttotal: 2m 29s\tremaining: 7m 19s\n",
      "127:\tlearn: 0.7992328\ttotal: 2m 30s\tremaining: 7m 18s\n",
      "128:\tlearn: 0.7990435\ttotal: 2m 31s\tremaining: 7m 17s\n",
      "129:\tlearn: 0.7988655\ttotal: 2m 33s\tremaining: 7m 15s\n",
      "130:\tlearn: 0.7986979\ttotal: 2m 34s\tremaining: 7m 14s\n",
      "131:\tlearn: 0.7985369\ttotal: 2m 35s\tremaining: 7m 12s\n",
      "132:\tlearn: 0.7983854\ttotal: 2m 36s\tremaining: 7m 11s\n",
      "133:\tlearn: 0.7982431\ttotal: 2m 37s\tremaining: 7m 10s\n",
      "134:\tlearn: 0.7981063\ttotal: 2m 38s\tremaining: 7m 9s\n",
      "135:\tlearn: 0.7979781\ttotal: 2m 40s\tremaining: 7m 8s\n",
      "136:\tlearn: 0.7978552\ttotal: 2m 41s\tremaining: 7m 7s\n",
      "137:\tlearn: 0.7977390\ttotal: 2m 42s\tremaining: 7m 6s\n",
      "138:\tlearn: 0.7976301\ttotal: 2m 43s\tremaining: 7m 5s\n",
      "139:\tlearn: 0.7975309\ttotal: 2m 44s\tremaining: 7m 3s\n",
      "140:\tlearn: 0.7974313\ttotal: 2m 46s\tremaining: 7m 2s\n",
      "141:\tlearn: 0.7973398\ttotal: 2m 47s\tremaining: 7m 1s\n",
      "142:\tlearn: 0.7972509\ttotal: 2m 48s\tremaining: 7m\n",
      "143:\tlearn: 0.7971649\ttotal: 2m 49s\tremaining: 6m 59s\n",
      "144:\tlearn: 0.7970888\ttotal: 2m 50s\tremaining: 6m 58s\n",
      "145:\tlearn: 0.7970117\ttotal: 2m 52s\tremaining: 6m 57s\n",
      "146:\tlearn: 0.7969418\ttotal: 2m 53s\tremaining: 6m 56s\n",
      "147:\tlearn: 0.7968744\ttotal: 2m 54s\tremaining: 6m 54s\n",
      "148:\tlearn: 0.7968098\ttotal: 2m 55s\tremaining: 6m 53s\n",
      "149:\tlearn: 0.7967501\ttotal: 2m 56s\tremaining: 6m 52s\n",
      "150:\tlearn: 0.7966935\ttotal: 2m 58s\tremaining: 6m 51s\n",
      "151:\tlearn: 0.7966357\ttotal: 2m 59s\tremaining: 6m 50s\n",
      "152:\tlearn: 0.7965855\ttotal: 3m\tremaining: 6m 49s\n",
      "153:\tlearn: 0.7965352\ttotal: 3m 1s\tremaining: 6m 48s\n",
      "154:\tlearn: 0.7964837\ttotal: 3m 2s\tremaining: 6m 47s\n",
      "155:\tlearn: 0.7964384\ttotal: 3m 4s\tremaining: 6m 45s\n"
     ]
    },
    {
     "name": "stdout",
     "output_type": "stream",
     "text": [
      "156:\tlearn: 0.7963971\ttotal: 3m 5s\tremaining: 6m 44s\n",
      "157:\tlearn: 0.7963549\ttotal: 3m 6s\tremaining: 6m 43s\n",
      "158:\tlearn: 0.7963173\ttotal: 3m 7s\tremaining: 6m 42s\n",
      "159:\tlearn: 0.7962797\ttotal: 3m 8s\tremaining: 6m 40s\n",
      "160:\tlearn: 0.7962453\ttotal: 3m 9s\tremaining: 6m 39s\n",
      "161:\tlearn: 0.7962123\ttotal: 3m 11s\tremaining: 6m 38s\n",
      "162:\tlearn: 0.7961774\ttotal: 3m 12s\tremaining: 6m 38s\n",
      "163:\tlearn: 0.7961448\ttotal: 3m 13s\tremaining: 6m 36s\n",
      "164:\tlearn: 0.7961165\ttotal: 3m 14s\tremaining: 6m 35s\n",
      "165:\tlearn: 0.7960872\ttotal: 3m 15s\tremaining: 6m 34s\n",
      "166:\tlearn: 0.7960601\ttotal: 3m 17s\tremaining: 6m 33s\n",
      "167:\tlearn: 0.7960313\ttotal: 3m 18s\tremaining: 6m 32s\n",
      "168:\tlearn: 0.7960049\ttotal: 3m 19s\tremaining: 6m 31s\n",
      "169:\tlearn: 0.7959827\ttotal: 3m 20s\tremaining: 6m 30s\n",
      "170:\tlearn: 0.7959568\ttotal: 3m 22s\tremaining: 6m 28s\n",
      "171:\tlearn: 0.7959361\ttotal: 3m 23s\tremaining: 6m 27s\n",
      "172:\tlearn: 0.7959142\ttotal: 3m 24s\tremaining: 6m 26s\n",
      "173:\tlearn: 0.7958956\ttotal: 3m 25s\tremaining: 6m 25s\n",
      "174:\tlearn: 0.7958770\ttotal: 3m 26s\tremaining: 6m 24s\n",
      "175:\tlearn: 0.7958574\ttotal: 3m 28s\tremaining: 6m 23s\n",
      "176:\tlearn: 0.7958380\ttotal: 3m 29s\tremaining: 6m 22s\n",
      "177:\tlearn: 0.7958209\ttotal: 3m 30s\tremaining: 6m 21s\n",
      "178:\tlearn: 0.7958042\ttotal: 3m 31s\tremaining: 6m 19s\n",
      "179:\tlearn: 0.7957893\ttotal: 3m 32s\tremaining: 6m 18s\n",
      "180:\tlearn: 0.7957697\ttotal: 3m 34s\tremaining: 6m 17s\n",
      "181:\tlearn: 0.7957559\ttotal: 3m 35s\tremaining: 6m 16s\n",
      "182:\tlearn: 0.7957385\ttotal: 3m 36s\tremaining: 6m 15s\n",
      "183:\tlearn: 0.7957250\ttotal: 3m 37s\tremaining: 6m 13s\n",
      "184:\tlearn: 0.7957125\ttotal: 3m 38s\tremaining: 6m 12s\n",
      "185:\tlearn: 0.7956974\ttotal: 3m 40s\tremaining: 6m 11s\n",
      "186:\tlearn: 0.7956843\ttotal: 3m 41s\tremaining: 6m 10s\n",
      "187:\tlearn: 0.7956690\ttotal: 3m 42s\tremaining: 6m 9s\n",
      "188:\tlearn: 0.7956555\ttotal: 3m 43s\tremaining: 6m 8s\n",
      "189:\tlearn: 0.7956449\ttotal: 3m 44s\tremaining: 6m 6s\n",
      "190:\tlearn: 0.7956337\ttotal: 3m 46s\tremaining: 6m 5s\n",
      "191:\tlearn: 0.7956233\ttotal: 3m 47s\tremaining: 6m 4s\n",
      "192:\tlearn: 0.7956110\ttotal: 3m 48s\tremaining: 6m 3s\n",
      "193:\tlearn: 0.7956008\ttotal: 3m 50s\tremaining: 6m 2s\n",
      "194:\tlearn: 0.7955908\ttotal: 3m 51s\tremaining: 6m 1s\n",
      "195:\tlearn: 0.7955777\ttotal: 3m 52s\tremaining: 6m\n",
      "196:\tlearn: 0.7955683\ttotal: 3m 53s\tremaining: 5m 59s\n",
      "197:\tlearn: 0.7955600\ttotal: 3m 54s\tremaining: 5m 58s\n",
      "198:\tlearn: 0.7955491\ttotal: 3m 55s\tremaining: 5m 56s\n",
      "199:\tlearn: 0.7955406\ttotal: 3m 57s\tremaining: 5m 55s\n",
      "200:\tlearn: 0.7955335\ttotal: 3m 58s\tremaining: 5m 54s\n",
      "201:\tlearn: 0.7955237\ttotal: 3m 59s\tremaining: 5m 53s\n",
      "202:\tlearn: 0.7955128\ttotal: 4m\tremaining: 5m 52s\n",
      "203:\tlearn: 0.7955034\ttotal: 4m 2s\tremaining: 5m 51s\n",
      "204:\tlearn: 0.7954956\ttotal: 4m 3s\tremaining: 5m 50s\n",
      "205:\tlearn: 0.7954872\ttotal: 4m 4s\tremaining: 5m 48s\n",
      "206:\tlearn: 0.7954806\ttotal: 4m 5s\tremaining: 5m 47s\n",
      "207:\tlearn: 0.7954712\ttotal: 4m 6s\tremaining: 5m 46s\n",
      "208:\tlearn: 0.7954639\ttotal: 4m 7s\tremaining: 5m 45s\n",
      "209:\tlearn: 0.7954564\ttotal: 4m 9s\tremaining: 5m 43s\n",
      "210:\tlearn: 0.7954510\ttotal: 4m 10s\tremaining: 5m 42s\n",
      "211:\tlearn: 0.7954445\ttotal: 4m 11s\tremaining: 5m 41s\n",
      "212:\tlearn: 0.7954364\ttotal: 4m 12s\tremaining: 5m 40s\n",
      "213:\tlearn: 0.7954306\ttotal: 4m 13s\tremaining: 5m 38s\n",
      "214:\tlearn: 0.7954238\ttotal: 4m 14s\tremaining: 5m 37s\n",
      "215:\tlearn: 0.7954154\ttotal: 4m 15s\tremaining: 5m 36s\n",
      "216:\tlearn: 0.7954086\ttotal: 4m 17s\tremaining: 5m 35s\n",
      "217:\tlearn: 0.7953990\ttotal: 4m 18s\tremaining: 5m 34s\n",
      "218:\tlearn: 0.7953885\ttotal: 4m 19s\tremaining: 5m 33s\n",
      "219:\tlearn: 0.7953809\ttotal: 4m 21s\tremaining: 5m 32s\n",
      "220:\tlearn: 0.7953728\ttotal: 4m 22s\tremaining: 5m 31s\n",
      "221:\tlearn: 0.7953676\ttotal: 4m 23s\tremaining: 5m 29s\n",
      "222:\tlearn: 0.7953609\ttotal: 4m 24s\tremaining: 5m 28s\n",
      "223:\tlearn: 0.7953534\ttotal: 4m 25s\tremaining: 5m 27s\n",
      "224:\tlearn: 0.7953490\ttotal: 4m 26s\tremaining: 5m 26s\n",
      "225:\tlearn: 0.7953440\ttotal: 4m 28s\tremaining: 5m 24s\n",
      "226:\tlearn: 0.7953368\ttotal: 4m 29s\tremaining: 5m 23s\n",
      "227:\tlearn: 0.7953287\ttotal: 4m 30s\tremaining: 5m 22s\n",
      "228:\tlearn: 0.7953216\ttotal: 4m 31s\tremaining: 5m 21s\n",
      "229:\tlearn: 0.7953140\ttotal: 4m 32s\tremaining: 5m 20s\n",
      "230:\tlearn: 0.7953089\ttotal: 4m 34s\tremaining: 5m 19s\n",
      "231:\tlearn: 0.7953057\ttotal: 4m 35s\tremaining: 5m 17s\n",
      "232:\tlearn: 0.7952993\ttotal: 4m 36s\tremaining: 5m 16s\n",
      "233:\tlearn: 0.7952925\ttotal: 4m 37s\tremaining: 5m 15s\n",
      "234:\tlearn: 0.7952866\ttotal: 4m 38s\tremaining: 5m 14s\n",
      "235:\tlearn: 0.7952827\ttotal: 4m 39s\tremaining: 5m 12s\n",
      "236:\tlearn: 0.7952776\ttotal: 4m 40s\tremaining: 5m 11s\n",
      "237:\tlearn: 0.7952724\ttotal: 4m 41s\tremaining: 5m 10s\n",
      "238:\tlearn: 0.7952645\ttotal: 4m 42s\tremaining: 5m 8s\n",
      "239:\tlearn: 0.7952601\ttotal: 4m 44s\tremaining: 5m 7s\n",
      "240:\tlearn: 0.7952552\ttotal: 4m 45s\tremaining: 5m 6s\n",
      "241:\tlearn: 0.7952498\ttotal: 4m 46s\tremaining: 5m 5s\n",
      "242:\tlearn: 0.7952431\ttotal: 4m 47s\tremaining: 5m 4s\n",
      "243:\tlearn: 0.7952371\ttotal: 4m 48s\tremaining: 5m 2s\n",
      "244:\tlearn: 0.7952333\ttotal: 4m 49s\tremaining: 5m 1s\n",
      "245:\tlearn: 0.7952284\ttotal: 4m 51s\tremaining: 5m\n",
      "246:\tlearn: 0.7952245\ttotal: 4m 52s\tremaining: 4m 59s\n",
      "247:\tlearn: 0.7952193\ttotal: 4m 53s\tremaining: 4m 57s\n",
      "248:\tlearn: 0.7952153\ttotal: 4m 54s\tremaining: 4m 56s\n",
      "249:\tlearn: 0.7952097\ttotal: 4m 55s\tremaining: 4m 55s\n",
      "250:\tlearn: 0.7952052\ttotal: 4m 56s\tremaining: 4m 54s\n",
      "251:\tlearn: 0.7952005\ttotal: 4m 57s\tremaining: 4m 53s\n",
      "252:\tlearn: 0.7951962\ttotal: 4m 58s\tremaining: 4m 51s\n",
      "253:\tlearn: 0.7951925\ttotal: 4m 59s\tremaining: 4m 50s\n",
      "254:\tlearn: 0.7951862\ttotal: 5m 1s\tremaining: 4m 49s\n",
      "255:\tlearn: 0.7951796\ttotal: 5m 2s\tremaining: 4m 48s\n",
      "256:\tlearn: 0.7951749\ttotal: 5m 3s\tremaining: 4m 46s\n",
      "257:\tlearn: 0.7951718\ttotal: 5m 4s\tremaining: 4m 45s\n",
      "258:\tlearn: 0.7951675\ttotal: 5m 5s\tremaining: 4m 44s\n",
      "259:\tlearn: 0.7951625\ttotal: 5m 6s\tremaining: 4m 42s\n",
      "260:\tlearn: 0.7951585\ttotal: 5m 7s\tremaining: 4m 41s\n",
      "261:\tlearn: 0.7951541\ttotal: 5m 8s\tremaining: 4m 40s\n",
      "262:\tlearn: 0.7951489\ttotal: 5m 9s\tremaining: 4m 39s\n",
      "263:\tlearn: 0.7951427\ttotal: 5m 10s\tremaining: 4m 37s\n",
      "264:\tlearn: 0.7951398\ttotal: 5m 11s\tremaining: 4m 36s\n",
      "265:\tlearn: 0.7951356\ttotal: 5m 13s\tremaining: 4m 35s\n",
      "266:\tlearn: 0.7951309\ttotal: 5m 14s\tremaining: 4m 34s\n",
      "267:\tlearn: 0.7951267\ttotal: 5m 15s\tremaining: 4m 32s\n",
      "268:\tlearn: 0.7951230\ttotal: 5m 16s\tremaining: 4m 31s\n",
      "269:\tlearn: 0.7951192\ttotal: 5m 17s\tremaining: 4m 30s\n",
      "270:\tlearn: 0.7951147\ttotal: 5m 18s\tremaining: 4m 29s\n",
      "271:\tlearn: 0.7951093\ttotal: 5m 19s\tremaining: 4m 27s\n",
      "272:\tlearn: 0.7951046\ttotal: 5m 20s\tremaining: 4m 26s\n",
      "273:\tlearn: 0.7950993\ttotal: 5m 21s\tremaining: 4m 25s\n",
      "274:\tlearn: 0.7950944\ttotal: 5m 22s\tremaining: 4m 24s\n",
      "275:\tlearn: 0.7950890\ttotal: 5m 23s\tremaining: 4m 22s\n",
      "276:\tlearn: 0.7950861\ttotal: 5m 24s\tremaining: 4m 21s\n",
      "277:\tlearn: 0.7950822\ttotal: 5m 26s\tremaining: 4m 20s\n",
      "278:\tlearn: 0.7950763\ttotal: 5m 27s\tremaining: 4m 19s\n",
      "279:\tlearn: 0.7950706\ttotal: 5m 28s\tremaining: 4m 17s\n",
      "280:\tlearn: 0.7950665\ttotal: 5m 29s\tremaining: 4m 16s\n",
      "281:\tlearn: 0.7950617\ttotal: 5m 30s\tremaining: 4m 15s\n",
      "282:\tlearn: 0.7950574\ttotal: 5m 31s\tremaining: 4m 14s\n",
      "283:\tlearn: 0.7950529\ttotal: 5m 32s\tremaining: 4m 13s\n",
      "284:\tlearn: 0.7950484\ttotal: 5m 34s\tremaining: 4m 11s\n",
      "285:\tlearn: 0.7950450\ttotal: 5m 35s\tremaining: 4m 10s\n",
      "286:\tlearn: 0.7950418\ttotal: 5m 36s\tremaining: 4m 9s\n",
      "287:\tlearn: 0.7950387\ttotal: 5m 37s\tremaining: 4m 8s\n",
      "288:\tlearn: 0.7950356\ttotal: 5m 38s\tremaining: 4m 7s\n",
      "289:\tlearn: 0.7950328\ttotal: 5m 39s\tremaining: 4m 5s\n",
      "290:\tlearn: 0.7950289\ttotal: 5m 40s\tremaining: 4m 4s\n",
      "291:\tlearn: 0.7950257\ttotal: 5m 41s\tremaining: 4m 3s\n",
      "292:\tlearn: 0.7950220\ttotal: 5m 42s\tremaining: 4m 2s\n",
      "293:\tlearn: 0.7950178\ttotal: 5m 43s\tremaining: 4m\n",
      "294:\tlearn: 0.7950139\ttotal: 5m 45s\tremaining: 3m 59s\n",
      "295:\tlearn: 0.7950097\ttotal: 5m 46s\tremaining: 3m 58s\n",
      "296:\tlearn: 0.7950064\ttotal: 5m 47s\tremaining: 3m 57s\n",
      "297:\tlearn: 0.7950031\ttotal: 5m 48s\tremaining: 3m 56s\n",
      "298:\tlearn: 0.7949995\ttotal: 5m 49s\tremaining: 3m 55s\n",
      "299:\tlearn: 0.7949953\ttotal: 5m 51s\tremaining: 3m 54s\n",
      "300:\tlearn: 0.7949923\ttotal: 5m 52s\tremaining: 3m 52s\n",
      "301:\tlearn: 0.7949885\ttotal: 5m 53s\tremaining: 3m 51s\n",
      "302:\tlearn: 0.7949845\ttotal: 5m 54s\tremaining: 3m 50s\n",
      "303:\tlearn: 0.7949806\ttotal: 5m 55s\tremaining: 3m 49s\n",
      "304:\tlearn: 0.7949768\ttotal: 5m 57s\tremaining: 3m 48s\n",
      "305:\tlearn: 0.7949740\ttotal: 5m 58s\tremaining: 3m 47s\n",
      "306:\tlearn: 0.7949694\ttotal: 5m 59s\tremaining: 3m 45s\n",
      "307:\tlearn: 0.7949662\ttotal: 6m\tremaining: 3m 44s\n",
      "308:\tlearn: 0.7949610\ttotal: 6m 1s\tremaining: 3m 43s\n"
     ]
    },
    {
     "name": "stdout",
     "output_type": "stream",
     "text": [
      "309:\tlearn: 0.7949585\ttotal: 6m 3s\tremaining: 3m 42s\n",
      "310:\tlearn: 0.7949551\ttotal: 6m 4s\tremaining: 3m 41s\n",
      "311:\tlearn: 0.7949502\ttotal: 6m 5s\tremaining: 3m 40s\n",
      "312:\tlearn: 0.7949470\ttotal: 6m 6s\tremaining: 3m 38s\n",
      "313:\tlearn: 0.7949435\ttotal: 6m 7s\tremaining: 3m 37s\n",
      "314:\tlearn: 0.7949395\ttotal: 6m 8s\tremaining: 3m 36s\n",
      "315:\tlearn: 0.7949353\ttotal: 6m 9s\tremaining: 3m 35s\n",
      "316:\tlearn: 0.7949315\ttotal: 6m 10s\tremaining: 3m 34s\n",
      "317:\tlearn: 0.7949285\ttotal: 6m 12s\tremaining: 3m 32s\n",
      "318:\tlearn: 0.7949252\ttotal: 6m 13s\tremaining: 3m 31s\n",
      "319:\tlearn: 0.7949211\ttotal: 6m 14s\tremaining: 3m 30s\n",
      "320:\tlearn: 0.7949169\ttotal: 6m 15s\tremaining: 3m 29s\n",
      "321:\tlearn: 0.7949132\ttotal: 6m 16s\tremaining: 3m 28s\n",
      "322:\tlearn: 0.7949118\ttotal: 6m 17s\tremaining: 3m 27s\n",
      "323:\tlearn: 0.7949080\ttotal: 6m 18s\tremaining: 3m 25s\n",
      "324:\tlearn: 0.7949058\ttotal: 6m 20s\tremaining: 3m 24s\n",
      "325:\tlearn: 0.7949029\ttotal: 6m 21s\tremaining: 3m 23s\n",
      "326:\tlearn: 0.7948985\ttotal: 6m 22s\tremaining: 3m 22s\n",
      "327:\tlearn: 0.7948947\ttotal: 6m 23s\tremaining: 3m 21s\n",
      "328:\tlearn: 0.7948896\ttotal: 6m 25s\tremaining: 3m 20s\n",
      "329:\tlearn: 0.7948870\ttotal: 6m 26s\tremaining: 3m 19s\n",
      "330:\tlearn: 0.7948822\ttotal: 6m 27s\tremaining: 3m 17s\n",
      "331:\tlearn: 0.7948781\ttotal: 6m 28s\tremaining: 3m 16s\n",
      "332:\tlearn: 0.7948755\ttotal: 6m 30s\tremaining: 3m 15s\n",
      "333:\tlearn: 0.7948729\ttotal: 6m 31s\tremaining: 3m 14s\n",
      "334:\tlearn: 0.7948690\ttotal: 6m 32s\tremaining: 3m 13s\n",
      "335:\tlearn: 0.7948658\ttotal: 6m 33s\tremaining: 3m 12s\n",
      "336:\tlearn: 0.7948630\ttotal: 6m 34s\tremaining: 3m 10s\n",
      "337:\tlearn: 0.7948587\ttotal: 6m 36s\tremaining: 3m 9s\n",
      "338:\tlearn: 0.7948564\ttotal: 6m 37s\tremaining: 3m 8s\n",
      "339:\tlearn: 0.7948534\ttotal: 6m 38s\tremaining: 3m 7s\n",
      "340:\tlearn: 0.7948504\ttotal: 6m 39s\tremaining: 3m 6s\n",
      "341:\tlearn: 0.7948475\ttotal: 6m 40s\tremaining: 3m 5s\n",
      "342:\tlearn: 0.7948449\ttotal: 6m 41s\tremaining: 3m 3s\n",
      "343:\tlearn: 0.7948421\ttotal: 6m 43s\tremaining: 3m 2s\n",
      "344:\tlearn: 0.7948393\ttotal: 6m 44s\tremaining: 3m 1s\n",
      "345:\tlearn: 0.7948359\ttotal: 6m 45s\tremaining: 3m\n",
      "346:\tlearn: 0.7948331\ttotal: 6m 46s\tremaining: 2m 59s\n",
      "347:\tlearn: 0.7948288\ttotal: 6m 47s\tremaining: 2m 58s\n",
      "348:\tlearn: 0.7948269\ttotal: 6m 48s\tremaining: 2m 56s\n",
      "349:\tlearn: 0.7948235\ttotal: 6m 50s\tremaining: 2m 55s\n",
      "350:\tlearn: 0.7948210\ttotal: 6m 51s\tremaining: 2m 54s\n",
      "351:\tlearn: 0.7948183\ttotal: 6m 52s\tremaining: 2m 53s\n",
      "352:\tlearn: 0.7948141\ttotal: 6m 53s\tremaining: 2m 52s\n",
      "353:\tlearn: 0.7948110\ttotal: 6m 54s\tremaining: 2m 51s\n",
      "354:\tlearn: 0.7948071\ttotal: 6m 56s\tremaining: 2m 49s\n",
      "355:\tlearn: 0.7948032\ttotal: 6m 57s\tremaining: 2m 48s\n",
      "356:\tlearn: 0.7947998\ttotal: 6m 58s\tremaining: 2m 47s\n",
      "357:\tlearn: 0.7947964\ttotal: 6m 59s\tremaining: 2m 46s\n",
      "358:\tlearn: 0.7947931\ttotal: 7m\tremaining: 2m 45s\n",
      "359:\tlearn: 0.7947895\ttotal: 7m 2s\tremaining: 2m 44s\n",
      "360:\tlearn: 0.7947858\ttotal: 7m 3s\tremaining: 2m 42s\n",
      "361:\tlearn: 0.7947825\ttotal: 7m 4s\tremaining: 2m 41s\n",
      "362:\tlearn: 0.7947789\ttotal: 7m 5s\tremaining: 2m 40s\n",
      "363:\tlearn: 0.7947764\ttotal: 7m 6s\tremaining: 2m 39s\n",
      "364:\tlearn: 0.7947733\ttotal: 7m 7s\tremaining: 2m 38s\n",
      "365:\tlearn: 0.7947706\ttotal: 7m 9s\tremaining: 2m 37s\n",
      "366:\tlearn: 0.7947685\ttotal: 7m 10s\tremaining: 2m 35s\n",
      "367:\tlearn: 0.7947659\ttotal: 7m 11s\tremaining: 2m 34s\n",
      "368:\tlearn: 0.7947631\ttotal: 7m 12s\tremaining: 2m 33s\n",
      "369:\tlearn: 0.7947605\ttotal: 7m 14s\tremaining: 2m 32s\n",
      "370:\tlearn: 0.7947570\ttotal: 7m 15s\tremaining: 2m 31s\n",
      "371:\tlearn: 0.7947536\ttotal: 7m 16s\tremaining: 2m 30s\n",
      "372:\tlearn: 0.7947500\ttotal: 7m 17s\tremaining: 2m 29s\n",
      "373:\tlearn: 0.7947460\ttotal: 7m 19s\tremaining: 2m 27s\n",
      "374:\tlearn: 0.7947433\ttotal: 7m 20s\tremaining: 2m 26s\n",
      "375:\tlearn: 0.7947408\ttotal: 7m 21s\tremaining: 2m 25s\n",
      "376:\tlearn: 0.7947372\ttotal: 7m 22s\tremaining: 2m 24s\n",
      "377:\tlearn: 0.7947330\ttotal: 7m 24s\tremaining: 2m 23s\n",
      "378:\tlearn: 0.7947304\ttotal: 7m 25s\tremaining: 2m 22s\n",
      "379:\tlearn: 0.7947278\ttotal: 7m 26s\tremaining: 2m 21s\n",
      "380:\tlearn: 0.7947243\ttotal: 7m 27s\tremaining: 2m 19s\n",
      "381:\tlearn: 0.7947203\ttotal: 7m 29s\tremaining: 2m 18s\n",
      "382:\tlearn: 0.7947181\ttotal: 7m 30s\tremaining: 2m 17s\n",
      "383:\tlearn: 0.7947155\ttotal: 7m 31s\tremaining: 2m 16s\n",
      "384:\tlearn: 0.7947127\ttotal: 7m 32s\tremaining: 2m 15s\n",
      "385:\tlearn: 0.7947099\ttotal: 7m 33s\tremaining: 2m 14s\n",
      "386:\tlearn: 0.7947073\ttotal: 7m 35s\tremaining: 2m 12s\n",
      "387:\tlearn: 0.7947038\ttotal: 7m 36s\tremaining: 2m 11s\n",
      "388:\tlearn: 0.7947015\ttotal: 7m 37s\tremaining: 2m 10s\n",
      "389:\tlearn: 0.7946989\ttotal: 7m 38s\tremaining: 2m 9s\n",
      "390:\tlearn: 0.7946962\ttotal: 7m 39s\tremaining: 2m 8s\n",
      "391:\tlearn: 0.7946933\ttotal: 7m 41s\tremaining: 2m 7s\n",
      "392:\tlearn: 0.7946904\ttotal: 7m 42s\tremaining: 2m 5s\n",
      "393:\tlearn: 0.7946868\ttotal: 7m 43s\tremaining: 2m 4s\n",
      "394:\tlearn: 0.7946841\ttotal: 7m 44s\tremaining: 2m 3s\n",
      "395:\tlearn: 0.7946811\ttotal: 7m 45s\tremaining: 2m 2s\n",
      "396:\tlearn: 0.7946780\ttotal: 7m 47s\tremaining: 2m 1s\n",
      "397:\tlearn: 0.7946757\ttotal: 7m 48s\tremaining: 2m\n",
      "398:\tlearn: 0.7946734\ttotal: 7m 49s\tremaining: 1m 58s\n",
      "399:\tlearn: 0.7946705\ttotal: 7m 50s\tremaining: 1m 57s\n",
      "400:\tlearn: 0.7946674\ttotal: 7m 51s\tremaining: 1m 56s\n",
      "401:\tlearn: 0.7946636\ttotal: 7m 53s\tremaining: 1m 55s\n",
      "402:\tlearn: 0.7946607\ttotal: 7m 54s\tremaining: 1m 54s\n",
      "403:\tlearn: 0.7946586\ttotal: 7m 55s\tremaining: 1m 52s\n",
      "404:\tlearn: 0.7946561\ttotal: 7m 56s\tremaining: 1m 51s\n",
      "405:\tlearn: 0.7946528\ttotal: 7m 58s\tremaining: 1m 50s\n",
      "406:\tlearn: 0.7946499\ttotal: 7m 59s\tremaining: 1m 49s\n",
      "407:\tlearn: 0.7946471\ttotal: 8m\tremaining: 1m 48s\n",
      "408:\tlearn: 0.7946440\ttotal: 8m 2s\tremaining: 1m 47s\n",
      "409:\tlearn: 0.7946412\ttotal: 8m 3s\tremaining: 1m 46s\n",
      "410:\tlearn: 0.7946386\ttotal: 8m 4s\tremaining: 1m 44s\n",
      "411:\tlearn: 0.7946373\ttotal: 8m 5s\tremaining: 1m 43s\n",
      "412:\tlearn: 0.7946348\ttotal: 8m 7s\tremaining: 1m 42s\n",
      "413:\tlearn: 0.7946325\ttotal: 8m 8s\tremaining: 1m 41s\n",
      "414:\tlearn: 0.7946300\ttotal: 8m 10s\tremaining: 1m 40s\n",
      "415:\tlearn: 0.7946277\ttotal: 8m 11s\tremaining: 1m 39s\n",
      "416:\tlearn: 0.7946244\ttotal: 8m 12s\tremaining: 1m 37s\n",
      "417:\tlearn: 0.7946221\ttotal: 8m 13s\tremaining: 1m 36s\n",
      "418:\tlearn: 0.7946197\ttotal: 8m 14s\tremaining: 1m 35s\n",
      "419:\tlearn: 0.7946178\ttotal: 8m 15s\tremaining: 1m 34s\n",
      "420:\tlearn: 0.7946157\ttotal: 8m 16s\tremaining: 1m 33s\n",
      "421:\tlearn: 0.7946139\ttotal: 8m 17s\tremaining: 1m 32s\n",
      "422:\tlearn: 0.7946120\ttotal: 8m 19s\tremaining: 1m 30s\n",
      "423:\tlearn: 0.7946094\ttotal: 8m 20s\tremaining: 1m 29s\n",
      "424:\tlearn: 0.7946067\ttotal: 8m 21s\tremaining: 1m 28s\n",
      "425:\tlearn: 0.7946038\ttotal: 8m 22s\tremaining: 1m 27s\n",
      "426:\tlearn: 0.7946019\ttotal: 8m 23s\tremaining: 1m 26s\n",
      "427:\tlearn: 0.7945998\ttotal: 8m 24s\tremaining: 1m 24s\n",
      "428:\tlearn: 0.7945977\ttotal: 8m 26s\tremaining: 1m 23s\n",
      "429:\tlearn: 0.7945953\ttotal: 8m 27s\tremaining: 1m 22s\n",
      "430:\tlearn: 0.7945920\ttotal: 8m 28s\tremaining: 1m 21s\n",
      "431:\tlearn: 0.7945899\ttotal: 8m 29s\tremaining: 1m 20s\n",
      "432:\tlearn: 0.7945877\ttotal: 8m 30s\tremaining: 1m 19s\n",
      "433:\tlearn: 0.7945854\ttotal: 8m 31s\tremaining: 1m 17s\n",
      "434:\tlearn: 0.7945830\ttotal: 8m 33s\tremaining: 1m 16s\n",
      "435:\tlearn: 0.7945805\ttotal: 8m 34s\tremaining: 1m 15s\n",
      "436:\tlearn: 0.7945785\ttotal: 8m 35s\tremaining: 1m 14s\n",
      "437:\tlearn: 0.7945768\ttotal: 8m 36s\tremaining: 1m 13s\n",
      "438:\tlearn: 0.7945740\ttotal: 8m 37s\tremaining: 1m 11s\n",
      "439:\tlearn: 0.7945721\ttotal: 8m 38s\tremaining: 1m 10s\n",
      "440:\tlearn: 0.7945692\ttotal: 8m 40s\tremaining: 1m 9s\n",
      "441:\tlearn: 0.7945669\ttotal: 8m 41s\tremaining: 1m 8s\n",
      "442:\tlearn: 0.7945642\ttotal: 8m 42s\tremaining: 1m 7s\n",
      "443:\tlearn: 0.7945622\ttotal: 8m 43s\tremaining: 1m 6s\n",
      "444:\tlearn: 0.7945598\ttotal: 8m 44s\tremaining: 1m 4s\n",
      "445:\tlearn: 0.7945581\ttotal: 8m 45s\tremaining: 1m 3s\n",
      "446:\tlearn: 0.7945552\ttotal: 8m 47s\tremaining: 1m 2s\n",
      "447:\tlearn: 0.7945535\ttotal: 8m 48s\tremaining: 1m 1s\n",
      "448:\tlearn: 0.7945511\ttotal: 8m 49s\tremaining: 1m\n",
      "449:\tlearn: 0.7945477\ttotal: 8m 51s\tremaining: 59s\n",
      "450:\tlearn: 0.7945451\ttotal: 8m 52s\tremaining: 57.8s\n",
      "451:\tlearn: 0.7945421\ttotal: 8m 53s\tremaining: 56.7s\n",
      "452:\tlearn: 0.7945404\ttotal: 8m 54s\tremaining: 55.5s\n",
      "453:\tlearn: 0.7945377\ttotal: 8m 56s\tremaining: 54.3s\n",
      "454:\tlearn: 0.7945355\ttotal: 8m 57s\tremaining: 53.1s\n",
      "455:\tlearn: 0.7945344\ttotal: 8m 58s\tremaining: 52s\n",
      "456:\tlearn: 0.7945326\ttotal: 8m 59s\tremaining: 50.8s\n",
      "457:\tlearn: 0.7945293\ttotal: 9m 1s\tremaining: 49.6s\n",
      "458:\tlearn: 0.7945266\ttotal: 9m 2s\tremaining: 48.4s\n",
      "459:\tlearn: 0.7945252\ttotal: 9m 3s\tremaining: 47.3s\n",
      "460:\tlearn: 0.7945228\ttotal: 9m 4s\tremaining: 46.1s\n",
      "461:\tlearn: 0.7945202\ttotal: 9m 5s\tremaining: 44.9s\n",
      "462:\tlearn: 0.7945180\ttotal: 9m 6s\tremaining: 43.7s\n"
     ]
    },
    {
     "name": "stdout",
     "output_type": "stream",
     "text": [
      "463:\tlearn: 0.7945158\ttotal: 9m 8s\tremaining: 42.5s\n",
      "464:\tlearn: 0.7945134\ttotal: 9m 9s\tremaining: 41.3s\n",
      "465:\tlearn: 0.7945112\ttotal: 9m 10s\tremaining: 40.2s\n",
      "466:\tlearn: 0.7945097\ttotal: 9m 11s\tremaining: 39s\n",
      "467:\tlearn: 0.7945071\ttotal: 9m 12s\tremaining: 37.8s\n",
      "468:\tlearn: 0.7945050\ttotal: 9m 13s\tremaining: 36.6s\n",
      "469:\tlearn: 0.7945031\ttotal: 9m 15s\tremaining: 35.4s\n",
      "470:\tlearn: 0.7945011\ttotal: 9m 16s\tremaining: 34.2s\n",
      "471:\tlearn: 0.7944994\ttotal: 9m 17s\tremaining: 33.1s\n",
      "472:\tlearn: 0.7944973\ttotal: 9m 18s\tremaining: 31.9s\n",
      "473:\tlearn: 0.7944953\ttotal: 9m 19s\tremaining: 30.7s\n",
      "474:\tlearn: 0.7944931\ttotal: 9m 20s\tremaining: 29.5s\n",
      "475:\tlearn: 0.7944914\ttotal: 9m 22s\tremaining: 28.3s\n",
      "476:\tlearn: 0.7944889\ttotal: 9m 23s\tremaining: 27.2s\n",
      "477:\tlearn: 0.7944870\ttotal: 9m 24s\tremaining: 26s\n",
      "478:\tlearn: 0.7944848\ttotal: 9m 25s\tremaining: 24.8s\n",
      "479:\tlearn: 0.7944838\ttotal: 9m 26s\tremaining: 23.6s\n",
      "480:\tlearn: 0.7944827\ttotal: 9m 27s\tremaining: 22.4s\n",
      "481:\tlearn: 0.7944805\ttotal: 9m 28s\tremaining: 21.2s\n",
      "482:\tlearn: 0.7944780\ttotal: 9m 29s\tremaining: 20.1s\n",
      "483:\tlearn: 0.7944762\ttotal: 9m 31s\tremaining: 18.9s\n",
      "484:\tlearn: 0.7944737\ttotal: 9m 32s\tremaining: 17.7s\n",
      "485:\tlearn: 0.7944719\ttotal: 9m 33s\tremaining: 16.5s\n",
      "486:\tlearn: 0.7944707\ttotal: 9m 34s\tremaining: 15.3s\n",
      "487:\tlearn: 0.7944686\ttotal: 9m 35s\tremaining: 14.2s\n",
      "488:\tlearn: 0.7944654\ttotal: 9m 36s\tremaining: 13s\n",
      "489:\tlearn: 0.7944637\ttotal: 9m 37s\tremaining: 11.8s\n",
      "490:\tlearn: 0.7944610\ttotal: 9m 39s\tremaining: 10.6s\n",
      "491:\tlearn: 0.7944583\ttotal: 9m 40s\tremaining: 9.44s\n",
      "492:\tlearn: 0.7944559\ttotal: 9m 41s\tremaining: 8.26s\n",
      "493:\tlearn: 0.7944536\ttotal: 9m 42s\tremaining: 7.08s\n",
      "494:\tlearn: 0.7944514\ttotal: 9m 43s\tremaining: 5.89s\n",
      "495:\tlearn: 0.7944477\ttotal: 9m 44s\tremaining: 4.72s\n",
      "496:\tlearn: 0.7944458\ttotal: 9m 45s\tremaining: 3.54s\n",
      "497:\tlearn: 0.7944440\ttotal: 9m 47s\tremaining: 2.36s\n",
      "498:\tlearn: 0.7944422\ttotal: 9m 48s\tremaining: 1.18s\n",
      "499:\tlearn: 0.7944393\ttotal: 9m 49s\tremaining: 0us\n"
     ]
    },
    {
     "data": {
      "text/plain": [
       "<catboost.core.CatBoostRegressor at 0x1f741aa66a0>"
      ]
     },
     "execution_count": 42,
     "metadata": {},
     "output_type": "execute_result"
    }
   ],
   "source": [
    "model.fit(train_data, train_target, verbose=True, sample_weight=weights, cat_features=cat_feature_columns)"
   ]
  },
  {
   "cell_type": "code",
   "execution_count": 43,
   "metadata": {},
   "outputs": [],
   "source": [
    "catboost_predict = model.predict(test_data)"
   ]
  },
  {
   "cell_type": "code",
   "execution_count": 44,
   "metadata": {},
   "outputs": [],
   "source": [
    "als_test['catboost_predict'] = catboost_predict"
   ]
  },
  {
   "cell_type": "code",
   "execution_count": 45,
   "metadata": {
    "scrolled": true
   },
   "outputs": [
    {
     "name": "stdout",
     "output_type": "stream",
     "text": [
      "0.6164227880536982\n"
     ]
    }
   ],
   "source": [
    "print(vector_rmse_asymmetric(als_test, 'rating', 'catboost_predict'))"
   ]
  },
  {
   "cell_type": "code",
   "execution_count": 46,
   "metadata": {},
   "outputs": [
    {
     "data": {
      "text/plain": [
       "array([9.56751815e+01, 1.26458764e+00, 7.26530242e-01, 6.10963869e-01,\n",
       "       2.91613439e-02, 1.79645481e-01, 8.40737713e-01, 6.73192238e-01])"
      ]
     },
     "execution_count": 46,
     "metadata": {},
     "output_type": "execute_result"
    }
   ],
   "source": [
    "model.feature_importances_"
   ]
  },
  {
   "cell_type": "code",
   "execution_count": null,
   "metadata": {},
   "outputs": [],
   "source": []
  },
  {
   "cell_type": "code",
   "execution_count": 47,
   "metadata": {},
   "outputs": [],
   "source": [
    "als_test['mean_predict'] = np.mean(test_data[['user_movie_ALS', 'user_genre_ALS', 'user_actor_ALS', 'averageRating']].values, axis=1)"
   ]
  },
  {
   "cell_type": "code",
   "execution_count": 48,
   "metadata": {},
   "outputs": [
    {
     "name": "stdout",
     "output_type": "stream",
     "text": [
      "0.6475399516024992\n"
     ]
    },
    {
     "name": "stderr",
     "output_type": "stream",
     "text": [
      "C:\\Users\\Evgeny\\Anaconda3\\lib\\site-packages\\ipykernel_launcher.py:15: RuntimeWarning: invalid value encountered in greater_equal\n",
      "  from ipykernel import kernelapp as app\n"
     ]
    }
   ],
   "source": [
    "print(vector_rmse_asymmetric(als_test, 'rating', 'mean_predict'))"
   ]
  },
  {
   "cell_type": "code",
   "execution_count": null,
   "metadata": {},
   "outputs": [],
   "source": []
  },
  {
   "cell_type": "code",
   "execution_count": 49,
   "metadata": {},
   "outputs": [
    {
     "name": "stderr",
     "output_type": "stream",
     "text": [
      "C:\\Users\\Evgeny\\Anaconda3\\lib\\site-packages\\numpy\\lib\\function_base.py:3405: RuntimeWarning: Invalid value encountered in median for 671110 results\n",
      "  r = func(a, **kwargs)\n"
     ]
    }
   ],
   "source": [
    "als_test['median_predict'] = np.median(test_data[['user_movie_ALS', 'user_genre_ALS', 'user_actor_ALS', 'averageRating']].values, axis=1)"
   ]
  },
  {
   "cell_type": "code",
   "execution_count": 50,
   "metadata": {},
   "outputs": [
    {
     "name": "stdout",
     "output_type": "stream",
     "text": [
      "0.6499199236058524\n"
     ]
    },
    {
     "name": "stderr",
     "output_type": "stream",
     "text": [
      "C:\\Users\\Evgeny\\Anaconda3\\lib\\site-packages\\ipykernel_launcher.py:15: RuntimeWarning: invalid value encountered in greater_equal\n",
      "  from ipykernel import kernelapp as app\n"
     ]
    }
   ],
   "source": [
    "print(vector_rmse_asymmetric(als_test, 'rating', 'median_predict'))"
   ]
  },
  {
   "cell_type": "code",
   "execution_count": null,
   "metadata": {},
   "outputs": [],
   "source": []
  },
  {
   "cell_type": "code",
   "execution_count": null,
   "metadata": {},
   "outputs": [],
   "source": []
  },
  {
   "cell_type": "code",
   "execution_count": 51,
   "metadata": {},
   "outputs": [],
   "source": [
    "final_test_results = model.predict(als_final_test[train_columns])"
   ]
  },
  {
   "cell_type": "code",
   "execution_count": 52,
   "metadata": {},
   "outputs": [],
   "source": [
    "als_final_test['prediction'] = final_test_results"
   ]
  },
  {
   "cell_type": "code",
   "execution_count": null,
   "metadata": {},
   "outputs": [],
   "source": [
    "als_final_test.to_csv('./prediction_2.csv')"
   ]
  },
  {
   "cell_type": "code",
   "execution_count": null,
   "metadata": {},
   "outputs": [],
   "source": [
    "import pickle"
   ]
  },
  {
   "cell_type": "code",
   "execution_count": null,
   "metadata": {},
   "outputs": [],
   "source": [
    "with open('./saved_catboost_model.pkl', 'wb') as f:\n",
    "    pickle.dump(model, f)"
   ]
  },
  {
   "cell_type": "code",
   "execution_count": null,
   "metadata": {},
   "outputs": [],
   "source": []
  },
  {
   "cell_type": "code",
   "execution_count": null,
   "metadata": {},
   "outputs": [],
   "source": []
  }
 ],
 "metadata": {
  "kernelspec": {
   "display_name": "Python 3",
   "language": "python",
   "name": "python3"
  },
  "language_info": {
   "codemirror_mode": {
    "name": "ipython",
    "version": 3
   },
   "file_extension": ".py",
   "mimetype": "text/x-python",
   "name": "python",
   "nbconvert_exporter": "python",
   "pygments_lexer": "ipython3",
   "version": "3.6.5"
  }
 },
 "nbformat": 4,
 "nbformat_minor": 2
}
